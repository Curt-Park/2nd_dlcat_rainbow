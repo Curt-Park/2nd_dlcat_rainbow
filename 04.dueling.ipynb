{
 "cells": [
  {
   "cell_type": "markdown",
   "metadata": {},
   "source": [
    "## Configurations for Colab"
   ]
  },
  {
   "cell_type": "code",
   "execution_count": 1,
   "metadata": {},
   "outputs": [],
   "source": [
    "import sys\n",
    "IN_COLAB = \"google.colab\" in sys.modules\n",
    "\n",
    "if IN_COLAB:\n",
    "    !apt install python-opengl\n",
    "    !apt install ffmpeg\n",
    "    !apt install xvfb\n",
    "    !pip install PyVirtualDisplay==3.0\n",
    "    !pip install gymnasium==0.28.1\n",
    "    from pyvirtualdisplay import Display\n",
    "    \n",
    "    # Start virtual display\n",
    "    dis = Display(visible=0, size=(400, 400))\n",
    "    dis.start()"
   ]
  },
  {
   "cell_type": "markdown",
   "metadata": {},
   "source": [
    "# 04. Dueling Network\n",
    "\n",
    "[Z. Wang et al., \"Dueling Network Architectures for Deep Reinforcement Learning.\" arXiv preprint arXiv:1511.06581, 2015.](https://arxiv.org/pdf/1511.06581.pdf)\n",
    "\n",
    "The proposed network architecture, which is named *dueling architecture*, explicitly separates the representation of state values and (state-dependent) action advantages. \n",
    "\n",
    "![fig1](https://user-images.githubusercontent.com/14961526/60322956-c2f0b600-99bb-11e9-9ed4-443bd14bc3b0.png)\n",
    "\n",
    "The dueling network automatically produces separate estimates of the state value function and advantage function, without any extra supervision. Intuitively, the dueling architecture can learn which states are (or are not) valuable, without having to learn the effect of each action for each state. This is particularly useful in states where its actions do not affect the environment in any relevant way. \n",
    "\n",
    "The dueling architecture represents both the value $V(s)$ and advantage $A(s, a)$ functions with a single deep model whose output combines the two to produce a state-action value $Q(s, a)$. Unlike in advantage updating, the representation and algorithm are decoupled by construction.\n",
    "\n",
    "$$A^\\pi (s, a) = Q^\\pi (s, a) - V^\\pi (s).$$\n",
    "\n",
    "The value function $V$ measures the how good it is to be in a particular state $s$. The $Q$ function, however, measures the the value of choosing a particular action when in this state. Now, using the definition of advantage, we might be tempted to construct the aggregating module as follows:\n",
    "\n",
    "$$Q(s, a; \\theta, \\alpha, \\beta) = V (s; \\theta, \\beta) + A(s, a; \\theta, \\alpha),$$\n",
    "\n",
    "where $\\theta$ denotes the parameters of the convolutional layers, while $\\alpha$ and $\\beta$ are the parameters of the two streams of fully-connected layers.\n",
    "\n",
    "Unfortunately, the above equation is unidentifiable in the sense that given $Q$ we cannot recover $V$ and $A$ uniquely; for example, there are uncountable pairs of $V$ and $A$ that make $Q$ values to zero. To address this issue of identifiability, we can force the advantage function estimator to have zero advantage at the chosen action. That is, we let the last module of the network implement the forward mapping.\n",
    "\n",
    "$$\n",
    "Q(s, a; \\theta, \\alpha, \\beta) = V (s; \\theta, \\beta) + \\big( A(s, a; \\theta, \\alpha) - \\max_{a' \\in |\\mathcal{A}|} A(s, a'; \\theta, \\alpha) \\big).\n",
    "$$\n",
    "\n",
    "This formula guarantees that we can recover the unique $V$ and $A$, but the optimization is not so stable because the advantages have to compensate any change to the optimal action’s advantage. Due to the reason, an alternative module that replaces the max operator with an average is proposed:\n",
    "\n",
    "$$\n",
    "Q(s, a; \\theta, \\alpha, \\beta) = V (s; \\theta, \\beta) + \\big( A(s, a; \\theta, \\alpha) - \\frac{1}{|\\mathcal{A}|} \\sum_{a'} A(s, a'; \\theta, \\alpha) \\big).\n",
    "$$\n",
    "\n",
    "Unlike the max advantage form, in this formula, the advantages only need to change as fast as the mean, so it increases the stability of optimization."
   ]
  },
  {
   "cell_type": "code",
   "execution_count": 2,
   "metadata": {},
   "outputs": [
    {
     "name": "stderr",
     "output_type": "stream",
     "text": [
      "/Users/jinwoo.park/miniforge3/envs/rainbow-is-all-you-need/lib/python3.8/site-packages/tqdm/auto.py:21: TqdmWarning: IProgress not found. Please update jupyter and ipywidgets. See https://ipywidgets.readthedocs.io/en/stable/user_install.html\n",
      "  from .autonotebook import tqdm as notebook_tqdm\n"
     ]
    }
   ],
   "source": [
    "import os\n",
    "from typing import Dict, List, Tuple\n",
    "\n",
    "import gymnasium as gym\n",
    "import matplotlib.pyplot as plt\n",
    "import numpy as np\n",
    "import torch\n",
    "import torch.nn as nn\n",
    "import torch.nn.functional as F\n",
    "import torch.optim as optim\n",
    "from IPython.display import clear_output\n",
    "from torch.nn.utils import clip_grad_norm_"
   ]
  },
  {
   "cell_type": "markdown",
   "metadata": {},
   "source": [
    "## Replay buffer\n",
    "\n",
    "Please see *01.dqn.ipynb* for detailed description."
   ]
  },
  {
   "cell_type": "code",
   "execution_count": 3,
   "metadata": {},
   "outputs": [],
   "source": [
    "class ReplayBuffer:\n",
    "    \"\"\"A simple numpy replay buffer.\"\"\"\n",
    "\n",
    "    def __init__(self, obs_dim: int, size: int, batch_size: int = 32):\n",
    "        self.obs_buf = np.zeros([size, obs_dim], dtype=np.float32)\n",
    "        self.next_obs_buf = np.zeros([size, obs_dim], dtype=np.float32)\n",
    "        self.acts_buf = np.zeros([size], dtype=np.float32)\n",
    "        self.rews_buf = np.zeros([size], dtype=np.float32)\n",
    "        self.done_buf = np.zeros(size, dtype=np.float32)\n",
    "        self.max_size, self.batch_size = size, batch_size\n",
    "        self.ptr, self.size, = 0, 0\n",
    "\n",
    "    def store(\n",
    "        self,\n",
    "        obs: np.ndarray,\n",
    "        act: np.ndarray, \n",
    "        rew: float, \n",
    "        next_obs: np.ndarray, \n",
    "        done: bool,\n",
    "    ):\n",
    "        self.obs_buf[self.ptr] = obs\n",
    "        self.next_obs_buf[self.ptr] = next_obs\n",
    "        self.acts_buf[self.ptr] = act\n",
    "        self.rews_buf[self.ptr] = rew\n",
    "        self.done_buf[self.ptr] = done\n",
    "        self.ptr = (self.ptr + 1) % self.max_size\n",
    "        self.size = min(self.size + 1, self.max_size)\n",
    "\n",
    "    def sample_batch(self) -> Dict[str, np.ndarray]:\n",
    "        idxs = np.random.choice(self.size, size=self.batch_size, replace=False)\n",
    "        return dict(obs=self.obs_buf[idxs],\n",
    "                    next_obs=self.next_obs_buf[idxs],\n",
    "                    acts=self.acts_buf[idxs],\n",
    "                    rews=self.rews_buf[idxs],\n",
    "                    done=self.done_buf[idxs])\n",
    "\n",
    "    def __len__(self) -> int:\n",
    "        return self.size"
   ]
  },
  {
   "cell_type": "markdown",
   "metadata": {},
   "source": [
    "## Dueling Network\n",
    "\n",
    "Carefully take a look at advantage and value layers separated from feature layer."
   ]
  },
  {
   "cell_type": "code",
   "execution_count": 4,
   "metadata": {},
   "outputs": [],
   "source": [
    "class Network(nn.Module):\n",
    "    def __init__(self, in_dim: int, out_dim: int):\n",
    "        \"\"\"Initialization.\"\"\"\n",
    "        super(Network, self).__init__()\n",
    "\n",
    "        # set common feature layer\n",
    "        self.feature_layer = nn.Sequential(\n",
    "            nn.Linear(in_dim, 128), \n",
    "            nn.ReLU(),\n",
    "        )\n",
    "        \n",
    "        # set advantage layer\n",
    "        self.advantage_layer = nn.Sequential(\n",
    "            nn.Linear(128, 128),\n",
    "            nn.ReLU(),\n",
    "            nn.Linear(128, out_dim),\n",
    "        )\n",
    "\n",
    "        # set value layer\n",
    "        self.value_layer = nn.Sequential(\n",
    "            nn.Linear(128, 128),\n",
    "            nn.ReLU(),\n",
    "            nn.Linear(128, 1),\n",
    "        )\n",
    "\n",
    "    def forward(self, x: torch.Tensor) -> torch.Tensor:\n",
    "        \"\"\"Forward method implementation.\"\"\"\n",
    "        feature = self.feature_layer(x)\n",
    "        \n",
    "        value = self.value_layer(feature)\n",
    "        advantage = self.advantage_layer(feature)\n",
    "\n",
    "        q = value + advantage - advantage.mean(dim=-1, keepdim=True)\n",
    "        \n",
    "        return q"
   ]
  },
  {
   "cell_type": "markdown",
   "metadata": {},
   "source": [
    "## DQN + DuelingNet Agent (w/o Double-DQN & PER)\n",
    "\n",
    "Here is a summary of DQNAgent class.\n",
    "\n",
    "| Method           | Note                                                 |\n",
    "| ---              | ---                                                  |\n",
    "|select_action     | select an action from the input state.               |\n",
    "|step              | take an action and return the response of the env.   |\n",
    "|compute_dqn_loss  | return dqn loss.                                     |\n",
    "|update_model      | update the model by gradient descent.                |\n",
    "|target_hard_update| hard update from the local model to the target model.|\n",
    "|train             | train the agent during num_frames.                   |\n",
    "|test              | test the agent (1 episode).                          |\n",
    "|plot              | plot the training progresses.                        |\n",
    "\n",
    "\n",
    "Aside from the dueling network architecture, the authors suggest to use Double-DQN and Prioritized Experience Replay as extra components for better performance. However, we don't implement them to simplify the tutorial. There is only one diffrence between DQNAgent here and the one from *01.dqn.ipynb* and that is the usage of clip_grad_norm_ to prevent gradient exploding."
   ]
  },
  {
   "cell_type": "code",
   "execution_count": 5,
   "metadata": {},
   "outputs": [],
   "source": [
    "class DQNAgent:\n",
    "    \"\"\"DQN Agent interacting with environment.\n",
    "    \n",
    "    Attribute:\n",
    "        env (gym.Env): openAI Gym environment\n",
    "        memory (ReplayBuffer): replay memory to store transitions\n",
    "        batch_size (int): batch size for sampling\n",
    "        epsilon (float): parameter for epsilon greedy policy\n",
    "        epsilon_decay (float): step size to decrease epsilon\n",
    "        max_epsilon (float): max value of epsilon\n",
    "        min_epsilon (float): min value of epsilon\n",
    "        target_update (int): period for target model's hard update\n",
    "        gamma (float): discount factor\n",
    "        dqn (Network): model to train and select actions\n",
    "        dqn_target (Network): target model to update\n",
    "        optimizer (torch.optim): optimizer for training dqn\n",
    "        transition (list): transition information including\n",
    "                           state, action, reward, next_state, done\n",
    "    \"\"\"\n",
    "\n",
    "    def __init__(\n",
    "        self, \n",
    "        env: gym.Env,\n",
    "        memory_size: int,\n",
    "        batch_size: int,\n",
    "        target_update: int,\n",
    "        epsilon_decay: float,\n",
    "        seed: int,\n",
    "        max_epsilon: float = 1.0,\n",
    "        min_epsilon: float = 0.1,\n",
    "        gamma: float = 0.99,\n",
    "    ):\n",
    "        \"\"\"Initialization.\n",
    "        \n",
    "        Args:\n",
    "            env (gym.Env): openAI Gym environment\n",
    "            memory_size (int): length of memory\n",
    "            batch_size (int): batch size for sampling\n",
    "            target_update (int): period for target model's hard update\n",
    "            epsilon_decay (float): step size to decrease epsilon\n",
    "            lr (float): learning rate\n",
    "            max_epsilon (float): max value of epsilon\n",
    "            min_epsilon (float): min value of epsilon\n",
    "            gamma (float): discount factor\n",
    "        \"\"\"\n",
    "        obs_dim = env.observation_space.shape[0]\n",
    "        action_dim = env.action_space.n\n",
    "        \n",
    "        self.env = env\n",
    "        self.memory = ReplayBuffer(obs_dim, memory_size, batch_size)\n",
    "        self.batch_size = batch_size\n",
    "        self.epsilon = max_epsilon\n",
    "        self.epsilon_decay = epsilon_decay\n",
    "        self.seed = seed\n",
    "        self.max_epsilon = max_epsilon\n",
    "        self.min_epsilon = min_epsilon\n",
    "        self.target_update = target_update\n",
    "        self.gamma = gamma\n",
    "        \n",
    "        # device: cpu / gpu\n",
    "        self.device = torch.device(\n",
    "            \"cuda\" if torch.cuda.is_available() else \"cpu\"\n",
    "        )\n",
    "        print(self.device)\n",
    "\n",
    "        # networks: dqn, dqn_target\n",
    "        self.dqn = Network(obs_dim, action_dim).to(self.device)\n",
    "        self.dqn_target = Network(obs_dim, action_dim).to(self.device)\n",
    "        self.dqn_target.load_state_dict(self.dqn.state_dict())\n",
    "        self.dqn_target.eval()\n",
    "        \n",
    "        # optimizer\n",
    "        self.optimizer = optim.Adam(self.dqn.parameters())\n",
    "\n",
    "        # transition to store in memory\n",
    "        self.transition = list()\n",
    "        \n",
    "        # mode: train / test\n",
    "        self.is_test = False\n",
    "\n",
    "    def select_action(self, state: np.ndarray) -> np.ndarray:\n",
    "        \"\"\"Select an action from the input state.\"\"\"\n",
    "        # epsilon greedy policy\n",
    "        if self.epsilon > np.random.random():\n",
    "            selected_action = self.env.action_space.sample()\n",
    "        else:\n",
    "            selected_action = self.dqn(\n",
    "                torch.FloatTensor(state).to(self.device)\n",
    "            ).argmax()\n",
    "            selected_action = selected_action.detach().cpu().numpy()\n",
    "        \n",
    "        if not self.is_test:\n",
    "            self.transition = [state, selected_action]\n",
    "        \n",
    "        return selected_action\n",
    "\n",
    "    def step(self, action: np.ndarray) -> Tuple[np.ndarray, np.float64, bool]:\n",
    "        \"\"\"Take an action and return the response of the env.\"\"\"\n",
    "        next_state, reward, terminated, truncated, _ = self.env.step(action)\n",
    "        done = terminated or truncated\n",
    "        \n",
    "        if not self.is_test:\n",
    "            self.transition += [reward, next_state, done]\n",
    "            self.memory.store(*self.transition)\n",
    "    \n",
    "        return next_state, reward, done\n",
    "\n",
    "    def update_model(self) -> torch.Tensor:\n",
    "        \"\"\"Update the model by gradient descent.\"\"\"\n",
    "        samples = self.memory.sample_batch()\n",
    "\n",
    "        loss = self._compute_dqn_loss(samples)\n",
    "\n",
    "        self.optimizer.zero_grad()\n",
    "        loss.backward()\n",
    "        # DuelingNet: we clip the gradients to have their norm less than or equal to 10.\n",
    "        clip_grad_norm_(self.dqn.parameters(), 10.0)\n",
    "        self.optimizer.step()\n",
    "\n",
    "        return loss.item()\n",
    "        \n",
    "    def train(self, num_frames: int, plotting_interval: int = 200):\n",
    "        \"\"\"Train the agent.\"\"\"\n",
    "        self.is_test = False\n",
    "        \n",
    "        state, _ = self.env.reset(seed=self.seed)\n",
    "        update_cnt = 0\n",
    "        epsilons = []\n",
    "        losses = []\n",
    "        scores = []\n",
    "        score = 0\n",
    "\n",
    "        for frame_idx in range(1, num_frames + 1):\n",
    "            action = self.select_action(state)\n",
    "            next_state, reward, done = self.step(action)\n",
    "\n",
    "            state = next_state\n",
    "            score += reward\n",
    "\n",
    "            # if episode ends\n",
    "            if done:\n",
    "                state, _ = self.env.reset(seed=self.seed)\n",
    "                scores.append(score)\n",
    "                score = 0\n",
    "\n",
    "            # if training is ready\n",
    "            if len(self.memory) >= self.batch_size:\n",
    "                loss = self.update_model()\n",
    "                losses.append(loss)\n",
    "                update_cnt += 1\n",
    "                \n",
    "                # linearly decrease epsilon\n",
    "                self.epsilon = max(\n",
    "                    self.min_epsilon, self.epsilon - (\n",
    "                        self.max_epsilon - self.min_epsilon\n",
    "                    ) * self.epsilon_decay\n",
    "                )\n",
    "                epsilons.append(self.epsilon)\n",
    "                \n",
    "                # if hard update is needed\n",
    "                if update_cnt % self.target_update == 0:\n",
    "                    self._target_hard_update()\n",
    "\n",
    "            # plotting\n",
    "            if frame_idx % plotting_interval == 0:\n",
    "                self._plot(frame_idx, scores, losses, epsilons)\n",
    "                \n",
    "        self.env.close()\n",
    "                \n",
    "    def test(self, video_folder: str) -> None:\n",
    "        \"\"\"Test the agent.\"\"\"\n",
    "        self.is_test = True\n",
    "        \n",
    "        # for recording a video\n",
    "        naive_env = self.env\n",
    "        self.env = gym.wrappers.RecordVideo(self.env, video_folder=video_folder)\n",
    "        \n",
    "        state, _ = self.env.reset(seed=self.seed)\n",
    "        done = False\n",
    "        score = 0\n",
    "        \n",
    "        while not done:\n",
    "            action = self.select_action(state)\n",
    "            next_state, reward, done = self.step(action)\n",
    "\n",
    "            state = next_state\n",
    "            score += reward\n",
    "        \n",
    "        print(\"score: \", score)\n",
    "        self.env.close()\n",
    "        \n",
    "        # reset\n",
    "        self.env = naive_env\n",
    "\n",
    "    def _compute_dqn_loss(self, samples: Dict[str, np.ndarray]) -> torch.Tensor:\n",
    "        \"\"\"Return dqn loss.\"\"\"\n",
    "        device = self.device  # for shortening the following lines\n",
    "        state = torch.FloatTensor(samples[\"obs\"]).to(device)\n",
    "        next_state = torch.FloatTensor(samples[\"next_obs\"]).to(device)\n",
    "        action = torch.LongTensor(samples[\"acts\"].reshape(-1, 1)).to(device)\n",
    "        reward = torch.FloatTensor(samples[\"rews\"].reshape(-1, 1)).to(device)\n",
    "        done = torch.FloatTensor(samples[\"done\"].reshape(-1, 1)).to(device)\n",
    "\n",
    "        # G_t   = r + gamma * v(s_{t+1})  if state != Terminal\n",
    "        #       = r                       otherwise\n",
    "        curr_q_value = self.dqn(state).gather(1, action)\n",
    "        next_q_value = self.dqn_target(next_state).max(\n",
    "            dim=1, keepdim=True\n",
    "        )[0].detach()\n",
    "        mask = 1 - done\n",
    "        target = (reward + self.gamma * next_q_value * mask).to(self.device)\n",
    "\n",
    "        # calculate dqn loss\n",
    "        loss = F.smooth_l1_loss(curr_q_value, target)\n",
    "\n",
    "        return loss\n",
    "\n",
    "    def _target_hard_update(self):\n",
    "        \"\"\"Hard update: target <- local.\"\"\"\n",
    "        self.dqn_target.load_state_dict(self.dqn.state_dict())\n",
    "                \n",
    "    def _plot(\n",
    "        self, \n",
    "        frame_idx: int, \n",
    "        scores: List[float], \n",
    "        losses: List[float], \n",
    "        epsilons: List[float],\n",
    "    ):\n",
    "        \"\"\"Plot the training progresses.\"\"\"\n",
    "        clear_output(True)\n",
    "        plt.figure(figsize=(20, 5))\n",
    "        plt.subplot(131)\n",
    "        plt.title('frame %s. score: %s' % (frame_idx, np.mean(scores[-10:])))\n",
    "        plt.plot(scores)\n",
    "        plt.subplot(132)\n",
    "        plt.title('loss')\n",
    "        plt.plot(losses)\n",
    "        plt.subplot(133)\n",
    "        plt.title('epsilons')\n",
    "        plt.plot(epsilons)\n",
    "        plt.show()"
   ]
  },
  {
   "cell_type": "markdown",
   "metadata": {},
   "source": [
    "## Environment\n",
    "\n",
    "You can see the [code](https://github.com/Farama-Foundation/Gymnasium/blob/main/gymnasium/envs/classic_control/cartpole.py) and [configurations](https://github.com/Farama-Foundation/Gymnasium/blob/main/gymnasium/envs/classic_control/cartpole.py#L91) of CartPole-v1 from Farama Gymnasium's repository."
   ]
  },
  {
   "cell_type": "code",
   "execution_count": 6,
   "metadata": {},
   "outputs": [
    {
     "name": "stderr",
     "output_type": "stream",
     "text": [
      "/Users/jinwoo.park/miniforge3/envs/rainbow-is-all-you-need/lib/python3.8/site-packages/gymnasium/envs/registration.py:523: DeprecationWarning: \u001b[33mWARN: The environment CartPole-v0 is out of date. You should consider upgrading to version `v1`.\u001b[0m\n",
      "  logger.deprecation(\n"
     ]
    }
   ],
   "source": [
    "# environment\n",
    "env = gym.make(\"CartPole-v0\", render_mode=\"rgb_array\")"
   ]
  },
  {
   "cell_type": "markdown",
   "metadata": {},
   "source": [
    "## Set random seed"
   ]
  },
  {
   "cell_type": "code",
   "execution_count": 7,
   "metadata": {},
   "outputs": [],
   "source": [
    "seed = 777\n",
    "\n",
    "def seed_torch(seed):\n",
    "    torch.manual_seed(seed)\n",
    "    if torch.backends.cudnn.enabled:\n",
    "        torch.cuda.manual_seed(seed)\n",
    "        torch.backends.cudnn.benchmark = False\n",
    "        torch.backends.cudnn.deterministic = True\n",
    "\n",
    "np.random.seed(seed)\n",
    "seed_torch(seed)"
   ]
  },
  {
   "cell_type": "markdown",
   "metadata": {},
   "source": [
    "## Initialize"
   ]
  },
  {
   "cell_type": "code",
   "execution_count": 8,
   "metadata": {},
   "outputs": [
    {
     "name": "stdout",
     "output_type": "stream",
     "text": [
      "cpu\n"
     ]
    }
   ],
   "source": [
    "# parameters\n",
    "num_frames = 10000\n",
    "memory_size = 1000\n",
    "batch_size = 32\n",
    "target_update = 100\n",
    "epsilon_decay = 1 / 2000\n",
    "\n",
    "# train\n",
    "agent = DQNAgent(env, memory_size, batch_size, target_update, epsilon_decay, seed)"
   ]
  },
  {
   "cell_type": "markdown",
   "metadata": {},
   "source": [
    "## Train"
   ]
  },
  {
   "cell_type": "code",
   "execution_count": 9,
   "metadata": {},
   "outputs": [
    {
     "data": {
      "image/png": "[encoded data removed]",
      "text/plain": [
       "<Figure size 1440x360 with 3 Axes>"
      ]
     },
     "metadata": {
      "needs_background": "light"
     },
     "output_type": "display_data"
    }
   ],
   "source": [
    "agent.train(num_frames)"
   ]
  },
  {
   "cell_type": "markdown",
   "metadata": {},
   "source": [
    "## Test\n",
    "\n",
    "Run the trained agent (1 episode)."
   ]
  },
  {
   "cell_type": "code",
   "execution_count": 10,
   "metadata": {},
   "outputs": [
    {
     "name": "stderr",
     "output_type": "stream",
     "text": [
      "/Users/jinwoo.park/miniforge3/envs/rainbow-is-all-you-need/lib/python3.8/site-packages/gymnasium/wrappers/record_video.py:87: UserWarning: \u001b[33mWARN: Overwriting existing videos at /Users/jinwoo.park/Repositories/rainbow-is-all-you-need/videos/dueling folder (try specifying a different `video_folder` for the `RecordVideo` wrapper if this is not desired)\u001b[0m\n",
      "  logger.warn(\n"
     ]
    },
    {
     "name": "stdout",
     "output_type": "stream",
     "text": [
      "Moviepy - Building video /Users/jinwoo.park/Repositories/rainbow-is-all-you-need/videos/dueling/rl-video-episode-0.mp4.\n",
      "Moviepy - Writing video /Users/jinwoo.park/Repositories/rainbow-is-all-you-need/videos/dueling/rl-video-episode-0.mp4\n",
      "\n"
     ]
    },
    {
     "name": "stderr",
     "output_type": "stream",
     "text": [
      "                                                                                                               "
     ]
    },
    {
     "name": "stdout",
     "output_type": "stream",
     "text": [
      "Moviepy - Done !\n",
      "Moviepy - video ready /Users/jinwoo.park/Repositories/rainbow-is-all-you-need/videos/dueling/rl-video-episode-0.mp4\n",
      "score:  200.0\n"
     ]
    },
    {
     "name": "stderr",
     "output_type": "stream",
     "text": [
      "\r"
     ]
    }
   ],
   "source": [
    "video_folder=\"videos/dueling\"\n",
    "agent.test(video_folder=video_folder)"
   ]
  },
  {
   "cell_type": "markdown",
   "metadata": {},
   "source": [
    "## Render"
   ]
  },
  {
   "cell_type": "code",
   "execution_count": 11,
   "metadata": {},
   "outputs": [
    {
     "data": {
      "text/html": [
       "\n",
       "        <video width=\"320\" height=\"240\" alt=\"test\" controls>\n",
       "        <source src=\"data:video/mp4;base64,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\" type=\"video/mp4\"/>\n",
       "        </video>\n",
       "        "
      ],
      "text/plain": [
       "<IPython.core.display.HTML object>"
      ]
     },
     "metadata": {},
     "output_type": "display_data"
    },
    {
     "name": "stdout",
     "output_type": "stream",
     "text": [
      "Played: videos/dueling/rl-video-episode-0.mp4\n"
     ]
    }
   ],
   "source": [
    "import base64\n",
    "import glob\n",
    "import io\n",
    "import os\n",
    "\n",
    "from IPython.display import HTML, display\n",
    "\n",
    "\n",
    "def ipython_show_video(path: str) -> None:\n",
    "    \"\"\"Show a video at `path` within IPython Notebook.\"\"\"\n",
    "    if not os.path.isfile(path):\n",
    "        raise NameError(\"Cannot access: {}\".format(path))\n",
    "\n",
    "    video = io.open(path, \"r+b\").read()\n",
    "    encoded = base64.b64encode(video)\n",
    "\n",
    "    display(HTML(\n",
    "        data=\"\"\"\n",
    "        <video width=\"320\" height=\"240\" alt=\"test\" controls>\n",
    "        <source src=\"data:video/mp4;base64,{0}\" type=\"video/mp4\"/>\n",
    "        </video>\n",
    "        \"\"\".format(encoded.decode(\"ascii\"))\n",
    "    ))\n",
    "\n",
    "\n",
    "def show_latest_video(video_folder: str) -> str:\n",
    "    \"\"\"Show the most recently recorded video from video folder.\"\"\"\n",
    "    list_of_files = glob.glob(os.path.join(video_folder, \"*.mp4\"))\n",
    "    latest_file = max(list_of_files, key=os.path.getctime)\n",
    "    ipython_show_video(latest_file)\n",
    "    return latest_file\n",
    "\n",
    "\n",
    "latest_file = show_latest_video(video_folder=video_folder)\n",
    "print(\"Played:\", latest_file)"
   ]
  }
 ],
 "metadata": {
  "kernelspec": {
   "display_name": "rainbow-is-all-you-need",
   "language": "python",
   "name": "rainbow-is-all-you-need"
  },
  "language_info": {
   "codemirror_mode": {
    "name": "ipython",
    "version": 3
   },
   "file_extension": ".py",
   "mimetype": "text/x-python",
   "name": "python",
   "nbconvert_exporter": "python",
   "pygments_lexer": "ipython3",
   "version": "3.8.12"
  }
 },
 "nbformat": 4,
 "nbformat_minor": 4
}
