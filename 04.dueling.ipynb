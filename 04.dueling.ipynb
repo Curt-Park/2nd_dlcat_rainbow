{
 "cells": [
  {
   "cell_type": "markdown",
   "metadata": {},
   "source": [
    "## Configurations for Colab"
   ]
  },
  {
   "cell_type": "code",
   "execution_count": 1,
   "metadata": {},
   "outputs": [],
   "source": [
    "import sys\n",
    "IN_COLAB = 'google.colab' in sys.modules\n",
    "\n",
    "if IN_COLAB:\n",
    "    !apt install python-opengl\n",
    "    !apt install ffmpeg\n",
    "    !apt install xvfb\n",
    "    !pip install pyvirtualdisplay\n",
    "    from pyvirtualdisplay import Display\n",
    "    \n",
    "    # Start virtual display\n",
    "    dis = Display(visible=0, size=(400, 400))\n",
    "    dis.start()"
   ]
  },
  {
   "cell_type": "markdown",
   "metadata": {},
   "source": [
    "# 04. Dueling Network\n",
    "\n",
    "[Z. Wang et al., \"Dueling Network Architectures for Deep Reinforcement Learning.\" arXiv preprint arXiv:1511.06581, 2015.](https://arxiv.org/pdf/1511.06581.pdf)\n",
    "\n",
    "The proposed network architecture, which is named *dueling architecture*, explicitly separates the representation of state values and (state-dependent) action advantages. \n",
    "\n",
    "![fig1](https://user-images.githubusercontent.com/14961526/60322956-c2f0b600-99bb-11e9-9ed4-443bd14bc3b0.png)\n",
    "\n",
    "The dueling network automatically produces separate estimates of the state value function and advantage function, without any extra supervision. Intuitively, the dueling architecture can learn which states are (or are not) valuable, without having to learn the effect of each action for each state. This is particularly useful in states where its actions do not affect the environment in any relevant way. \n",
    "\n",
    "The dueling architecture represents both the value $V(s)$ and advantage $A(s, a)$ functions with a single deep model whose output combines the two to produce a state-action value $Q(s, a)$. Unlike in advantage updating, the representation and algorithm are decoupled by construction.\n",
    "\n",
    "$$A^\\pi (s, a) = Q^\\pi (s, a) - V^\\pi (s).$$\n",
    "\n",
    "The value function $V$ measures the how good it is to be in a particular state $s$. The $Q$ function, however, measures the the value of choosing a particular action when in this state. Now, using the definition of advantage, we might be tempted to construct the aggregating module as follows:\n",
    "\n",
    "$$Q(s, a; \\theta, \\alpha, \\beta) = V (s; \\theta, \\beta) + A(s, a; \\theta, \\alpha),$$\n",
    "\n",
    "where $\\theta$ denotes the parameters of the convolutional layers, while $\\alpha$ and $\\beta$ are the parameters of the two streams of fully-connected layers.\n",
    "\n",
    "Unfortunately, the above equation is unidentifiable in the sense that given $Q$ we cannot recover $V$ and $A$ uniquely; for example, there are uncountable pairs of $V$ and $A$ that make $Q$ values to zero. To address this issue of identifiability, we can force the advantage function estimator to have zero advantage at the chosen action. That is, we let the last module of the network implement the forward mapping.\n",
    "\n",
    "$$\n",
    "Q(s, a; \\theta, \\alpha, \\beta) = V (s; \\theta, \\beta) + \\big( A(s, a; \\theta, \\alpha) - \\max_{a' \\in |\\mathcal{A}|} A(s, a'; \\theta, \\alpha) \\big).\n",
    "$$\n",
    "\n",
    "This formula guarantees that we can recover the unique $V$ and $A$, but the optimization is not so stable because the advantages have to compensate any change to the optimal action’s advantage. Due to the reason, an alternative module that replaces the max operator with an average is proposed:\n",
    "\n",
    "$$\n",
    "Q(s, a; \\theta, \\alpha, \\beta) = V (s; \\theta, \\beta) + \\big( A(s, a; \\theta, \\alpha) - \\frac{1}{|\\mathcal{A}|} \\sum_{a'} A(s, a'; \\theta, \\alpha) \\big).\n",
    "$$\n",
    "\n",
    "Unlike the max advantage form, in this formula, the advantages only need to change as fast as the mean, so it increases the stability of optimization."
   ]
  },
  {
   "cell_type": "code",
   "execution_count": 2,
   "metadata": {},
   "outputs": [],
   "source": [
    "import os\n",
    "from typing import Dict, List, Tuple\n",
    "\n",
    "import gym\n",
    "import matplotlib.pyplot as plt\n",
    "import numpy as np\n",
    "import torch\n",
    "import torch.nn as nn\n",
    "import torch.nn.functional as F\n",
    "import torch.optim as optim\n",
    "from IPython.display import clear_output\n",
    "from torch.nn.utils import clip_grad_norm_"
   ]
  },
  {
   "cell_type": "markdown",
   "metadata": {},
   "source": [
    "## Replay buffer\n",
    "\n",
    "Please see *01.dqn.ipynb* for detailed description."
   ]
  },
  {
   "cell_type": "code",
   "execution_count": 3,
   "metadata": {},
   "outputs": [],
   "source": [
    "class ReplayBuffer:\n",
    "    \"\"\"A simple numpy replay buffer.\"\"\"\n",
    "\n",
    "    def __init__(self, obs_dim: int, size: int, batch_size: int = 32):\n",
    "        self.obs_buf = np.zeros([size, obs_dim], dtype=np.float32)\n",
    "        self.next_obs_buf = np.zeros([size, obs_dim], dtype=np.float32)\n",
    "        self.acts_buf = np.zeros([size], dtype=np.float32)\n",
    "        self.rews_buf = np.zeros([size], dtype=np.float32)\n",
    "        self.done_buf = np.zeros(size, dtype=np.float32)\n",
    "        self.max_size, self.batch_size = size, batch_size\n",
    "        self.ptr, self.size, = 0, 0\n",
    "\n",
    "    def store(\n",
    "        self,\n",
    "        obs: np.ndarray,\n",
    "        act: np.ndarray, \n",
    "        rew: float, \n",
    "        next_obs: np.ndarray, \n",
    "        done: bool,\n",
    "    ):\n",
    "        self.obs_buf[self.ptr] = obs\n",
    "        self.next_obs_buf[self.ptr] = next_obs\n",
    "        self.acts_buf[self.ptr] = act\n",
    "        self.rews_buf[self.ptr] = rew\n",
    "        self.done_buf[self.ptr] = done\n",
    "        self.ptr = (self.ptr + 1) % self.max_size\n",
    "        self.size = min(self.size + 1, self.max_size)\n",
    "\n",
    "    def sample_batch(self) -> Dict[str, np.ndarray]:\n",
    "        idxs = np.random.choice(self.size, size=self.batch_size, replace=False)\n",
    "        return dict(obs=self.obs_buf[idxs],\n",
    "                    next_obs=self.next_obs_buf[idxs],\n",
    "                    acts=self.acts_buf[idxs],\n",
    "                    rews=self.rews_buf[idxs],\n",
    "                    done=self.done_buf[idxs])\n",
    "\n",
    "    def __len__(self) -> int:\n",
    "        return self.size"
   ]
  },
  {
   "cell_type": "markdown",
   "metadata": {},
   "source": [
    "## Dueling Network\n",
    "\n",
    "Carefully take a look at advantage and value layers separated from feature layer."
   ]
  },
  {
   "cell_type": "code",
   "execution_count": 4,
   "metadata": {},
   "outputs": [],
   "source": [
    "class Network(nn.Module):\n",
    "    def __init__(self, in_dim: int, out_dim: int):\n",
    "        \"\"\"Initialization.\"\"\"\n",
    "        super(Network, self).__init__()\n",
    "\n",
    "        # set common feature layer\n",
    "        self.feature_layer = nn.Sequential(\n",
    "            nn.Linear(in_dim, 128), \n",
    "            nn.ReLU(),\n",
    "        )\n",
    "        \n",
    "        # set advantage layer\n",
    "        self.advantage_layer = nn.Sequential(\n",
    "            nn.Linear(128, 128),\n",
    "            nn.ReLU(),\n",
    "            nn.Linear(128, out_dim),\n",
    "        )\n",
    "\n",
    "        # set value layer\n",
    "        self.value_layer = nn.Sequential(\n",
    "            nn.Linear(128, 128),\n",
    "            nn.ReLU(),\n",
    "            nn.Linear(128, 1),\n",
    "        )\n",
    "\n",
    "    def forward(self, x: torch.Tensor) -> torch.Tensor:\n",
    "        \"\"\"Forward method implementation.\"\"\"\n",
    "        feature = self.feature_layer(x)\n",
    "        \n",
    "        value = self.value_layer(feature)\n",
    "        advantage = self.advantage_layer(feature)\n",
    "\n",
    "        q = value + advantage - advantage.mean(dim=-1, keepdim=True)\n",
    "        \n",
    "        return q"
   ]
  },
  {
   "cell_type": "markdown",
   "metadata": {},
   "source": [
    "## DQN + DuelingNet Agent (w/o Double-DQN & PER)\n",
    "\n",
    "Here is a summary of DQNAgent class.\n",
    "\n",
    "| Method           | Note                                                 |\n",
    "| ---              | ---                                                  |\n",
    "|select_action     | select an action from the input state.               |\n",
    "|step              | take an action and return the response of the env.   |\n",
    "|compute_dqn_loss  | return dqn loss.                                     |\n",
    "|update_model      | update the model by gradient descent.                |\n",
    "|target_hard_update| hard update from the local model to the target model.|\n",
    "|train             | train the agent during num_frames.                   |\n",
    "|test              | test the agent (1 episode).                          |\n",
    "|plot              | plot the training progresses.                        |\n",
    "\n",
    "\n",
    "Aside from the dueling network architecture, the authors suggest to use Double-DQN and Prioritized Experience Replay as extra components for better performance. However, we don't implement them to simplify the tutorial. Here, DQNAgent is totally same as the one from *01.dqn.ipynb*."
   ]
  },
  {
   "cell_type": "code",
   "execution_count": 5,
   "metadata": {},
   "outputs": [],
   "source": [
    "class DQNAgent:\n",
    "    \"\"\"DQN Agent interacting with environment.\n",
    "    \n",
    "    Attribute:\n",
    "        env (gym.Env): openAI Gym environment\n",
    "        memory (ReplayBuffer): replay memory to store transitions\n",
    "        batch_size (int): batch size for sampling\n",
    "        epsilon (float): parameter for epsilon greedy policy\n",
    "        epsilon_decay (float): step size to decrease epsilon\n",
    "        max_epsilon (float): max value of epsilon\n",
    "        min_epsilon (float): min value of epsilon\n",
    "        target_update (int): period for target model's hard update\n",
    "        gamma (float): discount factor\n",
    "        dqn (Network): model to train and select actions\n",
    "        dqn_target (Network): target model to update\n",
    "        optimizer (torch.optim): optimizer for training dqn\n",
    "        transition (list): transition information including\n",
    "                           state, action, reward, next_state, done\n",
    "    \"\"\"\n",
    "\n",
    "    def __init__(\n",
    "        self, \n",
    "        env: gym.Env,\n",
    "        memory_size: int,\n",
    "        batch_size: int,\n",
    "        target_update: int,\n",
    "        epsilon_decay: float,\n",
    "        max_epsilon: float = 1.0,\n",
    "        min_epsilon: float = 0.1,\n",
    "        gamma: float = 0.99,\n",
    "    ):\n",
    "        \"\"\"Initialization.\n",
    "        \n",
    "        Args:\n",
    "            env (gym.Env): openAI Gym environment\n",
    "            memory_size (int): length of memory\n",
    "            batch_size (int): batch size for sampling\n",
    "            target_update (int): period for target model's hard update\n",
    "            epsilon_decay (float): step size to decrease epsilon\n",
    "            lr (float): learning rate\n",
    "            max_epsilon (float): max value of epsilon\n",
    "            min_epsilon (float): min value of epsilon\n",
    "            gamma (float): discount factor\n",
    "        \"\"\"\n",
    "        obs_dim = env.observation_space.shape[0]\n",
    "        action_dim = env.action_space.n\n",
    "        \n",
    "        self.env = env\n",
    "        self.memory = ReplayBuffer(obs_dim, memory_size, batch_size)\n",
    "        self.batch_size = batch_size\n",
    "        self.epsilon = max_epsilon\n",
    "        self.epsilon_decay = epsilon_decay\n",
    "        self.max_epsilon = max_epsilon\n",
    "        self.min_epsilon = min_epsilon\n",
    "        self.target_update = target_update\n",
    "        self.gamma = gamma\n",
    "        \n",
    "        # device: cpu / gpu\n",
    "        self.device = torch.device(\n",
    "            \"cuda\" if torch.cuda.is_available() else \"cpu\"\n",
    "        )\n",
    "        print(self.device)\n",
    "\n",
    "        # networks: dqn, dqn_target\n",
    "        self.dqn = Network(obs_dim, action_dim).to(self.device)\n",
    "        self.dqn_target = Network(obs_dim, action_dim).to(self.device)\n",
    "        self.dqn_target.load_state_dict(self.dqn.state_dict())\n",
    "        self.dqn_target.eval()\n",
    "        \n",
    "        # optimizer\n",
    "        self.optimizer = optim.Adam(self.dqn.parameters())\n",
    "\n",
    "        # transition to store in memory\n",
    "        self.transition = list()\n",
    "        \n",
    "        # mode: train / test\n",
    "        self.is_test = False\n",
    "\n",
    "    def select_action(self, state: np.ndarray) -> np.ndarray:\n",
    "        \"\"\"Select an action from the input state.\"\"\"\n",
    "        # epsilon greedy policy\n",
    "        if self.epsilon > np.random.random():\n",
    "            selected_action = self.env.action_space.sample()\n",
    "        else:\n",
    "            selected_action = self.dqn(\n",
    "                torch.FloatTensor(state).to(self.device)\n",
    "            ).argmax()\n",
    "            selected_action = selected_action.detach().cpu().numpy()\n",
    "        \n",
    "        if not self.is_test:\n",
    "            self.transition = [state, selected_action]\n",
    "        \n",
    "        return selected_action\n",
    "\n",
    "    def step(self, action: np.ndarray) -> Tuple[np.ndarray, np.float64, bool]:\n",
    "        \"\"\"Take an action and return the response of the env.\"\"\"\n",
    "        next_state, reward, done, _ = self.env.step(action)\n",
    "\n",
    "        if not self.is_test:\n",
    "            self.transition += [reward, next_state, done]\n",
    "            self.memory.store(*self.transition)\n",
    "    \n",
    "        return next_state, reward, done\n",
    "\n",
    "    def update_model(self) -> torch.Tensor:\n",
    "        \"\"\"Update the model by gradient descent.\"\"\"\n",
    "        samples = self.memory.sample_batch()\n",
    "\n",
    "        loss = self._compute_dqn_loss(samples)\n",
    "\n",
    "        self.optimizer.zero_grad()\n",
    "        loss.backward()\n",
    "        # we clip the gradients to have their norm less than or equal to 10.\n",
    "        clip_grad_norm_(self.dqn.parameters(), 10.0)\n",
    "        self.optimizer.step()\n",
    "\n",
    "        return loss.item()\n",
    "        \n",
    "    def train(self, num_frames: int, plotting_interval: int = 200):\n",
    "        \"\"\"Train the agent.\"\"\"\n",
    "        self.is_test = False\n",
    "        \n",
    "        state = self.env.reset()\n",
    "        update_cnt = 0\n",
    "        epsilons = []\n",
    "        losses = []\n",
    "        scores = []\n",
    "        score = 0\n",
    "\n",
    "        for frame_idx in range(1, num_frames + 1):\n",
    "            action = self.select_action(state)\n",
    "            next_state, reward, done = self.step(action)\n",
    "\n",
    "            state = next_state\n",
    "            score += reward\n",
    "\n",
    "            # if episode ends\n",
    "            if done:\n",
    "                state = env.reset()\n",
    "                scores.append(score)\n",
    "                score = 0\n",
    "\n",
    "            # if training is ready\n",
    "            if len(self.memory) >= self.batch_size:\n",
    "                loss = self.update_model()\n",
    "                losses.append(loss)\n",
    "                update_cnt += 1\n",
    "                \n",
    "                # linearly decrease epsilon\n",
    "                self.epsilon = max(\n",
    "                    self.min_epsilon, self.epsilon - (\n",
    "                        self.max_epsilon - self.min_epsilon\n",
    "                    ) * self.epsilon_decay\n",
    "                )\n",
    "                epsilons.append(self.epsilon)\n",
    "                \n",
    "                # if hard update is needed\n",
    "                if update_cnt % self.target_update == 0:\n",
    "                    self._target_hard_update()\n",
    "\n",
    "            # plotting\n",
    "            if frame_idx % plotting_interval == 0:\n",
    "                self._plot(frame_idx, scores, losses, epsilons)\n",
    "                \n",
    "        self.env.close()\n",
    "                \n",
    "    def test(self) -> None:\n",
    "        \"\"\"Test the agent.\"\"\"\n",
    "        self.is_test = True\n",
    "        \n",
    "        state = self.env.reset()\n",
    "        done = False\n",
    "        score = 0\n",
    "        \n",
    "        while not done:\n",
    "            self.env.render()\n",
    "            action = self.select_action(state)\n",
    "            next_state, reward, done = self.step(action)\n",
    "\n",
    "            state = next_state\n",
    "            score += reward\n",
    "        \n",
    "        print(\"score: \", score)\n",
    "        self.env.close()\n",
    "\n",
    "    def _compute_dqn_loss(self, samples: Dict[str, np.ndarray]) -> torch.Tensor:\n",
    "        \"\"\"Return dqn loss.\"\"\"\n",
    "        device = self.device  # for shortening the following lines\n",
    "        state = torch.FloatTensor(samples[\"obs\"]).to(device)\n",
    "        next_state = torch.FloatTensor(samples[\"next_obs\"]).to(device)\n",
    "        action = torch.LongTensor(samples[\"acts\"].reshape(-1, 1)).to(device)\n",
    "        reward = torch.FloatTensor(samples[\"rews\"].reshape(-1, 1)).to(device)\n",
    "        done = torch.FloatTensor(samples[\"done\"].reshape(-1, 1)).to(device)\n",
    "\n",
    "        # G_t   = r + gamma * v(s_{t+1})  if state != Terminal\n",
    "        #       = r                       otherwise\n",
    "        curr_q_value = self.dqn(state).gather(1, action)\n",
    "        next_q_value = self.dqn_target(next_state).max(\n",
    "            dim=1, keepdim=True\n",
    "        )[0].detach()\n",
    "        mask = 1 - done\n",
    "        target = (reward + self.gamma * next_q_value * mask).to(self.device)\n",
    "\n",
    "        # calculate dqn loss\n",
    "        loss = F.smooth_l1_loss(curr_q_value, target)\n",
    "\n",
    "        return loss\n",
    "\n",
    "    def _target_hard_update(self):\n",
    "        \"\"\"Hard update: target <- local.\"\"\"\n",
    "        self.dqn_target.load_state_dict(self.dqn.state_dict())\n",
    "                \n",
    "    def _plot(\n",
    "        self, \n",
    "        frame_idx: int, \n",
    "        scores: List[float], \n",
    "        losses: List[float], \n",
    "        epsilons: List[float],\n",
    "    ):\n",
    "        \"\"\"Plot the training progresses.\"\"\"\n",
    "        clear_output(True)\n",
    "        plt.figure(figsize=(20, 5))\n",
    "        plt.subplot(131)\n",
    "        plt.title('frame %s. score: %s' % (frame_idx, np.mean(scores[-10:])))\n",
    "        plt.plot(scores)\n",
    "        plt.subplot(132)\n",
    "        plt.title('loss')\n",
    "        plt.plot(losses)\n",
    "        plt.subplot(133)\n",
    "        plt.title('epsilons')\n",
    "        plt.plot(epsilons)\n",
    "        plt.show()"
   ]
  },
  {
   "cell_type": "markdown",
   "metadata": {},
   "source": [
    "## Environment\n",
    "\n",
    "You can see the [code](https://github.com/openai/gym/blob/master/gym/envs/classic_control/cartpole.py) and [configurations](https://github.com/openai/gym/blob/master/gym/envs/__init__.py#L53) of CartPole-v0 from OpenAI's repository."
   ]
  },
  {
   "cell_type": "code",
   "execution_count": 6,
   "metadata": {},
   "outputs": [],
   "source": [
    "# environment\n",
    "env_id = \"CartPole-v0\"\n",
    "env = gym.make(env_id)"
   ]
  },
  {
   "cell_type": "markdown",
   "metadata": {},
   "source": [
    "## Set random seed"
   ]
  },
  {
   "cell_type": "code",
   "execution_count": 7,
   "metadata": {},
   "outputs": [
    {
     "data": {
      "text/plain": [
       "[777]"
      ]
     },
     "execution_count": 7,
     "metadata": {},
     "output_type": "execute_result"
    }
   ],
   "source": [
    "seed = 777\n",
    "\n",
    "def seed_torch(seed):\n",
    "    torch.manual_seed(seed)\n",
    "    if torch.backends.cudnn.enabled:\n",
    "        torch.backends.cudnn.benchmark = False\n",
    "        torch.backends.cudnn.deterministic = True\n",
    "\n",
    "np.random.seed(seed)\n",
    "seed_torch(seed)\n",
    "env.seed(seed)"
   ]
  },
  {
   "cell_type": "markdown",
   "metadata": {},
   "source": [
    "## Initialize"
   ]
  },
  {
   "cell_type": "code",
   "execution_count": 35,
   "metadata": {},
   "outputs": [
    {
     "name": "stdout",
     "output_type": "stream",
     "text": [
      "cuda\n"
     ]
    }
   ],
   "source": [
    "# parameters\n",
    "num_frames = 20000\n",
    "memory_size = 1000\n",
    "batch_size = 32\n",
    "target_update = 100\n",
    "epsilon_decay = 1 / 2000\n",
    "\n",
    "# train\n",
    "agent = DQNAgent(env, memory_size, batch_size, target_update, epsilon_decay)"
   ]
  },
  {
   "cell_type": "markdown",
   "metadata": {},
   "source": [
    "## Train"
   ]
  },
  {
   "cell_type": "code",
   "execution_count": 36,
   "metadata": {},
   "outputs": [
    {
     "data": {
      "image/png": "[encoded data removed]",
      "text/plain": [
       "<Figure size 1440x360 with 3 Axes>"
      ]
     },
     "metadata": {
      "needs_background": "light"
     },
     "output_type": "display_data"
    }
   ],
   "source": [
    "agent.train(num_frames)"
   ]
  },
  {
   "cell_type": "markdown",
   "metadata": {},
   "source": [
    "## Test\n",
    "\n",
    "Run the trained agent (1 episode)."
   ]
  },
  {
   "cell_type": "code",
   "execution_count": 37,
   "metadata": {},
   "outputs": [
    {
     "name": "stdout",
     "output_type": "stream",
     "text": [
      "score:  200.0\n"
     ]
    }
   ],
   "source": [
    "agent.env = gym.wrappers.Monitor(env, \"videos\", force=True)\n",
    "agent.test()"
   ]
  },
  {
   "cell_type": "markdown",
   "metadata": {},
   "source": [
    "## Render"
   ]
  },
  {
   "cell_type": "code",
   "execution_count": 38,
   "metadata": {},
   "outputs": [
    {
     "name": "stdout",
     "output_type": "stream",
     "text": [
      "videos/openaigym.video.11.12002.video000000.mp4\n"
     ]
    },
    {
     "data": {
      "text/html": [
       "\n",
       "        <video alt=\"test\" controls>\n",
       "        <source src=\"data:video/mp4;base64,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\" type=\"video/mp4\" />\n",
       "        </video>\n",
       "        "
      ],
      "text/plain": [
       "<IPython.core.display.HTML object>"
      ]
     },
     "metadata": {},
     "output_type": "display_data"
    }
   ],
   "source": [
    "import os\n",
    "import io\n",
    "import base64\n",
    "import glob\n",
    "\n",
    "from IPython.display import display, HTML\n",
    "\n",
    "\n",
    "def ipython_show_video(path: str) -> None:\n",
    "    \"\"\"Show a video at `path` within IPython Notebook.\"\"\"\n",
    "    print(latest_file)\n",
    "    \n",
    "    if not os.path.isfile(path):\n",
    "        raise NameError(\"Cannot access: {}\".format(path))\n",
    "\n",
    "    video = io.open(path, 'r+b').read()\n",
    "    encoded = base64.b64encode(video)\n",
    "\n",
    "    display(HTML(\n",
    "        data=\"\"\"\n",
    "        <video alt=\"test\" controls>\n",
    "        <source src=\"data:video/mp4;base64,{0}\" type=\"video/mp4\" />\n",
    "        </video>\n",
    "        \"\"\".format(encoded.decode(\"ascii\"))\n",
    "    ))\n",
    "\n",
    "list_of_files = glob.glob('videos/*.mp4')\n",
    "latest_file = max(list_of_files, key=os.path.getctime)\n",
    "ipython_show_video(latest_file)"
   ]
  }
 ],
 "metadata": {
  "kernelspec": {
   "display_name": "Python 3",
   "language": "python",
   "name": "python3"
  },
  "language_info": {
   "codemirror_mode": {
    "name": "ipython",
    "version": 3
   },
   "file_extension": ".py",
   "mimetype": "text/x-python",
   "name": "python",
   "nbconvert_exporter": "python",
   "pygments_lexer": "ipython3",
   "version": "3.6.10"
  }
 },
 "nbformat": 4,
 "nbformat_minor": 2
}
