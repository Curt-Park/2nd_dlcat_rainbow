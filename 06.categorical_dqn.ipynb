{
 "cells": [
  {
   "cell_type": "markdown",
   "metadata": {},
   "source": [
    "## Configurations for Colab"
   ]
  },
  {
   "cell_type": "code",
   "execution_count": 1,
   "metadata": {},
   "outputs": [],
   "source": [
    "import sys\n",
    "IN_COLAB = \"google.colab\" in sys.modules\n",
    "\n",
    "if IN_COLAB:\n",
    "    !apt install python-opengl\n",
    "    !apt install ffmpeg\n",
    "    !apt install xvfb\n",
    "    !pip install PyVirtualDisplay==3.0\n",
    "    !pip install gymnasium==0.28.1\n",
    "    from pyvirtualdisplay import Display\n",
    "    \n",
    "    # Start virtual display\n",
    "    dis = Display(visible=0, size=(400, 400))\n",
    "    dis.start()"
   ]
  },
  {
   "cell_type": "markdown",
   "metadata": {},
   "source": [
    "# 06. Categorical DQN\n",
    "\n",
    "[M. G. Bellemare et al., \"A Distributional Perspective on Reinforcement Learning.\" arXiv preprint arXiv:1707.06887, 2017.](https://arxiv.org/pdf/1707.06887.pdf)\n",
    "\n",
    "The authors argued the importance of learning the distribution of returns instead of the expected return, and they proposed to model such distributions with probability masses placed on a discrete support $z$, where $z$ is a vector with $N_{atoms} \\in \\mathbb{N}^+$ atoms, defined by $z_i = V_{min} + (i-1) \\frac{V_{max} - V_{min}}{N-1}$ for $i \\in \\{1, ..., N_{atoms}\\}$.\n",
    "\n",
    "The key insight is that return distributions satisfy a variant of Bellman’s equation. For a given state $S_t$ and action $A_t$, the distribution of the returns under the optimal policy $\\pi^{*}$ should match a target distribution defined by taking the distribution for the next state $S_{t+1}$ and action $a^{*}_{t+1} = \\pi^{*}(S_{t+1})$, contracting\n",
    "it towards zero according to the discount, and shifting it by the reward (or distribution of rewards, in the stochastic case). A distributional variant of Q-learning is then derived by first constructing a new support for the target distribution, and then minimizing the Kullbeck-Leibler divergence between the distribution $d_t$ and the target distribution\n",
    "\n",
    "$$\n",
    "d_t' = (R_{t+1} + \\gamma_{t+1} z, p_\\hat{{\\theta}} (S_{t+1}, \\hat{a}^{*}_{t+1})),\\\\\n",
    "D_{KL} (\\phi_z d_t' \\| d_t).\n",
    "$$\n",
    "\n",
    "Here $\\phi_z$ is a L2-projection of the target distribution onto the fixed support $z$, and $\\hat{a}^*_{t+1} = \\arg\\max_{a} q_{\\hat{\\theta}} (S_{t+1}, a)$ is the greedy action with respect to the mean action values $q_{\\hat{\\theta}} (S_{t+1}, a) = z^{T}p_{\\theta}(S_{t+1}, a)$ in state $S_{t+1}$."
   ]
  },
  {
   "cell_type": "code",
   "execution_count": 2,
   "metadata": {},
   "outputs": [
    {
     "name": "stderr",
     "output_type": "stream",
     "text": [
      "/Users/jinwoo.park/miniforge3/envs/rainbow-is-all-you-need/lib/python3.8/site-packages/tqdm/auto.py:21: TqdmWarning: IProgress not found. Please update jupyter and ipywidgets. See https://ipywidgets.readthedocs.io/en/stable/user_install.html\n",
      "  from .autonotebook import tqdm as notebook_tqdm\n"
     ]
    }
   ],
   "source": [
    "import os\n",
    "from typing import Dict, List, Tuple\n",
    "\n",
    "import gymnasium as gym\n",
    "import matplotlib.pyplot as plt\n",
    "import numpy as np\n",
    "import torch\n",
    "import torch.nn as nn\n",
    "import torch.nn.functional as F\n",
    "import torch.optim as optim\n",
    "from IPython.display import clear_output"
   ]
  },
  {
   "cell_type": "markdown",
   "metadata": {},
   "source": [
    "## Replay buffer\n",
    "\n",
    "Please see *01.dqn.ipynb* for detailed description."
   ]
  },
  {
   "cell_type": "code",
   "execution_count": 3,
   "metadata": {},
   "outputs": [],
   "source": [
    "class ReplayBuffer:\n",
    "    \"\"\"A simple numpy replay buffer.\"\"\"\n",
    "\n",
    "    def __init__(self, obs_dim: int, size: int, batch_size: int = 32):\n",
    "        self.obs_buf = np.zeros([size, obs_dim], dtype=np.float32)\n",
    "        self.next_obs_buf = np.zeros([size, obs_dim], dtype=np.float32)\n",
    "        self.acts_buf = np.zeros([size], dtype=np.float32)\n",
    "        self.rews_buf = np.zeros([size], dtype=np.float32)\n",
    "        self.done_buf = np.zeros(size, dtype=np.float32)\n",
    "        self.max_size, self.batch_size = size, batch_size\n",
    "        self.ptr, self.size, = 0, 0\n",
    "\n",
    "    def store(\n",
    "        self, \n",
    "        obs: np.ndarray, \n",
    "        act: np.ndarray, \n",
    "        rew: float, \n",
    "        next_obs: np.ndarray, \n",
    "        done: bool,\n",
    "    ):\n",
    "        self.obs_buf[self.ptr] = obs\n",
    "        self.next_obs_buf[self.ptr] = next_obs\n",
    "        self.acts_buf[self.ptr] = act\n",
    "        self.rews_buf[self.ptr] = rew\n",
    "        self.done_buf[self.ptr] = done\n",
    "        self.ptr = (self.ptr + 1) % self.max_size\n",
    "        self.size = min(self.size + 1, self.max_size)\n",
    "\n",
    "    def sample_batch(self) -> Dict[str, np.ndarray]:\n",
    "        idxs = np.random.choice(self.size, size=self.batch_size, replace=False)\n",
    "        return dict(obs=self.obs_buf[idxs],\n",
    "                    next_obs=self.next_obs_buf[idxs],\n",
    "                    acts=self.acts_buf[idxs],\n",
    "                    rews=self.rews_buf[idxs],\n",
    "                    done=self.done_buf[idxs])\n",
    "\n",
    "    def __len__(self) -> int:\n",
    "        return self.size"
   ]
  },
  {
   "cell_type": "markdown",
   "metadata": {},
   "source": [
    "## Network\n",
    "\n",
    "The parametrized distribution can be represented by a neural network, as in DQN, but with atom_size x out_dim outputs. A softmax is applied independently for each action dimension of the output to ensure that the distribution for each action is appropriately normalized.\n",
    "\n",
    "To estimate q-values, we use inner product of each action's softmax distribution and support which is the set of atoms $\\{z_i = V_{min} + i\\Delta z: 0 \\le i < N\\}, \\Delta z = \\frac{V_{max} - V_{min}}{N-1}$.\n",
    "\n",
    "$$\n",
    "Q(s_t, a_t) = \\sum_i z_i p_i(s_t, a_t), \\\\\n",
    "\\text{where } p_i \\text{ is the probability of } z_i \\text{ (the output of softmax)}.\n",
    "$$"
   ]
  },
  {
   "cell_type": "code",
   "execution_count": 4,
   "metadata": {},
   "outputs": [],
   "source": [
    "class Network(nn.Module):\n",
    "    def __init__(\n",
    "        self, \n",
    "        in_dim: int, \n",
    "        out_dim: int, \n",
    "        atom_size: int, \n",
    "        support: torch.Tensor\n",
    "    ):\n",
    "        \"\"\"Initialization.\"\"\"\n",
    "        super(Network, self).__init__()\n",
    "\n",
    "        self.support = support\n",
    "        self.out_dim = out_dim\n",
    "        self.atom_size = atom_size\n",
    "        \n",
    "        self.layers = nn.Sequential(\n",
    "            nn.Linear(in_dim, 128), \n",
    "            nn.ReLU(),\n",
    "            nn.Linear(128, 128), \n",
    "            nn.ReLU(), \n",
    "            nn.Linear(128, out_dim * atom_size)\n",
    "        )\n",
    "\n",
    "    def forward(self, x: torch.Tensor) -> torch.Tensor:\n",
    "        \"\"\"Forward method implementation.\"\"\"\n",
    "        dist = self.dist(x)\n",
    "        q = torch.sum(dist * self.support, dim=2)\n",
    "        \n",
    "        return q\n",
    "    \n",
    "    def dist(self, x: torch.Tensor) -> torch.Tensor:\n",
    "        \"\"\"Get distribution for atoms.\"\"\"\n",
    "        q_atoms = self.layers(x).view(-1, self.out_dim, self.atom_size)\n",
    "        dist = F.softmax(q_atoms, dim=-1)\n",
    "        dist = dist.clamp(min=1e-3)  # for avoiding nans\n",
    "        \n",
    "        return dist"
   ]
  },
  {
   "cell_type": "markdown",
   "metadata": {},
   "source": [
    "## Categorical DQN Agent\n",
    "\n",
    "\n",
    "Here is a summary of DQNAgent class.\n",
    "\n",
    "| Method           | Note                                                 |\n",
    "| ---              | ---                                                  |\n",
    "|select_action     | select an action from the input state.               |\n",
    "|step              | take an action and return the response of the env.   |\n",
    "|compute_dqn_loss  | return dqn loss.                                     |\n",
    "|update_model      | update the model by gradient descent.                |\n",
    "|target_hard_update| hard update from the local model to the target model.|\n",
    "|train             | train the agent during num_frames.                   |\n",
    "|test              | test the agent (1 episode).                          |\n",
    "|plot              | plot the training progresses.                        |\n",
    "\n",
    "All differences from pure DQN are noted with comments *Categorical DQN*."
   ]
  },
  {
   "cell_type": "code",
   "execution_count": 5,
   "metadata": {},
   "outputs": [],
   "source": [
    "class DQNAgent:\n",
    "    \"\"\"DQN Agent interacting with environment.\n",
    "    \n",
    "    Attribute:\n",
    "        env (gym.Env): openAI Gym environment\n",
    "        memory (ReplayBuffer): replay memory to store transitions\n",
    "        batch_size (int): batch size for sampling\n",
    "        epsilon (float): parameter for epsilon greedy policy\n",
    "        epsilon_decay (float): step size to decrease epsilon\n",
    "        max_epsilon (float): max value of epsilon\n",
    "        min_epsilon (float): min value of epsilon\n",
    "        target_update (int): period for target model's hard update\n",
    "        gamma (float): discount factor\n",
    "        dqn (Network): model to train and select actions\n",
    "        dqn_target (Network): target model to update\n",
    "        optimizer (torch.optim): optimizer for training dqn\n",
    "        transition (list): transition information including\n",
    "                           state, action, reward, next_state, done\n",
    "        v_min (float): min value of support\n",
    "        v_max (float): max value of support\n",
    "        atom_size (int): the unit number of support\n",
    "        support (torch.Tensor): support for categorical dqn\n",
    "    \"\"\"\n",
    "\n",
    "    def __init__(\n",
    "        self, \n",
    "        env: gym.Env,\n",
    "        memory_size: int,\n",
    "        batch_size: int,\n",
    "        target_update: int,\n",
    "        epsilon_decay: float,\n",
    "        seed: int,\n",
    "        max_epsilon: float = 1.0,\n",
    "        min_epsilon: float = 0.1,\n",
    "        gamma: float = 0.99,\n",
    "        # Categorical DQN parameters\n",
    "        v_min: float = 0.0,\n",
    "        v_max: float = 200.0,\n",
    "        atom_size: int = 51,\n",
    "    ):\n",
    "        \"\"\"Initialization.\n",
    "        \n",
    "        Args:\n",
    "            env (gym.Env): openAI Gym environment\n",
    "            memory_size (int): length of memory\n",
    "            batch_size (int): batch size for sampling\n",
    "            target_update (int): period for target model's hard update\n",
    "            epsilon_decay (float): step size to decrease epsilon\n",
    "            lr (float): learning rate\n",
    "            max_epsilon (float): max value of epsilon\n",
    "            min_epsilon (float): min value of epsilon\n",
    "            gamma (float): discount factor\n",
    "            v_min (float): min value of support\n",
    "            v_max (float): max value of support\n",
    "            atom_size (int): the unit number of support\n",
    "        \"\"\"\n",
    "        obs_dim = env.observation_space.shape[0]\n",
    "        action_dim = env.action_space.n\n",
    "        \n",
    "        self.env = env\n",
    "        self.memory = ReplayBuffer(obs_dim, memory_size, batch_size)\n",
    "        self.batch_size = batch_size\n",
    "        self.epsilon = max_epsilon\n",
    "        self.epsilon_decay = epsilon_decay\n",
    "        self.seed = seed\n",
    "        self.max_epsilon = max_epsilon\n",
    "        self.min_epsilon = min_epsilon\n",
    "        self.target_update = target_update\n",
    "        self.gamma = gamma\n",
    "        \n",
    "        # device: cpu / gpu\n",
    "        self.device = torch.device(\"cuda\" if torch.cuda.is_available() else \"cpu\")\n",
    "        print(self.device)\n",
    "        \n",
    "        # Categorical DQN parameters\n",
    "        self.v_min = v_min\n",
    "        self.v_max = v_max\n",
    "        self.atom_size = atom_size\n",
    "        self.support = torch.linspace(\n",
    "            self.v_min, self.v_max, self.atom_size\n",
    "        ).to(self.device)\n",
    "\n",
    "        # networks: dqn, dqn_target\n",
    "        self.dqn = Network(\n",
    "            obs_dim, action_dim, atom_size, self.support\n",
    "        ).to(self.device)\n",
    "        self.dqn_target = Network(\n",
    "            obs_dim, action_dim, atom_size, self.support\n",
    "        ).to(self.device)\n",
    "        self.dqn_target.load_state_dict(self.dqn.state_dict())\n",
    "        self.dqn_target.eval()\n",
    "        \n",
    "        # optimizer\n",
    "        self.optimizer = optim.Adam(self.dqn.parameters())\n",
    "\n",
    "        # transition to store in memory\n",
    "        self.transition = list()\n",
    "        \n",
    "        # mode: train / test\n",
    "        self.is_test = False\n",
    "\n",
    "    def select_action(self, state: np.ndarray) -> np.ndarray:\n",
    "        \"\"\"Select an action from the input state.\"\"\"\n",
    "        # epsilon greedy policy\n",
    "        if self.epsilon > np.random.random():\n",
    "            selected_action = self.env.action_space.sample()\n",
    "        else:\n",
    "            selected_action = self.dqn(\n",
    "                torch.FloatTensor(state).to(self.device),\n",
    "            ).argmax()\n",
    "            selected_action = selected_action.detach().cpu().numpy()\n",
    "        \n",
    "        if not self.is_test:\n",
    "            self.transition = [state, selected_action]\n",
    "        \n",
    "        return selected_action\n",
    "\n",
    "    def step(self, action: np.ndarray) -> Tuple[np.ndarray, np.float64, bool]:\n",
    "        \"\"\"Take an action and return the response of the env.\"\"\"\n",
    "        next_state, reward, terminated, truncated, _ = self.env.step(action)\n",
    "        done = terminated or truncated\n",
    "        \n",
    "        if not self.is_test:\n",
    "            self.transition += [reward, next_state, done]\n",
    "            self.memory.store(*self.transition)\n",
    "    \n",
    "        return next_state, reward, done\n",
    "\n",
    "    def update_model(self) -> torch.Tensor:\n",
    "        \"\"\"Update the model by gradient descent.\"\"\"\n",
    "        samples = self.memory.sample_batch()\n",
    "\n",
    "        loss = self._compute_dqn_loss(samples)\n",
    "\n",
    "        self.optimizer.zero_grad()\n",
    "        loss.backward()\n",
    "        self.optimizer.step()\n",
    "\n",
    "        return loss.item()\n",
    "        \n",
    "    def train(self, num_frames: int, plotting_interval: int = 200):\n",
    "        \"\"\"Train the agent.\"\"\"\n",
    "        self.is_test = False\n",
    "        \n",
    "        state, _ = self.env.reset(seed=self.seed)\n",
    "        update_cnt = 0\n",
    "        epsilons = []\n",
    "        losses = []\n",
    "        scores = []\n",
    "        score = 0\n",
    "\n",
    "        for frame_idx in range(1, num_frames + 1):\n",
    "            action = self.select_action(state)\n",
    "            next_state, reward, done = self.step(action)\n",
    "\n",
    "            state = next_state\n",
    "            score += reward\n",
    "\n",
    "            # if episode ends\n",
    "            if done:\n",
    "                state, _ = self.env.reset(seed=self.seed)\n",
    "                scores.append(score)\n",
    "                score = 0\n",
    "\n",
    "            # if training is ready\n",
    "            if len(self.memory) >= self.batch_size:\n",
    "                loss = self.update_model()\n",
    "                losses.append(loss)\n",
    "                update_cnt += 1\n",
    "                \n",
    "                # linearly decrease epsilon\n",
    "                self.epsilon = max(\n",
    "                    self.min_epsilon, self.epsilon - (\n",
    "                        self.max_epsilon - self.min_epsilon\n",
    "                    ) * self.epsilon_decay\n",
    "                )\n",
    "                epsilons.append(self.epsilon)\n",
    "                \n",
    "                # if hard update is needed\n",
    "                if update_cnt % self.target_update == 0:\n",
    "                    self._target_hard_update()\n",
    "\n",
    "            # plotting\n",
    "            if frame_idx % plotting_interval == 0:\n",
    "                self._plot(frame_idx, scores, losses, epsilons)\n",
    "                \n",
    "        self.env.close()\n",
    "                \n",
    "    def test(self, video_folder: str) -> None:\n",
    "        \"\"\"Test the agent.\"\"\"\n",
    "        self.is_test = True\n",
    "        \n",
    "        # for recording a video\n",
    "        naive_env = self.env\n",
    "        self.env = gym.wrappers.RecordVideo(self.env, video_folder=video_folder)\n",
    "        \n",
    "        state, _ = self.env.reset(seed=self.seed)\n",
    "        done = False\n",
    "        score = 0\n",
    "        \n",
    "        while not done:\n",
    "            action = self.select_action(state)\n",
    "            next_state, reward, done = self.step(action)\n",
    "\n",
    "            state = next_state\n",
    "            score += reward\n",
    "        \n",
    "        print(\"score: \", score)\n",
    "        self.env.close()\n",
    "        \n",
    "        # reset\n",
    "        self.env = naive_env\n",
    "\n",
    "\n",
    "    def _compute_dqn_loss(self, samples: Dict[str, np.ndarray]) -> torch.Tensor:\n",
    "        \"\"\"Return categorical dqn loss.\"\"\"\n",
    "        device = self.device  # for shortening the following lines\n",
    "        state = torch.FloatTensor(samples[\"obs\"]).to(device)\n",
    "        next_state = torch.FloatTensor(samples[\"next_obs\"]).to(device)\n",
    "        action = torch.LongTensor(samples[\"acts\"]).to(device)\n",
    "        reward = torch.FloatTensor(samples[\"rews\"].reshape(-1, 1)).to(device)\n",
    "        done = torch.FloatTensor(samples[\"done\"].reshape(-1, 1)).to(device)\n",
    "        \n",
    "        # Categorical DQN algorithm\n",
    "        delta_z = float(self.v_max - self.v_min) / (self.atom_size - 1)\n",
    "\n",
    "        with torch.no_grad():\n",
    "            next_action = self.dqn_target(next_state).argmax(1)\n",
    "            next_dist = self.dqn_target.dist(next_state)\n",
    "            next_dist = next_dist[range(self.batch_size), next_action]\n",
    "\n",
    "            t_z = reward + (1 - done) * self.gamma * self.support\n",
    "            t_z = t_z.clamp(min=self.v_min, max=self.v_max)\n",
    "            b = (t_z - self.v_min) / delta_z\n",
    "            l = b.floor().long()\n",
    "            u = b.ceil().long()\n",
    "\n",
    "            offset = (\n",
    "                torch.linspace(\n",
    "                    0, (self.batch_size - 1) * self.atom_size, self.batch_size\n",
    "                ).long()\n",
    "                .unsqueeze(1)\n",
    "                .expand(self.batch_size, self.atom_size)\n",
    "                .to(self.device)\n",
    "            )\n",
    "\n",
    "            proj_dist = torch.zeros(next_dist.size(), device=self.device)\n",
    "            proj_dist.view(-1).index_add_(\n",
    "                0, (l + offset).view(-1), (next_dist * (u.float() - b)).view(-1)\n",
    "            )\n",
    "            proj_dist.view(-1).index_add_(\n",
    "                0, (u + offset).view(-1), (next_dist * (b - l.float())).view(-1)\n",
    "            )\n",
    "\n",
    "        dist = self.dqn.dist(state)\n",
    "        log_p = torch.log(dist[range(self.batch_size), action])\n",
    "\n",
    "        loss = -(proj_dist * log_p).sum(1).mean()\n",
    "\n",
    "        return loss\n",
    "\n",
    "    def _target_hard_update(self):\n",
    "        \"\"\"Hard update: target <- local.\"\"\"\n",
    "        self.dqn_target.load_state_dict(self.dqn.state_dict())\n",
    "                \n",
    "    def _plot(\n",
    "        self, \n",
    "        frame_idx: int, \n",
    "        scores: List[float], \n",
    "        losses: List[float], \n",
    "        epsilons: List[float],\n",
    "    ):\n",
    "        \"\"\"Plot the training progresses.\"\"\"\n",
    "        clear_output(True)\n",
    "        plt.figure(figsize=(20, 5))\n",
    "        plt.subplot(131)\n",
    "        plt.title('frame %s. score: %s' % (frame_idx, np.mean(scores[-10:])))\n",
    "        plt.plot(scores)\n",
    "        plt.subplot(132)\n",
    "        plt.title('loss')\n",
    "        plt.plot(losses)\n",
    "        plt.subplot(133)\n",
    "        plt.title('epsilons')\n",
    "        plt.plot(epsilons)\n",
    "        plt.show()"
   ]
  },
  {
   "cell_type": "markdown",
   "metadata": {},
   "source": [
    "## Environment\n",
    "\n",
    "You can see the [code](https://github.com/Farama-Foundation/Gymnasium/blob/main/gymnasium/envs/classic_control/cartpole.py) and [configurations](https://github.com/Farama-Foundation/Gymnasium/blob/main/gymnasium/envs/classic_control/cartpole.py#L91) of CartPole-v1 from Farama Gymnasium's repository."
   ]
  },
  {
   "cell_type": "code",
   "execution_count": 6,
   "metadata": {},
   "outputs": [
    {
     "name": "stderr",
     "output_type": "stream",
     "text": [
      "/Users/jinwoo.park/miniforge3/envs/rainbow-is-all-you-need/lib/python3.8/site-packages/gymnasium/envs/registration.py:523: DeprecationWarning: \u001b[33mWARN: The environment CartPole-v0 is out of date. You should consider upgrading to version `v1`.\u001b[0m\n",
      "  logger.deprecation(\n"
     ]
    }
   ],
   "source": [
    "# environment\n",
    "env = gym.make(\"CartPole-v0\", render_mode=\"rgb_array\")"
   ]
  },
  {
   "cell_type": "markdown",
   "metadata": {},
   "source": [
    "## Set random seed"
   ]
  },
  {
   "cell_type": "code",
   "execution_count": 7,
   "metadata": {},
   "outputs": [],
   "source": [
    "seed = 777\n",
    "\n",
    "def seed_torch(seed):\n",
    "    torch.manual_seed(seed)\n",
    "    if torch.backends.cudnn.enabled:\n",
    "        torch.cuda.manual_seed(seed)\n",
    "        torch.backends.cudnn.benchmark = False\n",
    "        torch.backends.cudnn.deterministic = True\n",
    "\n",
    "np.random.seed(seed)\n",
    "seed_torch(seed)"
   ]
  },
  {
   "cell_type": "markdown",
   "metadata": {},
   "source": [
    "## Initialize"
   ]
  },
  {
   "cell_type": "code",
   "execution_count": 8,
   "metadata": {},
   "outputs": [
    {
     "name": "stdout",
     "output_type": "stream",
     "text": [
      "cpu\n"
     ]
    }
   ],
   "source": [
    "# parameters\n",
    "num_frames = 10000\n",
    "memory_size = 2000\n",
    "batch_size = 32\n",
    "target_update = 150\n",
    "epsilon_decay = 1 / 2000\n",
    "\n",
    "# train\n",
    "agent = DQNAgent(env, memory_size, batch_size, target_update, epsilon_decay, seed)"
   ]
  },
  {
   "cell_type": "markdown",
   "metadata": {},
   "source": [
    "## Train"
   ]
  },
  {
   "cell_type": "code",
   "execution_count": 9,
   "metadata": {},
   "outputs": [
    {
     "data": {
      "image/png": "[encoded data removed]",
      "text/plain": [
       "<Figure size 1440x360 with 3 Axes>"
      ]
     },
     "metadata": {
      "needs_background": "light"
     },
     "output_type": "display_data"
    }
   ],
   "source": [
    "agent.train(num_frames)"
   ]
  },
  {
   "cell_type": "markdown",
   "metadata": {},
   "source": [
    "## Test\n",
    "\n",
    "Run the trained agent (1 episode)."
   ]
  },
  {
   "cell_type": "code",
   "execution_count": 10,
   "metadata": {},
   "outputs": [
    {
     "name": "stderr",
     "output_type": "stream",
     "text": [
      "/Users/jinwoo.park/miniforge3/envs/rainbow-is-all-you-need/lib/python3.8/site-packages/gymnasium/wrappers/record_video.py:87: UserWarning: \u001b[33mWARN: Overwriting existing videos at /Users/jinwoo.park/Repositories/rainbow-is-all-you-need/videos/categorical_dqn folder (try specifying a different `video_folder` for the `RecordVideo` wrapper if this is not desired)\u001b[0m\n",
      "  logger.warn(\n"
     ]
    },
    {
     "name": "stdout",
     "output_type": "stream",
     "text": [
      "Moviepy - Building video /Users/jinwoo.park/Repositories/rainbow-is-all-you-need/videos/categorical_dqn/rl-video-episode-0.mp4.\n",
      "Moviepy - Writing video /Users/jinwoo.park/Repositories/rainbow-is-all-you-need/videos/categorical_dqn/rl-video-episode-0.mp4\n",
      "\n"
     ]
    },
    {
     "name": "stderr",
     "output_type": "stream",
     "text": [
      "                                                                                                               "
     ]
    },
    {
     "name": "stdout",
     "output_type": "stream",
     "text": [
      "Moviepy - Done !\n",
      "Moviepy - video ready /Users/jinwoo.park/Repositories/rainbow-is-all-you-need/videos/categorical_dqn/rl-video-episode-0.mp4\n",
      "score:  200.0\n"
     ]
    },
    {
     "name": "stderr",
     "output_type": "stream",
     "text": [
      "\r"
     ]
    }
   ],
   "source": [
    "video_folder=\"videos/categorical_dqn\"\n",
    "agent.test(video_folder=video_folder)"
   ]
  },
  {
   "cell_type": "markdown",
   "metadata": {},
   "source": [
    "## Render"
   ]
  },
  {
   "cell_type": "code",
   "execution_count": 11,
   "metadata": {},
   "outputs": [
    {
     "data": {
      "text/html": [
       "\n",
       "        <video width=\"320\" height=\"240\" alt=\"test\" controls>\n",
       "        <source src=\"data:video/mp4;base64,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\" type=\"video/mp4\"/>\n",
       "        </video>\n",
       "        "
      ],
      "text/plain": [
       "<IPython.core.display.HTML object>"
      ]
     },
     "metadata": {},
     "output_type": "display_data"
    },
    {
     "name": "stdout",
     "output_type": "stream",
     "text": [
      "Played: videos/categorical_dqn/rl-video-episode-0.mp4\n"
     ]
    }
   ],
   "source": [
    "import base64\n",
    "import glob\n",
    "import io\n",
    "import os\n",
    "\n",
    "from IPython.display import HTML, display\n",
    "\n",
    "\n",
    "def ipython_show_video(path: str) -> None:\n",
    "    \"\"\"Show a video at `path` within IPython Notebook.\"\"\"\n",
    "    if not os.path.isfile(path):\n",
    "        raise NameError(\"Cannot access: {}\".format(path))\n",
    "\n",
    "    video = io.open(path, \"r+b\").read()\n",
    "    encoded = base64.b64encode(video)\n",
    "\n",
    "    display(HTML(\n",
    "        data=\"\"\"\n",
    "        <video width=\"320\" height=\"240\" alt=\"test\" controls>\n",
    "        <source src=\"data:video/mp4;base64,{0}\" type=\"video/mp4\"/>\n",
    "        </video>\n",
    "        \"\"\".format(encoded.decode(\"ascii\"))\n",
    "    ))\n",
    "\n",
    "\n",
    "def show_latest_video(video_folder: str) -> str:\n",
    "    \"\"\"Show the most recently recorded video from video folder.\"\"\"\n",
    "    list_of_files = glob.glob(os.path.join(video_folder, \"*.mp4\"))\n",
    "    latest_file = max(list_of_files, key=os.path.getctime)\n",
    "    ipython_show_video(latest_file)\n",
    "    return latest_file\n",
    "\n",
    "\n",
    "latest_file = show_latest_video(video_folder=video_folder)\n",
    "print(\"Played:\", latest_file)"
   ]
  }
 ],
 "metadata": {
  "kernelspec": {
   "display_name": "rainbow-is-all-you-need",
   "language": "python",
   "name": "rainbow-is-all-you-need"
  },
  "language_info": {
   "codemirror_mode": {
    "name": "ipython",
    "version": 3
   },
   "file_extension": ".py",
   "mimetype": "text/x-python",
   "name": "python",
   "nbconvert_exporter": "python",
   "pygments_lexer": "ipython3",
   "version": "3.8.12"
  }
 },
 "nbformat": 4,
 "nbformat_minor": 4
}
