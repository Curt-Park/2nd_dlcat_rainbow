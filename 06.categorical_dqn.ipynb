{
 "cells": [
  {
   "cell_type": "markdown",
   "metadata": {},
   "source": [
    "## Configurations for Colab"
   ]
  },
  {
   "cell_type": "code",
   "execution_count": 1,
   "metadata": {},
   "outputs": [],
   "source": [
    "import sys\n",
    "IN_COLAB = 'google.colab' in sys.modules\n",
    "\n",
    "if IN_COLAB:\n",
    "    !apt install python-opengl\n",
    "    !apt install ffmpeg\n",
    "    !apt install xvfb\n",
    "    !pip install pyvirtualdisplay\n",
    "    from pyvirtualdisplay import Display\n",
    "    \n",
    "    # Start virtual display\n",
    "    dis = Display(visible=0, size=(400, 400))\n",
    "    dis.start()"
   ]
  },
  {
   "cell_type": "markdown",
   "metadata": {},
   "source": [
    "# 06. Categorical DQN\n",
    "\n",
    "[M. G. Bellemare et al., \"A Distributional Perspective on Reinforcement Learning.\" arXiv preprint arXiv:1707.06887, 2017.](https://arxiv.org/pdf/1707.06887.pdf)\n",
    "\n",
    "The authors argued the importance of learning the distribution of returns instead of the expected return, and they proposed to model such distributions with probability masses placed on a discrete support $z$, where $z$ is a vector with $N_{atoms} \\in \\mathbb{N}^+$ atoms, defined by $z_i = V_{min} + (i-1) \\frac{V_{max} - V_{min}}{N-1}$ for $i \\in \\{1, ..., N_{atoms}\\}$.\n",
    "\n",
    "The key insight is that return distributions satisfy a variant of Bellman’s equation. For a given state $S_t$ and action $A_t$, the distribution of the returns under the optimal policy $\\pi^∗$ should match a target distribution defined by taking the distribution for the next state $S_t+1$ and action $a^∗_{t+1} = \\pi^*(S_t+1)$, contracting\n",
    "it towards zero according to the discount, and shifting it by the reward (or distribution of rewards, in the stochastic case). A distributional variant of Q-learning is then derived by first constructing a new support for the target distribution, and then minimizing the Kullbeck-Leibler divergence between the distribution $d_t$ and the target distribution\n",
    "\n",
    "$$\n",
    "d_t' = (R_{t+1} + \\gamma_{t+1} z, p_\\hat{{\\theta}} (S_{t+1}, \\hat{a}^*_{t+1})),\\\\\n",
    "D_{KL} (\\phi_z d_t' \\| d_t).\n",
    "$$\n",
    "\n",
    "Here $\\phi_z$ is a L2-projection of the target distribution onto the fixed support $z$, and $\\hat{a}^*_{t+1} = \\arg\\max_{a} q_{\\hat{\\theta}} (S_{t+1}, a)$ is the greedy action with respect to the mean action values $q_{\\hat{\\theta}} (S_{t+1}, a) = z^{T}p_{\\theta}(S_{t+1}, a)$ in state $S_{t+1}$."
   ]
  },
  {
   "cell_type": "code",
   "execution_count": 2,
   "metadata": {},
   "outputs": [],
   "source": [
    "import os\n",
    "from typing import Dict, List, Tuple\n",
    "\n",
    "import gym\n",
    "import matplotlib.pyplot as plt\n",
    "import numpy as np\n",
    "import torch\n",
    "import torch.nn as nn\n",
    "import torch.nn.functional as F\n",
    "import torch.optim as optim\n",
    "from IPython.display import clear_output"
   ]
  },
  {
   "cell_type": "markdown",
   "metadata": {},
   "source": [
    "## Replay buffer\n",
    "\n",
    "Please see *01.dqn.ipynb* for detailed description."
   ]
  },
  {
   "cell_type": "code",
   "execution_count": 3,
   "metadata": {},
   "outputs": [],
   "source": [
    "class ReplayBuffer:\n",
    "    \"\"\"A simple numpy replay buffer.\"\"\"\n",
    "\n",
    "    def __init__(self, obs_dim: int, size: int, batch_size: int = 32):\n",
    "        self.obs_buf = np.zeros([size, obs_dim], dtype=np.float32)\n",
    "        self.next_obs_buf = np.zeros([size, obs_dim], dtype=np.float32)\n",
    "        self.acts_buf = np.zeros([size], dtype=np.float32)\n",
    "        self.rews_buf = np.zeros([size], dtype=np.float32)\n",
    "        self.done_buf = np.zeros(size, dtype=np.float32)\n",
    "        self.max_size, self.batch_size = size, batch_size\n",
    "        self.ptr, self.size, = 0, 0\n",
    "\n",
    "    def store(\n",
    "        self, \n",
    "        obs: np.ndarray, \n",
    "        act: np.ndarray, \n",
    "        rew: float, \n",
    "        next_obs: np.ndarray, \n",
    "        done: bool,\n",
    "    ):\n",
    "        self.obs_buf[self.ptr] = obs\n",
    "        self.next_obs_buf[self.ptr] = next_obs\n",
    "        self.acts_buf[self.ptr] = act\n",
    "        self.rews_buf[self.ptr] = rew\n",
    "        self.done_buf[self.ptr] = done\n",
    "        self.ptr = (self.ptr + 1) % self.max_size\n",
    "        self.size = min(self.size + 1, self.max_size)\n",
    "\n",
    "    def sample_batch(self) -> Dict[str, np.ndarray]:\n",
    "        idxs = np.random.choice(self.size, size=self.batch_size, replace=False)\n",
    "        return dict(obs=self.obs_buf[idxs],\n",
    "                    next_obs=self.next_obs_buf[idxs],\n",
    "                    acts=self.acts_buf[idxs],\n",
    "                    rews=self.rews_buf[idxs],\n",
    "                    done=self.done_buf[idxs])\n",
    "\n",
    "    def __len__(self) -> int:\n",
    "        return self.size"
   ]
  },
  {
   "cell_type": "markdown",
   "metadata": {},
   "source": [
    "## Network\n",
    "\n",
    "The parametrized distribution can be represented by a neural network, as in DQN, but with atom_size x out_dim outputs. A softmax is applied independently for each action dimension of the output to ensure that the distribution for each action is appropriately normalized.\n",
    "\n",
    "To estimate q-values, we use inner product of each action's softmax distribution and support which is the set of atoms $\\{z_i = V_{min} + i\\Delta z: 0 \\le i < N\\}, \\Delta z = \\frac{V_{max} - V_{min}}{N-1}$.\n",
    "\n",
    "$$\n",
    "Q(s_t, a_t) = \\sum_i z_i p_i(s_t, a_t), \\\\\n",
    "\\text{where } p_i \\text{ is the probability of } z_i \\text{ (the output of softmax)}.\n",
    "$$"
   ]
  },
  {
   "cell_type": "code",
   "execution_count": 4,
   "metadata": {},
   "outputs": [],
   "source": [
    "class Network(nn.Module):\n",
    "    def __init__(\n",
    "        self, \n",
    "        in_dim: int, \n",
    "        out_dim: int, \n",
    "        atom_size: int, \n",
    "        support: torch.Tensor\n",
    "    ):\n",
    "        \"\"\"Initialization.\"\"\"\n",
    "        super(Network, self).__init__()\n",
    "\n",
    "        self.support = support\n",
    "        self.out_dim = out_dim\n",
    "        self.atom_size = atom_size\n",
    "        \n",
    "        self.layers = nn.Sequential(\n",
    "            nn.Linear(in_dim, 128), \n",
    "            nn.ReLU(),\n",
    "            nn.Linear(128, 128), \n",
    "            nn.ReLU(), \n",
    "            nn.Linear(128, out_dim * atom_size)\n",
    "        )\n",
    "\n",
    "    def forward(self, x: torch.Tensor) -> torch.Tensor:\n",
    "        \"\"\"Forward method implementation.\"\"\"\n",
    "        dist = self.dist(x)\n",
    "        q = torch.sum(dist * self.support, dim=2)\n",
    "        \n",
    "        return q\n",
    "    \n",
    "    def dist(self, x: torch.Tensor) -> torch.Tensor:\n",
    "        \"\"\"Get distribution for atoms.\"\"\"\n",
    "        q_atoms = self.layers(x).view(-1, self.out_dim, self.atom_size)\n",
    "        dist = F.softmax(q_atoms, dim=-1)\n",
    "        dist = dist.clamp(min=1e-3)  # for avoiding nans\n",
    "        \n",
    "        return dist"
   ]
  },
  {
   "cell_type": "markdown",
   "metadata": {},
   "source": [
    "## Categorical DQN Agent\n",
    "\n",
    "\n",
    "Here is a summary of DQNAgent class.\n",
    "\n",
    "| Method           | Note                                                 |\n",
    "| ---              | ---                                                  |\n",
    "|select_action     | select an action from the input state.               |\n",
    "|step              | take an action and return the response of the env.   |\n",
    "|compute_dqn_loss  | return dqn loss.                                     |\n",
    "|update_model      | update the model by gradient descent.                |\n",
    "|target_hard_update| hard update from the local model to the target model.|\n",
    "|train             | train the agent during num_frames.                   |\n",
    "|test              | test the agent (1 episode).                          |\n",
    "|plot              | plot the training progresses.                        |\n",
    "\n",
    "All differences from pure DQN are noted with comments *Categorical DQN*."
   ]
  },
  {
   "cell_type": "code",
   "execution_count": 5,
   "metadata": {},
   "outputs": [],
   "source": [
    "class DQNAgent:\n",
    "    \"\"\"DQN Agent interacting with environment.\n",
    "    \n",
    "    Attribute:\n",
    "        env (gym.Env): openAI Gym environment\n",
    "        memory (ReplayBuffer): replay memory to store transitions\n",
    "        batch_size (int): batch size for sampling\n",
    "        epsilon (float): parameter for epsilon greedy policy\n",
    "        epsilon_decay (float): step size to decrease epsilon\n",
    "        max_epsilon (float): max value of epsilon\n",
    "        min_epsilon (float): min value of epsilon\n",
    "        target_update (int): period for target model's hard update\n",
    "        gamma (float): discount factor\n",
    "        dqn (Network): model to train and select actions\n",
    "        dqn_target (Network): target model to update\n",
    "        optimizer (torch.optim): optimizer for training dqn\n",
    "        transition (list): transition information including\n",
    "                           state, action, reward, next_state, done\n",
    "        v_min (float): min value of support\n",
    "        v_max (float): max value of support\n",
    "        atom_size (int): the unit number of support\n",
    "        support (torch.Tensor): support for categorical dqn\n",
    "    \"\"\"\n",
    "\n",
    "    def __init__(\n",
    "        self, \n",
    "        env: gym.Env,\n",
    "        memory_size: int,\n",
    "        batch_size: int,\n",
    "        target_update: int,\n",
    "        epsilon_decay: float,\n",
    "        max_epsilon: float = 1.0,\n",
    "        min_epsilon: float = 0.1,\n",
    "        gamma: float = 0.99,\n",
    "        # Categorical DQN parameters\n",
    "        v_min: float = 0.0,\n",
    "        v_max: float = 200.0,\n",
    "        atom_size: int = 51,\n",
    "    ):\n",
    "        \"\"\"Initialization.\n",
    "        \n",
    "        Args:\n",
    "            env (gym.Env): openAI Gym environment\n",
    "            memory_size (int): length of memory\n",
    "            batch_size (int): batch size for sampling\n",
    "            target_update (int): period for target model's hard update\n",
    "            epsilon_decay (float): step size to decrease epsilon\n",
    "            lr (float): learning rate\n",
    "            max_epsilon (float): max value of epsilon\n",
    "            min_epsilon (float): min value of epsilon\n",
    "            gamma (float): discount factor\n",
    "            v_min (float): min value of support\n",
    "            v_max (float): max value of support\n",
    "            atom_size (int): the unit number of support\n",
    "        \"\"\"\n",
    "        obs_dim = env.observation_space.shape[0]\n",
    "        action_dim = env.action_space.n\n",
    "        \n",
    "        self.env = env\n",
    "        self.memory = ReplayBuffer(obs_dim, memory_size, batch_size)\n",
    "        self.batch_size = batch_size\n",
    "        self.epsilon = max_epsilon\n",
    "        self.epsilon_decay = epsilon_decay\n",
    "        self.max_epsilon = max_epsilon\n",
    "        self.min_epsilon = min_epsilon\n",
    "        self.target_update = target_update\n",
    "        self.gamma = gamma\n",
    "        \n",
    "        # device: cpu / gpu\n",
    "        self.device = torch.device(\"cuda\" if torch.cuda.is_available() else \"cpu\")\n",
    "        print(self.device)\n",
    "        \n",
    "        # Categorical DQN parameters\n",
    "        self.v_min = v_min\n",
    "        self.v_max = v_max\n",
    "        self.atom_size = atom_size\n",
    "        self.support = torch.linspace(\n",
    "            self.v_min, self.v_max, self.atom_size\n",
    "        ).to(self.device)\n",
    "\n",
    "        # networks: dqn, dqn_target\n",
    "        self.dqn = Network(\n",
    "            obs_dim, action_dim, atom_size, self.support\n",
    "        ).to(self.device)\n",
    "        self.dqn_target = Network(\n",
    "            obs_dim, action_dim, atom_size, self.support\n",
    "        ).to(self.device)\n",
    "        self.dqn_target.load_state_dict(self.dqn.state_dict())\n",
    "        self.dqn_target.eval()\n",
    "        \n",
    "        # optimizer\n",
    "        self.optimizer = optim.Adam(self.dqn.parameters())\n",
    "\n",
    "        # transition to store in memory\n",
    "        self.transition = list()\n",
    "        \n",
    "        # mode: train / test\n",
    "        self.is_test = False\n",
    "\n",
    "    def select_action(self, state: np.ndarray) -> np.ndarray:\n",
    "        \"\"\"Select an action from the input state.\"\"\"\n",
    "        # epsilon greedy policy\n",
    "        if self.epsilon > np.random.random():\n",
    "            selected_action = self.env.action_space.sample()\n",
    "        else:\n",
    "            selected_action = self.dqn(\n",
    "                torch.FloatTensor(state).to(self.device),\n",
    "            ).argmax()\n",
    "            selected_action = selected_action.detach().cpu().numpy()\n",
    "        \n",
    "        if not self.is_test:\n",
    "            self.transition = [state, selected_action]\n",
    "        \n",
    "        return selected_action\n",
    "\n",
    "    def step(self, action: np.ndarray) -> Tuple[np.ndarray, np.float64, bool]:\n",
    "        \"\"\"Take an action and return the response of the env.\"\"\"\n",
    "        next_state, reward, done, _ = self.env.step(action)\n",
    "\n",
    "        if not self.is_test:\n",
    "            self.transition += [reward, next_state, done]\n",
    "            self.memory.store(*self.transition)\n",
    "    \n",
    "        return next_state, reward, done\n",
    "\n",
    "    def update_model(self) -> torch.Tensor:\n",
    "        \"\"\"Update the model by gradient descent.\"\"\"\n",
    "        samples = self.memory.sample_batch()\n",
    "\n",
    "        loss = self._compute_dqn_loss(samples)\n",
    "\n",
    "        self.optimizer.zero_grad()\n",
    "        loss.backward()\n",
    "        self.optimizer.step()\n",
    "\n",
    "        return loss.item()\n",
    "        \n",
    "    def train(self, num_frames: int, plotting_interval: int = 200):\n",
    "        \"\"\"Train the agent.\"\"\"\n",
    "        self.is_test = False\n",
    "        \n",
    "        state = self.env.reset()\n",
    "        update_cnt = 0\n",
    "        epsilons = []\n",
    "        losses = []\n",
    "        scores = []\n",
    "        score = 0\n",
    "\n",
    "        for frame_idx in range(1, num_frames + 1):\n",
    "            action = self.select_action(state)\n",
    "            next_state, reward, done = self.step(action)\n",
    "\n",
    "            state = next_state\n",
    "            score += reward\n",
    "\n",
    "            # if episode ends\n",
    "            if done:\n",
    "                state = env.reset()\n",
    "                scores.append(score)\n",
    "                score = 0\n",
    "\n",
    "            # if training is ready\n",
    "            if len(self.memory) >= self.batch_size:\n",
    "                loss = self.update_model()\n",
    "                losses.append(loss)\n",
    "                update_cnt += 1\n",
    "                \n",
    "                # linearly decrease epsilon\n",
    "                self.epsilon = max(\n",
    "                    self.min_epsilon, self.epsilon - (\n",
    "                        self.max_epsilon - self.min_epsilon\n",
    "                    ) * self.epsilon_decay\n",
    "                )\n",
    "                epsilons.append(self.epsilon)\n",
    "                \n",
    "                # if hard update is needed\n",
    "                if update_cnt % self.target_update == 0:\n",
    "                    self._target_hard_update()\n",
    "\n",
    "            # plotting\n",
    "            if frame_idx % plotting_interval == 0:\n",
    "                self._plot(frame_idx, scores, losses, epsilons)\n",
    "                \n",
    "        self.env.close()\n",
    "                \n",
    "    def test(self) -> None:\n",
    "        \"\"\"Test the agent.\"\"\"\n",
    "        self.is_test = True\n",
    "        \n",
    "        state = self.env.reset()\n",
    "        done = False\n",
    "        score = 0\n",
    "        \n",
    "        while not done:\n",
    "            self.env.render()\n",
    "            action = self.select_action(state)\n",
    "            next_state, reward, done = self.step(action)\n",
    "\n",
    "            state = next_state\n",
    "            score += reward\n",
    "        \n",
    "        print(\"score: \", score)\n",
    "        self.env.close()\n",
    "\n",
    "\n",
    "    def _compute_dqn_loss(self, samples: Dict[str, np.ndarray]) -> torch.Tensor:\n",
    "        \"\"\"Return categorical dqn loss.\"\"\"\n",
    "        device = self.device  # for shortening the following lines\n",
    "        state = torch.FloatTensor(samples[\"obs\"]).to(device)\n",
    "        next_state = torch.FloatTensor(samples[\"next_obs\"]).to(device)\n",
    "        action = torch.LongTensor(samples[\"acts\"]).to(device)\n",
    "        reward = torch.FloatTensor(samples[\"rews\"].reshape(-1, 1)).to(device)\n",
    "        done = torch.FloatTensor(samples[\"done\"].reshape(-1, 1)).to(device)\n",
    "        \n",
    "        # Categorical DQN algorithm\n",
    "        delta_z = float(self.v_max - self.v_min) / (self.atom_size - 1)\n",
    "\n",
    "        with torch.no_grad():\n",
    "            next_action = self.dqn_target(next_state).argmax(1)\n",
    "            next_dist = self.dqn_target.dist(next_state)\n",
    "            next_dist = next_dist[range(self.batch_size), next_action]\n",
    "\n",
    "            t_z = reward + (1 - done) * self.gamma * self.support\n",
    "            t_z = t_z.clamp(min=self.v_min, max=self.v_max)\n",
    "            b = (t_z - self.v_min) / delta_z\n",
    "            l = b.floor().long()\n",
    "            u = b.ceil().long()\n",
    "\n",
    "            offset = (\n",
    "                torch.linspace(\n",
    "                    0, (batch_size - 1) * self.atom_size, self.batch_size\n",
    "                ).long()\n",
    "                .unsqueeze(1)\n",
    "                .expand(self.batch_size, self.atom_size)\n",
    "                .to(self.device)\n",
    "            )\n",
    "\n",
    "            proj_dist = torch.zeros(next_dist.size(), device=self.device)\n",
    "            proj_dist.view(-1).index_add_(\n",
    "                0, (l + offset).view(-1), (next_dist * (u.float() - b)).view(-1)\n",
    "            )\n",
    "            proj_dist.view(-1).index_add_(\n",
    "                0, (u + offset).view(-1), (next_dist * (b - l.float())).view(-1)\n",
    "            )\n",
    "\n",
    "        dist = self.dqn.dist(state)\n",
    "        log_p = torch.log(dist[range(self.batch_size), action])\n",
    "\n",
    "        loss = -(proj_dist * log_p).sum(1).mean()\n",
    "\n",
    "        return loss\n",
    "\n",
    "    def _target_hard_update(self):\n",
    "        \"\"\"Hard update: target <- local.\"\"\"\n",
    "        self.dqn_target.load_state_dict(self.dqn.state_dict())\n",
    "                \n",
    "    def _plot(\n",
    "        self, \n",
    "        frame_idx: int, \n",
    "        scores: List[float], \n",
    "        losses: List[float], \n",
    "        epsilons: List[float],\n",
    "    ):\n",
    "        \"\"\"Plot the training progresses.\"\"\"\n",
    "        clear_output(True)\n",
    "        plt.figure(figsize=(20, 5))\n",
    "        plt.subplot(131)\n",
    "        plt.title('frame %s. score: %s' % (frame_idx, np.mean(scores[-10:])))\n",
    "        plt.plot(scores)\n",
    "        plt.subplot(132)\n",
    "        plt.title('loss')\n",
    "        plt.plot(losses)\n",
    "        plt.subplot(133)\n",
    "        plt.title('epsilons')\n",
    "        plt.plot(epsilons)\n",
    "        plt.show()"
   ]
  },
  {
   "cell_type": "markdown",
   "metadata": {},
   "source": [
    "## Environment\n",
    "\n",
    "You can see the [code](https://github.com/openai/gym/blob/master/gym/envs/classic_control/cartpole.py) and [configurations](https://github.com/openai/gym/blob/master/gym/envs/__init__.py#L53) of CartPole-v0 from OpenAI's repository."
   ]
  },
  {
   "cell_type": "code",
   "execution_count": 6,
   "metadata": {},
   "outputs": [],
   "source": [
    "# environment\n",
    "env_id = \"CartPole-v0\"\n",
    "env = gym.make(env_id)"
   ]
  },
  {
   "cell_type": "markdown",
   "metadata": {},
   "source": [
    "## Set random seed"
   ]
  },
  {
   "cell_type": "code",
   "execution_count": 7,
   "metadata": {},
   "outputs": [
    {
     "data": {
      "text/plain": [
       "[777]"
      ]
     },
     "execution_count": 7,
     "metadata": {},
     "output_type": "execute_result"
    }
   ],
   "source": [
    "seed = 777\n",
    "\n",
    "def seed_torch(seed):\n",
    "    torch.manual_seed(seed)\n",
    "    if torch.backends.cudnn.enabled:\n",
    "        torch.backends.cudnn.benchmark = False\n",
    "        torch.backends.cudnn.deterministic = True\n",
    "\n",
    "np.random.seed(seed)\n",
    "seed_torch(seed)\n",
    "env.seed(seed)"
   ]
  },
  {
   "cell_type": "markdown",
   "metadata": {},
   "source": [
    "## Initialize"
   ]
  },
  {
   "cell_type": "code",
   "execution_count": 11,
   "metadata": {},
   "outputs": [
    {
     "name": "stdout",
     "output_type": "stream",
     "text": [
      "cuda\n"
     ]
    }
   ],
   "source": [
    "# parameters\n",
    "num_frames = 20000\n",
    "memory_size = 1000\n",
    "batch_size = 32\n",
    "target_update = 200\n",
    "epsilon_decay = 1 / 2000\n",
    "\n",
    "# train\n",
    "agent = DQNAgent(env, memory_size, batch_size, target_update, epsilon_decay)"
   ]
  },
  {
   "cell_type": "markdown",
   "metadata": {},
   "source": [
    "## Train"
   ]
  },
  {
   "cell_type": "code",
   "execution_count": 12,
   "metadata": {},
   "outputs": [
    {
     "data": {
      "image/png": "[encoded data removed]",
      "text/plain": [
       "<Figure size 1440x360 with 3 Axes>"
      ]
     },
     "metadata": {
      "needs_background": "light"
     },
     "output_type": "display_data"
    }
   ],
   "source": [
    "agent.train(num_frames)"
   ]
  },
  {
   "cell_type": "markdown",
   "metadata": {},
   "source": [
    "## Test\n",
    "\n",
    "Run the trained agent (1 episode)."
   ]
  },
  {
   "cell_type": "code",
   "execution_count": 13,
   "metadata": {},
   "outputs": [
    {
     "name": "stdout",
     "output_type": "stream",
     "text": [
      "score:  200.0\n"
     ]
    }
   ],
   "source": [
    "agent.env = gym.wrappers.Monitor(env, \"videos\", force=True)\n",
    "agent.test()"
   ]
  },
  {
   "cell_type": "markdown",
   "metadata": {},
   "source": [
    "## Render"
   ]
  },
  {
   "cell_type": "code",
   "execution_count": 14,
   "metadata": {},
   "outputs": [
    {
     "name": "stdout",
     "output_type": "stream",
     "text": [
      "videos/openaigym.video.1.13870.video000000.mp4\n"
     ]
    },
    {
     "data": {
      "text/html": [
       "\n",
       "        <video alt=\"test\" controls>\n",
       "        <source src=\"data:video/mp4;base64,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\" type=\"video/mp4\" />\n",
       "        </video>\n",
       "        "
      ],
      "text/plain": [
       "<IPython.core.display.HTML object>"
      ]
     },
     "metadata": {},
     "output_type": "display_data"
    }
   ],
   "source": [
    "import os\n",
    "import io\n",
    "import base64\n",
    "import glob\n",
    "\n",
    "from IPython.display import display, HTML\n",
    "\n",
    "\n",
    "def ipython_show_video(path: str) -> None:\n",
    "    \"\"\"Show a video at `path` within IPython Notebook.\"\"\"\n",
    "    print(latest_file)\n",
    "    \n",
    "    if not os.path.isfile(path):\n",
    "        raise NameError(\"Cannot access: {}\".format(path))\n",
    "\n",
    "    video = io.open(path, 'r+b').read()\n",
    "    encoded = base64.b64encode(video)\n",
    "\n",
    "    display(HTML(\n",
    "        data=\"\"\"\n",
    "        <video alt=\"test\" controls>\n",
    "        <source src=\"data:video/mp4;base64,{0}\" type=\"video/mp4\" />\n",
    "        </video>\n",
    "        \"\"\".format(encoded.decode(\"ascii\"))\n",
    "    ))\n",
    "\n",
    "list_of_files = glob.glob('videos/*.mp4')\n",
    "latest_file = max(list_of_files, key=os.path.getctime)\n",
    "ipython_show_video(latest_file)"
   ]
  }
 ],
 "metadata": {
  "kernelspec": {
   "display_name": "Python 3",
   "language": "python",
   "name": "python3"
  },
  "language_info": {
   "codemirror_mode": {
    "name": "ipython",
    "version": 3
   },
   "file_extension": ".py",
   "mimetype": "text/x-python",
   "name": "python",
   "nbconvert_exporter": "python",
   "pygments_lexer": "ipython3",
   "version": "3.6.10"
  }
 },
 "nbformat": 4,
 "nbformat_minor": 2
}
