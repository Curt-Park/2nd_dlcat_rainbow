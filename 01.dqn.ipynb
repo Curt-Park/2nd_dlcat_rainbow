{
 "cells": [
  {
   "cell_type": "markdown",
   "metadata": {},
   "source": [
    "## Configurations for Colab"
   ]
  },
  {
   "cell_type": "code",
   "execution_count": 1,
   "metadata": {},
   "outputs": [],
   "source": [
    "import sys\n",
    "IN_COLAB = 'google.colab' in sys.modules\n",
    "\n",
    "if IN_COLAB:\n",
    "    !apt install python-opengl\n",
    "    !apt install ffmpeg\n",
    "    !apt install xvfb\n",
    "    !pip install pyvirtualdisplay\n",
    "    from pyvirtualdisplay import Display\n",
    "    \n",
    "    # Start virtual display\n",
    "    dis = Display(visible=0, size=(400, 400))\n",
    "    dis.start()"
   ]
  },
  {
   "cell_type": "markdown",
   "metadata": {},
   "source": [
    "# 01. DQN\n",
    "\n",
    "[V. Mnih et al., \"Human-level control through deep reinforcement learning.\" Nature, 518\n",
    "(7540):529–533, 2015.](https://storage.googleapis.com/deepmind-media/dqn/DQNNaturePaper.pdf)\n",
    "\n",
    "Reinforcement learning is known to be unstable or even to diverge when a nonlinear function approximator such as a neural network is used to represent the action-value (also known as $Q$) function. This instability has several causes: the correlations present in the sequence of observations, the fact that small updates to $Q$ may significantly change the policy and therefore change the data distribution, and the correlations between the action-values ($Q$) and the target values $r + \\gamma \\max_{a'} Q(s', a')$.\n",
    "\n",
    "The authors suggest two key ideas to address these instabilities with a novel variant of Q-learning: Replay buffer and Fixed Q-target.\n",
    "\n",
    "#### Uniformly random sampling from Experience Replay Memory\n",
    "\n",
    "Reinforcement learning agent stores the experiences consecutively in the buffer, so adjacent ($s, a, r, s'$) transitions stored are highly likely to have correlation. To remove this, the agent samples experiences uniformly at random from the pool of stored samples $\\big( (s, a, r, s') \\sim U(D) \\big)$. See sample_batch method of ReplayBuffer class for more details.\n",
    "\n",
    "#### Fixed Q-target\n",
    "\n",
    "DQN uses an iterative update that adjusts the action-values ($Q$) towards target values that are only periodically updated, thereby reducing correlations with the target; if not, it is easily divergy because the target continuously moves. The Q-learning update at iteration $i$ uses the following loss function:\n",
    "\n",
    "$$\n",
    "L_i(\\theta_i) = \\mathbb{E}_{(s,a,r,s') \\sim U(D)} \\big[ \\big( r + \\gamma \\max_{a'} Q(s',a';\\theta_i^-) - Q(s, a; \\theta_i) \\big)^2 \\big]\n",
    "$$\n",
    "\n",
    "in which $\\gamma$ is the discount factor determining the agent’s horizon, $\\theta_i$ are the parameters of the Q-network at iteration $i$ and $\\theta_i^-$ are the network parameters used to compute the target at iteration $i$. The target network parameters $\\theta_i^-$ are only updated with the Q-network parameters ($\\theta_i$) every C steps and are held fixed between individual updates. ($C = 200$ in CartPole-v0)\n",
    "\n",
    "#### For more stability: Gradient clipping\n",
    "\n",
    "The authors also found it helpful to clip the error term from the update $r + \\gamma \\max_{a'} Q(s', a'; \\theta_i^-) - Q(s,a,;\\theta_i)$ to be between -1 and 1. Because the absolute value loss function $|x|$ has a derivative of -1 for all negative values of x and a derivative of 1 for all positive values of x, clipping the squared error to be between -1 and 1 corresponds to using an absolute value loss function for errors outside of the (-1,1) interval. This form of error clipping further improved the stability of the algorithm."
   ]
  },
  {
   "cell_type": "code",
   "execution_count": 2,
   "metadata": {},
   "outputs": [],
   "source": [
    "import os\n",
    "from typing import Dict, List, Tuple\n",
    "\n",
    "import gym\n",
    "import matplotlib.pyplot as plt\n",
    "import numpy as np\n",
    "import torch\n",
    "import torch.nn as nn\n",
    "import torch.nn.functional as F\n",
    "import torch.optim as optim\n",
    "from IPython.display import clear_output"
   ]
  },
  {
   "cell_type": "markdown",
   "metadata": {},
   "source": [
    "## Replay buffer\n",
    "\n",
    "Typically, people implement replay buffers with one of the following three data structures:\n",
    "\n",
    "  - collections.deque\n",
    "  - list\n",
    "  - numpy.ndarray\n",
    "  \n",
    "**deque** is very easy to handle once you initialize its maximum length (e.g. deque(maxlen=buffer_size)). However, the indexing operation of deque gets terribly slow as it grows up because it is [internally doubly linked list](https://wiki.python.org/moin/TimeComplexity#collections.deque). On the other hands, **list** is an array, so it is relatively faster than deque when you sample batches at every step. Its amortized cost of  *Get item* is [O(1)](https://wiki.python.org/moin/TimeComplexity#list).\n",
    "\n",
    "Last but not least, let's see **numpy.ndarray**. numpy.ndarray is even faster than list due to the fact that it is [a homogeneous array of fixed-size items](https://docs.scipy.org/doc/numpy/reference/generated/numpy.ndarray.html#numpy.ndarray), so you can get the benefits of [locality of reference](https://en.wikipedia.org/wiki/Locality_of_reference). Whereas list is an array of pointers to objects, even when all of them are of the same type.\n",
    "\n",
    "Here, we are going to implement a replay buffer using numpy.ndarray.\n",
    "\n",
    "\n",
    "Reference: [OpenAI spinning-up](https://github.com/openai/spinningup/blob/master/spinup/algos/sac/sac.py#L10)"
   ]
  },
  {
   "cell_type": "code",
   "execution_count": 3,
   "metadata": {},
   "outputs": [],
   "source": [
    "class ReplayBuffer:\n",
    "    \"\"\"A simple numpy replay buffer.\"\"\"\n",
    "\n",
    "    def __init__(self, obs_dim: int, size: int, batch_size: int = 32):\n",
    "        self.obs_buf = np.zeros([size, obs_dim], dtype=np.float32)\n",
    "        self.next_obs_buf = np.zeros([size, obs_dim], dtype=np.float32)\n",
    "        self.acts_buf = np.zeros([size], dtype=np.float32)\n",
    "        self.rews_buf = np.zeros([size], dtype=np.float32)\n",
    "        self.done_buf = np.zeros(size, dtype=np.float32)\n",
    "        self.max_size, self.batch_size = size, batch_size\n",
    "        self.ptr, self.size, = 0, 0\n",
    "\n",
    "    def store(\n",
    "        self,\n",
    "        obs: np.ndarray,\n",
    "        act: np.ndarray, \n",
    "        rew: float, \n",
    "        next_obs: np.ndarray, \n",
    "        done: bool,\n",
    "    ):\n",
    "        self.obs_buf[self.ptr] = obs\n",
    "        self.next_obs_buf[self.ptr] = next_obs\n",
    "        self.acts_buf[self.ptr] = act\n",
    "        self.rews_buf[self.ptr] = rew\n",
    "        self.done_buf[self.ptr] = done\n",
    "        self.ptr = (self.ptr + 1) % self.max_size\n",
    "        self.size = min(self.size + 1, self.max_size)\n",
    "\n",
    "    def sample_batch(self) -> Dict[str, np.ndarray]:\n",
    "        idxs = np.random.choice(self.size, size=self.batch_size, replace=False)\n",
    "        return dict(obs=self.obs_buf[idxs],\n",
    "                    next_obs=self.next_obs_buf[idxs],\n",
    "                    acts=self.acts_buf[idxs],\n",
    "                    rews=self.rews_buf[idxs],\n",
    "                    done=self.done_buf[idxs])\n",
    "\n",
    "    def __len__(self) -> int:\n",
    "        return self.size"
   ]
  },
  {
   "cell_type": "markdown",
   "metadata": {},
   "source": [
    "## Network\n",
    "\n",
    "We are going to use a simple network architecture with three fully connected layers and two non-linearity functions (ReLU)."
   ]
  },
  {
   "cell_type": "code",
   "execution_count": 4,
   "metadata": {},
   "outputs": [],
   "source": [
    "class Network(nn.Module):\n",
    "    def __init__(self, in_dim: int, out_dim: int):\n",
    "        \"\"\"Initialization.\"\"\"\n",
    "        super(Network, self).__init__()\n",
    "\n",
    "        self.layers = nn.Sequential(\n",
    "            nn.Linear(in_dim, 128), \n",
    "            nn.ReLU(),\n",
    "            nn.Linear(128, 128), \n",
    "            nn.ReLU(), \n",
    "            nn.Linear(128, out_dim)\n",
    "        )\n",
    "\n",
    "    def forward(self, x: torch.Tensor) -> torch.Tensor:\n",
    "        \"\"\"Forward method implementation.\"\"\"\n",
    "        return self.layers(x)"
   ]
  },
  {
   "cell_type": "markdown",
   "metadata": {},
   "source": [
    "## DQN Agent\n",
    "\n",
    "Here is a summary of DQNAgent class.\n",
    "\n",
    "| Method           | Note                                                 |\n",
    "| ---              | ---                                                  |\n",
    "|select_action     | select an action from the input state.               |\n",
    "|step              | take an action and return the response of the env.   |\n",
    "|compute_dqn_loss  | return dqn loss.                                     |\n",
    "|update_model      | update the model by gradient descent.                |\n",
    "|target_hard_update| hard update from the local model to the target model.|\n",
    "|train             | train the agent during num_frames.                   |\n",
    "|test              | test the agent (1 episode).                          |\n",
    "|plot              | plot the training progresses.                        |\n"
   ]
  },
  {
   "cell_type": "code",
   "execution_count": 5,
   "metadata": {},
   "outputs": [],
   "source": [
    "class DQNAgent:\n",
    "    \"\"\"DQN Agent interacting with environment.\n",
    "    \n",
    "    Attribute:\n",
    "        env (gym.Env): openAI Gym environment\n",
    "        memory (ReplayBuffer): replay memory to store transitions\n",
    "        batch_size (int): batch size for sampling\n",
    "        epsilon (float): parameter for epsilon greedy policy\n",
    "        epsilon_decay (float): step size to decrease epsilon\n",
    "        max_epsilon (float): max value of epsilon\n",
    "        min_epsilon (float): min value of epsilon\n",
    "        target_update (int): period for target model's hard update\n",
    "        gamma (float): discount factor\n",
    "        dqn (Network): model to train and select actions\n",
    "        dqn_target (Network): target model to update\n",
    "        optimizer (torch.optim): optimizer for training dqn\n",
    "        transition (list): transition information including \n",
    "                           state, action, reward, next_state, done\n",
    "    \"\"\"\n",
    "\n",
    "    def __init__(\n",
    "        self, \n",
    "        env: gym.Env,\n",
    "        memory_size: int,\n",
    "        batch_size: int,\n",
    "        target_update: int,\n",
    "        epsilon_decay: float,\n",
    "        max_epsilon: float = 1.0,\n",
    "        min_epsilon: float = 0.1,\n",
    "        gamma: float = 0.99,\n",
    "    ):\n",
    "        \"\"\"Initialization.\n",
    "        \n",
    "        Args:\n",
    "            env (gym.Env): openAI Gym environment\n",
    "            memory_size (int): length of memory\n",
    "            batch_size (int): batch size for sampling\n",
    "            target_update (int): period for target model's hard update\n",
    "            epsilon_decay (float): step size to decrease epsilon\n",
    "            lr (float): learning rate\n",
    "            max_epsilon (float): max value of epsilon\n",
    "            min_epsilon (float): min value of epsilon\n",
    "            gamma (float): discount factor\n",
    "        \"\"\"\n",
    "        obs_dim = env.observation_space.shape[0]\n",
    "        action_dim = env.action_space.n\n",
    "        \n",
    "        self.env = env\n",
    "        self.memory = ReplayBuffer(obs_dim, memory_size, batch_size)\n",
    "        self.batch_size = batch_size\n",
    "        self.epsilon = max_epsilon\n",
    "        self.epsilon_decay = epsilon_decay\n",
    "        self.max_epsilon = max_epsilon\n",
    "        self.min_epsilon = min_epsilon\n",
    "        self.target_update = target_update\n",
    "        self.gamma = gamma\n",
    "        \n",
    "        # device: cpu / gpu\n",
    "        self.device = torch.device(\n",
    "            \"cuda\" if torch.cuda.is_available() else \"cpu\"\n",
    "        )\n",
    "        print(self.device)\n",
    "\n",
    "        # networks: dqn, dqn_target\n",
    "        self.dqn = Network(obs_dim, action_dim).to(self.device)\n",
    "        self.dqn_target = Network(obs_dim, action_dim).to(self.device)\n",
    "        self.dqn_target.load_state_dict(self.dqn.state_dict())\n",
    "        self.dqn_target.eval()\n",
    "        \n",
    "        # optimizer\n",
    "        self.optimizer = optim.Adam(self.dqn.parameters())\n",
    "\n",
    "        # transition to store in memory\n",
    "        self.transition = list()\n",
    "        \n",
    "        # mode: train / test\n",
    "        self.is_test = False\n",
    "\n",
    "    def select_action(self, state: np.ndarray) -> np.ndarray:\n",
    "        \"\"\"Select an action from the input state.\"\"\"\n",
    "        # epsilon greedy policy\n",
    "        if self.epsilon > np.random.random():\n",
    "            selected_action = self.env.action_space.sample()\n",
    "        else:\n",
    "            selected_action = self.dqn(\n",
    "                torch.FloatTensor(state).to(self.device)\n",
    "            ).argmax()\n",
    "            selected_action = selected_action.detach().cpu().numpy()\n",
    "        \n",
    "        if not self.is_test:\n",
    "            self.transition = [state, selected_action]\n",
    "        \n",
    "        return selected_action\n",
    "\n",
    "    def step(self, action: np.ndarray) -> Tuple[np.ndarray, np.float64, bool]:\n",
    "        \"\"\"Take an action and return the response of the env.\"\"\"\n",
    "        next_state, reward, done, _ = self.env.step(action)\n",
    "\n",
    "        if not self.is_test:\n",
    "            self.transition += [reward, next_state, done]\n",
    "            self.memory.store(*self.transition)\n",
    "    \n",
    "        return next_state, reward, done\n",
    "\n",
    "    def update_model(self) -> torch.Tensor:\n",
    "        \"\"\"Update the model by gradient descent.\"\"\"\n",
    "        samples = self.memory.sample_batch()\n",
    "\n",
    "        loss = self._compute_dqn_loss(samples)\n",
    "\n",
    "        self.optimizer.zero_grad()\n",
    "        loss.backward()\n",
    "        self.optimizer.step()\n",
    "\n",
    "        return loss.item()\n",
    "        \n",
    "    def train(self, num_frames: int, plotting_interval: int = 200):\n",
    "        \"\"\"Train the agent.\"\"\"\n",
    "        self.is_test = False\n",
    "        \n",
    "        state = self.env.reset()\n",
    "        update_cnt = 0\n",
    "        epsilons = []\n",
    "        losses = []\n",
    "        scores = []\n",
    "        score = 0\n",
    "\n",
    "        for frame_idx in range(1, num_frames + 1):\n",
    "            action = self.select_action(state)\n",
    "            next_state, reward, done = self.step(action)\n",
    "\n",
    "            state = next_state\n",
    "            score += reward\n",
    "\n",
    "            # if episode ends\n",
    "            if done:\n",
    "                state = env.reset()\n",
    "                scores.append(score)\n",
    "                score = 0\n",
    "\n",
    "            # if training is ready\n",
    "            if len(self.memory) >= self.batch_size:\n",
    "                loss = self.update_model()\n",
    "                losses.append(loss)\n",
    "                update_cnt += 1\n",
    "                \n",
    "                # linearly decrease epsilon\n",
    "                self.epsilon = max(\n",
    "                    self.min_epsilon, self.epsilon - (\n",
    "                        self.max_epsilon - self.min_epsilon\n",
    "                    ) * self.epsilon_decay\n",
    "                )\n",
    "                epsilons.append(self.epsilon)\n",
    "                \n",
    "                # if hard update is needed\n",
    "                if update_cnt % self.target_update == 0:\n",
    "                    self._target_hard_update()\n",
    "\n",
    "            # plotting\n",
    "            if frame_idx % plotting_interval == 0:\n",
    "                self._plot(frame_idx, scores, losses, epsilons)\n",
    "                \n",
    "        self.env.close()\n",
    "                \n",
    "    def test(self) -> None:\n",
    "        \"\"\"Test the agent.\"\"\"\n",
    "        self.is_test = True\n",
    "        \n",
    "        state = self.env.reset()\n",
    "        done = False\n",
    "        score = 0\n",
    "        \n",
    "        while not done:\n",
    "            self.env.render()\n",
    "            action = self.select_action(state)\n",
    "            next_state, reward, done = self.step(action)\n",
    "\n",
    "            state = next_state\n",
    "            score += reward\n",
    "        \n",
    "        print(\"score: \", score)\n",
    "        self.env.close()\n",
    "\n",
    "    def _compute_dqn_loss(self, samples: Dict[str, np.ndarray]) -> torch.Tensor:\n",
    "        \"\"\"Return dqn loss.\"\"\"\n",
    "        device = self.device  # for shortening the following lines\n",
    "        state = torch.FloatTensor(samples[\"obs\"]).to(device)\n",
    "        next_state = torch.FloatTensor(samples[\"next_obs\"]).to(device)\n",
    "        action = torch.LongTensor(samples[\"acts\"].reshape(-1, 1)).to(device)\n",
    "        reward = torch.FloatTensor(samples[\"rews\"].reshape(-1, 1)).to(device)\n",
    "        done = torch.FloatTensor(samples[\"done\"].reshape(-1, 1)).to(device)\n",
    "\n",
    "        # G_t   = r + gamma * v(s_{t+1})  if state != Terminal\n",
    "        #       = r                       otherwise\n",
    "        curr_q_value = self.dqn(state).gather(1, action)\n",
    "        next_q_value = self.dqn_target(\n",
    "            next_state\n",
    "        ).max(dim=1, keepdim=True)[0].detach()\n",
    "        mask = 1 - done\n",
    "        target = (reward + self.gamma * next_q_value * mask).to(self.device)\n",
    "\n",
    "        # calculate dqn loss\n",
    "        loss = F.smooth_l1_loss(curr_q_value, target)\n",
    "\n",
    "        return loss\n",
    "\n",
    "    def _target_hard_update(self):\n",
    "        \"\"\"Hard update: target <- local.\"\"\"\n",
    "        self.dqn_target.load_state_dict(self.dqn.state_dict())\n",
    "                \n",
    "    def _plot(\n",
    "        self, \n",
    "        frame_idx: int, \n",
    "        scores: List[float], \n",
    "        losses: List[float], \n",
    "        epsilons: List[float],\n",
    "    ):\n",
    "        \"\"\"Plot the training progresses.\"\"\"\n",
    "        clear_output(True)\n",
    "        plt.figure(figsize=(20, 5))\n",
    "        plt.subplot(131)\n",
    "        plt.title('frame %s. score: %s' % (frame_idx, np.mean(scores[-10:])))\n",
    "        plt.plot(scores)\n",
    "        plt.subplot(132)\n",
    "        plt.title('loss')\n",
    "        plt.plot(losses)\n",
    "        plt.subplot(133)\n",
    "        plt.title('epsilons')\n",
    "        plt.plot(epsilons)\n",
    "        plt.show()"
   ]
  },
  {
   "cell_type": "markdown",
   "metadata": {},
   "source": [
    "## Environment\n",
    "\n",
    "You can see the [code](https://github.com/openai/gym/blob/master/gym/envs/classic_control/cartpole.py) and [configurations](https://github.com/openai/gym/blob/master/gym/envs/__init__.py#L53) of CartPole-v0 from OpenAI's repository."
   ]
  },
  {
   "cell_type": "code",
   "execution_count": 6,
   "metadata": {},
   "outputs": [],
   "source": [
    "# environment\n",
    "env_id = \"CartPole-v0\"\n",
    "env = gym.make(env_id)"
   ]
  },
  {
   "cell_type": "markdown",
   "metadata": {},
   "source": [
    "## Set random seed"
   ]
  },
  {
   "cell_type": "code",
   "execution_count": 7,
   "metadata": {},
   "outputs": [
    {
     "data": {
      "text/plain": [
       "[777]"
      ]
     },
     "execution_count": 7,
     "metadata": {},
     "output_type": "execute_result"
    }
   ],
   "source": [
    "seed = 777\n",
    "\n",
    "def seed_torch(seed):\n",
    "    torch.manual_seed(seed)\n",
    "    if torch.backends.cudnn.enabled:\n",
    "        torch.backends.cudnn.benchmark = False\n",
    "        torch.backends.cudnn.deterministic = True\n",
    "\n",
    "np.random.seed(seed)\n",
    "seed_torch(seed)\n",
    "env.seed(seed)"
   ]
  },
  {
   "cell_type": "markdown",
   "metadata": {},
   "source": [
    "## Initialize"
   ]
  },
  {
   "cell_type": "code",
   "execution_count": 8,
   "metadata": {},
   "outputs": [
    {
     "name": "stdout",
     "output_type": "stream",
     "text": [
      "cuda\n"
     ]
    }
   ],
   "source": [
    "# parameters\n",
    "num_frames = 20000\n",
    "memory_size = 1000\n",
    "batch_size = 32\n",
    "target_update = 100\n",
    "epsilon_decay = 1 / 2000\n",
    "\n",
    "agent = DQNAgent(env, memory_size, batch_size, target_update, epsilon_decay)"
   ]
  },
  {
   "cell_type": "markdown",
   "metadata": {},
   "source": [
    "## Train"
   ]
  },
  {
   "cell_type": "code",
   "execution_count": 9,
   "metadata": {},
   "outputs": [
    {
     "data": {
      "image/png": "[encoded data removed]",
      "text/plain": [
       "<Figure size 1440x360 with 3 Axes>"
      ]
     },
     "metadata": {
      "needs_background": "light"
     },
     "output_type": "display_data"
    }
   ],
   "source": [
    "agent.train(num_frames)"
   ]
  },
  {
   "cell_type": "markdown",
   "metadata": {},
   "source": [
    "## Test\n",
    "\n",
    "Run the trained agent (1 episode)."
   ]
  },
  {
   "cell_type": "code",
   "execution_count": 10,
   "metadata": {},
   "outputs": [
    {
     "name": "stdout",
     "output_type": "stream",
     "text": [
      "score:  200.0\n"
     ]
    }
   ],
   "source": [
    "agent.env = gym.wrappers.Monitor(env, \"videos\", force=True)\n",
    "agent.test()"
   ]
  },
  {
   "cell_type": "markdown",
   "metadata": {},
   "source": [
    "## Render"
   ]
  },
  {
   "cell_type": "code",
   "execution_count": 11,
   "metadata": {},
   "outputs": [
    {
     "name": "stdout",
     "output_type": "stream",
     "text": [
      "videos/openaigym.video.0.13069.video000000.mp4\n"
     ]
    },
    {
     "data": {
      "text/html": [
       "\n",
       "        <video alt=\"test\" controls>\n",
       "        <source src=\"data:video/mp4;base64,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\" type=\"video/mp4\" />\n",
       "        </video>\n",
       "        "
      ],
      "text/plain": [
       "<IPython.core.display.HTML object>"
      ]
     },
     "metadata": {},
     "output_type": "display_data"
    }
   ],
   "source": [
    "import os\n",
    "import io\n",
    "import base64\n",
    "import glob\n",
    "\n",
    "from IPython.display import display, HTML\n",
    "\n",
    "\n",
    "def ipython_show_video(path: str) -> None:\n",
    "    \"\"\"Show a video at `path` within IPython Notebook.\"\"\"\n",
    "    print(latest_file)\n",
    "    \n",
    "    if not os.path.isfile(path):\n",
    "        raise NameError(\"Cannot access: {}\".format(path))\n",
    "\n",
    "    video = io.open(path, 'r+b').read()\n",
    "    encoded = base64.b64encode(video)\n",
    "\n",
    "    display(HTML(\n",
    "        data=\"\"\"\n",
    "        <video alt=\"test\" controls>\n",
    "        <source src=\"data:video/mp4;base64,{0}\" type=\"video/mp4\" />\n",
    "        </video>\n",
    "        \"\"\".format(encoded.decode(\"ascii\"))\n",
    "    ))\n",
    "\n",
    "list_of_files = glob.glob('videos/*.mp4')\n",
    "latest_file = max(list_of_files, key=os.path.getctime)\n",
    "ipython_show_video(latest_file)"
   ]
  }
 ],
 "metadata": {
  "kernelspec": {
   "display_name": "Python 3",
   "language": "python",
   "name": "python3"
  },
  "language_info": {
   "codemirror_mode": {
    "name": "ipython",
    "version": 3
   },
   "file_extension": ".py",
   "mimetype": "text/x-python",
   "name": "python",
   "nbconvert_exporter": "python",
   "pygments_lexer": "ipython3",
   "version": "3.6.10"
  }
 },
 "nbformat": 4,
 "nbformat_minor": 2
}
