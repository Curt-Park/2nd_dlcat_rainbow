{
 "cells": [
  {
   "cell_type": "markdown",
   "metadata": {},
   "source": [
    "## Configurations for Colab"
   ]
  },
  {
   "cell_type": "code",
   "execution_count": 1,
   "metadata": {},
   "outputs": [],
   "source": [
    "import sys\n",
    "IN_COLAB = \"google.colab\" in sys.modules\n",
    "\n",
    "if IN_COLAB:\n",
    "    !apt install python-opengl\n",
    "    !apt install ffmpeg\n",
    "    !apt install xvfb\n",
    "    !pip install PyVirtualDisplay==3.0\n",
    "    !pip install gymnasium == 0.28.1\n",
    "    from pyvirtualdisplay import Display\n",
    "    \n",
    "    # Start virtual display\n",
    "    dis = Display(visible=0, size=(400, 400))\n",
    "    dis.start()"
   ]
  },
  {
   "cell_type": "markdown",
   "metadata": {},
   "source": [
    "# 01. DQN\n",
    "\n",
    "[V. Mnih et al., \"Human-level control through deep reinforcement learning.\" Nature, 518\n",
    "(7540):529–533, 2015.](https://storage.googleapis.com/deepmind-media/dqn/DQNNaturePaper.pdf)\n",
    "\n",
    "Reinforcement learning is known to be unstable or even to diverge when a nonlinear function approximator such as a neural network is used to represent the action-value (also known as $Q$) function. This instability has several causes: the correlations present in the sequence of observations, the fact that small updates to $Q$ may significantly change the policy and therefore change the data distribution, and the correlations between the action-values ($Q$) and the target values $r + \\gamma \\max_{a'} Q(s', a')$.\n",
    "\n",
    "The authors suggest two key ideas to address these instabilities with a novel variant of Q-learning: Replay buffer and Fixed Q-target.\n",
    "\n",
    "#### Uniformly random sampling from Experience Replay Memory\n",
    "\n",
    "Reinforcement learning agent stores the experiences consecutively in the buffer, so adjacent ($s, a, r, s'$) transitions stored are highly likely to have correlation. To remove this, the agent samples experiences uniformly at random from the pool of stored samples $\\big( (s, a, r, s') \\sim U(D) \\big)$. See sample_batch method of ReplayBuffer class for more details.\n",
    "\n",
    "#### Fixed Q-target\n",
    "\n",
    "DQN uses an iterative update that adjusts the action-values ($Q$) towards target values that are only periodically updated, thereby reducing correlations with the target; if not, it is easily divergy because the target continuously moves. The Q-learning update at iteration $i$ uses the following loss function:\n",
    "\n",
    "$$\n",
    "L_i(\\theta_i) = \\mathbb{E}_{(s,a,r,s') \\sim U(D)} \\big[ \\big( r + \\gamma \\max_{a'} Q(s',a';\\theta_i^-) - Q(s, a; \\theta_i) \\big)^2 \\big]\n",
    "$$\n",
    "\n",
    "in which $\\gamma$ is the discount factor determining the agent’s horizon, $\\theta_i$ are the parameters of the Q-network at iteration $i$ and $\\theta_i^-$ are the network parameters used to compute the target at iteration $i$. The target network parameters $\\theta_i^-$ are only updated with the Q-network parameters ($\\theta_i$) every C steps and are held fixed between individual updates. ($C = 200$ in CartPole-v0)\n",
    "\n",
    "#### For more stability: Gradient clipping\n",
    "\n",
    "The authors also found it helpful to clip the error term from the update $r + \\gamma \\max_{a'} Q(s', a'; \\theta_i^-) - Q(s,a,;\\theta_i)$ to be between -1 and 1. Because the absolute value loss function $|x|$ has a derivative of -1 for all negative values of x and a derivative of 1 for all positive values of x, clipping the squared error to be between -1 and 1 corresponds to using an absolute value loss function for errors outside of the (-1,1) interval. This form of error clipping further improved the stability of the algorithm."
   ]
  },
  {
   "cell_type": "code",
   "execution_count": 2,
   "metadata": {},
   "outputs": [
    {
     "name": "stderr",
     "output_type": "stream",
     "text": [
      "/Users/jinwoo.park/miniforge3/envs/rainbow-is-all-you-need/lib/python3.8/site-packages/tqdm/auto.py:21: TqdmWarning: IProgress not found. Please update jupyter and ipywidgets. See https://ipywidgets.readthedocs.io/en/stable/user_install.html\n",
      "  from .autonotebook import tqdm as notebook_tqdm\n"
     ]
    }
   ],
   "source": [
    "import os\n",
    "from typing import Dict, List, Tuple\n",
    "\n",
    "import gymnasium as gym\n",
    "import matplotlib.pyplot as plt\n",
    "import numpy as np\n",
    "import torch\n",
    "import torch.nn as nn\n",
    "import torch.nn.functional as F\n",
    "import torch.optim as optim\n",
    "from IPython.display import clear_output"
   ]
  },
  {
   "cell_type": "markdown",
   "metadata": {},
   "source": [
    "## Replay buffer\n",
    "\n",
    "Typically, people implement replay buffers with one of the following three data structures:\n",
    "\n",
    "  - collections.deque\n",
    "  - list\n",
    "  - numpy.ndarray\n",
    "  \n",
    "**deque** is very easy to handle once you initialize its maximum length (e.g. deque(maxlen=buffer_size)). However, the indexing operation of deque gets terribly slow as it grows up because it is [internally doubly linked list](https://wiki.python.org/moin/TimeComplexity#collections.deque). On the other hands, **list** is an array, so it is relatively faster than deque when you sample batches at every step. Its amortized cost of  *Get item* is [O(1)](https://wiki.python.org/moin/TimeComplexity#list).\n",
    "\n",
    "Last but not least, let's see **numpy.ndarray**. numpy.ndarray is even faster than list due to the fact that it is [a homogeneous array of fixed-size items](https://docs.scipy.org/doc/numpy/reference/generated/numpy.ndarray.html#numpy.ndarray), so you can get the benefits of [locality of reference](https://en.wikipedia.org/wiki/Locality_of_reference). Whereas list is an array of pointers to objects, even when all of them are of the same type.\n",
    "\n",
    "Here, we are going to implement a replay buffer using numpy.ndarray.\n",
    "\n",
    "\n",
    "Reference: [OpenAI spinning-up](https://github.com/openai/spinningup/blob/master/spinup/algos/sac/sac.py#L10)"
   ]
  },
  {
   "cell_type": "code",
   "execution_count": 3,
   "metadata": {},
   "outputs": [],
   "source": [
    "class ReplayBuffer:\n",
    "    \"\"\"A simple numpy replay buffer.\"\"\"\n",
    "\n",
    "    def __init__(self, obs_dim: int, size: int, batch_size: int = 32):\n",
    "        self.obs_buf = np.zeros([size, obs_dim], dtype=np.float32)\n",
    "        self.next_obs_buf = np.zeros([size, obs_dim], dtype=np.float32)\n",
    "        self.acts_buf = np.zeros([size], dtype=np.float32)\n",
    "        self.rews_buf = np.zeros([size], dtype=np.float32)\n",
    "        self.done_buf = np.zeros(size, dtype=np.float32)\n",
    "        self.max_size, self.batch_size = size, batch_size\n",
    "        self.ptr, self.size, = 0, 0\n",
    "\n",
    "    def store(\n",
    "        self,\n",
    "        obs: np.ndarray,\n",
    "        act: np.ndarray, \n",
    "        rew: float, \n",
    "        next_obs: np.ndarray, \n",
    "        done: bool,\n",
    "    ):\n",
    "        self.obs_buf[self.ptr] = obs\n",
    "        self.next_obs_buf[self.ptr] = next_obs\n",
    "        self.acts_buf[self.ptr] = act\n",
    "        self.rews_buf[self.ptr] = rew\n",
    "        self.done_buf[self.ptr] = done\n",
    "        self.ptr = (self.ptr + 1) % self.max_size\n",
    "        self.size = min(self.size + 1, self.max_size)\n",
    "\n",
    "    def sample_batch(self) -> Dict[str, np.ndarray]:\n",
    "        idxs = np.random.choice(self.size, size=self.batch_size, replace=False)\n",
    "        return dict(obs=self.obs_buf[idxs],\n",
    "                    next_obs=self.next_obs_buf[idxs],\n",
    "                    acts=self.acts_buf[idxs],\n",
    "                    rews=self.rews_buf[idxs],\n",
    "                    done=self.done_buf[idxs])\n",
    "\n",
    "    def __len__(self) -> int:\n",
    "        return self.size"
   ]
  },
  {
   "cell_type": "markdown",
   "metadata": {},
   "source": [
    "## Network\n",
    "\n",
    "We are going to use a simple network architecture with three fully connected layers and two non-linearity functions (ReLU)."
   ]
  },
  {
   "cell_type": "code",
   "execution_count": 4,
   "metadata": {},
   "outputs": [],
   "source": [
    "class Network(nn.Module):\n",
    "    def __init__(self, in_dim: int, out_dim: int):\n",
    "        \"\"\"Initialization.\"\"\"\n",
    "        super(Network, self).__init__()\n",
    "\n",
    "        self.layers = nn.Sequential(\n",
    "            nn.Linear(in_dim, 128), \n",
    "            nn.ReLU(),\n",
    "            nn.Linear(128, 128), \n",
    "            nn.ReLU(), \n",
    "            nn.Linear(128, out_dim)\n",
    "        )\n",
    "\n",
    "    def forward(self, x: torch.Tensor) -> torch.Tensor:\n",
    "        \"\"\"Forward method implementation.\"\"\"\n",
    "        return self.layers(x)"
   ]
  },
  {
   "cell_type": "markdown",
   "metadata": {},
   "source": [
    "## DQN Agent\n",
    "\n",
    "Here is a summary of DQNAgent class.\n",
    "\n",
    "| Method           | Note                                                 |\n",
    "| ---              | ---                                                  |\n",
    "|select_action     | select an action from the input state.               |\n",
    "|step              | take an action and return the response of the env.   |\n",
    "|compute_dqn_loss  | return dqn loss.                                     |\n",
    "|update_model      | update the model by gradient descent.                |\n",
    "|target_hard_update| hard update from the local model to the target model.|\n",
    "|train             | train the agent during num_frames.                   |\n",
    "|test              | test the agent (1 episode).                          |\n",
    "|plot              | plot the training progresses.                        |\n"
   ]
  },
  {
   "cell_type": "code",
   "execution_count": 5,
   "metadata": {},
   "outputs": [],
   "source": [
    "class DQNAgent:\n",
    "    \"\"\"DQN Agent interacting with environment.\n",
    "    \n",
    "    Attribute:\n",
    "        env (gym.Env): openAI Gym environment\n",
    "        memory (ReplayBuffer): replay memory to store transitions\n",
    "        batch_size (int): batch size for sampling\n",
    "        epsilon (float): parameter for epsilon greedy policy\n",
    "        epsilon_decay (float): step size to decrease epsilon\n",
    "        max_epsilon (float): max value of epsilon\n",
    "        min_epsilon (float): min value of epsilon\n",
    "        target_update (int): period for target model's hard update\n",
    "        gamma (float): discount factor\n",
    "        dqn (Network): model to train and select actions\n",
    "        dqn_target (Network): target model to update\n",
    "        optimizer (torch.optim): optimizer for training dqn\n",
    "        transition (list): transition information including \n",
    "                           state, action, reward, next_state, done\n",
    "    \"\"\"\n",
    "\n",
    "    def __init__(\n",
    "        self, \n",
    "        env: gym.Env,\n",
    "        memory_size: int,\n",
    "        batch_size: int,\n",
    "        target_update: int,\n",
    "        epsilon_decay: float,\n",
    "        seed: int,\n",
    "        max_epsilon: float = 1.0,\n",
    "        min_epsilon: float = 0.1,\n",
    "        gamma: float = 0.99,\n",
    "    ):\n",
    "        \"\"\"Initialization.\n",
    "        \n",
    "        Args:\n",
    "            env (gym.Env): openAI Gym environment\n",
    "            memory_size (int): length of memory\n",
    "            batch_size (int): batch size for sampling\n",
    "            target_update (int): period for target model's hard update\n",
    "            epsilon_decay (float): step size to decrease epsilon\n",
    "            lr (float): learning rate\n",
    "            max_epsilon (float): max value of epsilon\n",
    "            min_epsilon (float): min value of epsilon\n",
    "            gamma (float): discount factor\n",
    "        \"\"\"\n",
    "        obs_dim = env.observation_space.shape[0]\n",
    "        action_dim = env.action_space.n\n",
    "        \n",
    "        self.env = env\n",
    "        self.memory = ReplayBuffer(obs_dim, memory_size, batch_size)\n",
    "        self.batch_size = batch_size\n",
    "        self.epsilon = max_epsilon\n",
    "        self.epsilon_decay = epsilon_decay\n",
    "        self.seed = seed\n",
    "        self.max_epsilon = max_epsilon\n",
    "        self.min_epsilon = min_epsilon\n",
    "        self.target_update = target_update\n",
    "        self.gamma = gamma\n",
    "        \n",
    "        # device: cpu / gpu\n",
    "        self.device = torch.device(\n",
    "            \"cuda\" if torch.cuda.is_available() else \"cpu\"\n",
    "        )\n",
    "        print(self.device)\n",
    "\n",
    "        # networks: dqn, dqn_target\n",
    "        self.dqn = Network(obs_dim, action_dim).to(self.device)\n",
    "        self.dqn_target = Network(obs_dim, action_dim).to(self.device)\n",
    "        self.dqn_target.load_state_dict(self.dqn.state_dict())\n",
    "        self.dqn_target.eval()\n",
    "        \n",
    "        # optimizer\n",
    "        self.optimizer = optim.Adam(self.dqn.parameters())\n",
    "\n",
    "        # transition to store in memory\n",
    "        self.transition = list()\n",
    "        \n",
    "        # mode: train / test\n",
    "        self.is_test = False\n",
    "\n",
    "    def select_action(self, state: np.ndarray) -> np.ndarray:\n",
    "        \"\"\"Select an action from the input state.\"\"\"\n",
    "        # epsilon greedy policy\n",
    "        if self.epsilon > np.random.random():\n",
    "            selected_action = self.env.action_space.sample()\n",
    "        else:\n",
    "            selected_action = self.dqn(\n",
    "                torch.FloatTensor(state).to(self.device)\n",
    "            ).argmax()\n",
    "            selected_action = selected_action.detach().cpu().numpy()\n",
    "        \n",
    "        if not self.is_test:\n",
    "            self.transition = [state, selected_action]\n",
    "        \n",
    "        return selected_action\n",
    "\n",
    "    def step(self, action: np.ndarray) -> Tuple[np.ndarray, np.float64, bool]:\n",
    "        \"\"\"Take an action and return the response of the env.\"\"\"\n",
    "        next_state, reward, terminated, truncated, _ = self.env.step(action)\n",
    "        done = terminated or truncated\n",
    "\n",
    "        if not self.is_test:\n",
    "            self.transition += [reward, next_state, done]\n",
    "            self.memory.store(*self.transition)\n",
    "    \n",
    "        return next_state, reward, done\n",
    "\n",
    "    def update_model(self) -> torch.Tensor:\n",
    "        \"\"\"Update the model by gradient descent.\"\"\"\n",
    "        samples = self.memory.sample_batch()\n",
    "\n",
    "        loss = self._compute_dqn_loss(samples)\n",
    "\n",
    "        self.optimizer.zero_grad()\n",
    "        loss.backward()\n",
    "        self.optimizer.step()\n",
    "\n",
    "        return loss.item()\n",
    "        \n",
    "    def train(self, num_frames: int, plotting_interval: int = 200):\n",
    "        \"\"\"Train the agent.\"\"\"\n",
    "        self.is_test = False\n",
    "        \n",
    "        state, _ = self.env.reset(seed=self.seed)\n",
    "        update_cnt = 0\n",
    "        epsilons = []\n",
    "        losses = []\n",
    "        scores = []\n",
    "        score = 0\n",
    "\n",
    "        for frame_idx in range(1, num_frames + 1):\n",
    "            action = self.select_action(state)\n",
    "            next_state, reward, done = self.step(action)\n",
    "\n",
    "            state = next_state\n",
    "            score += reward\n",
    "\n",
    "            # if episode ends\n",
    "            if done:\n",
    "                state, _ = self.env.reset(seed=self.seed)\n",
    "                scores.append(score)\n",
    "                score = 0\n",
    "\n",
    "            # if training is ready\n",
    "            if len(self.memory) >= self.batch_size:\n",
    "                loss = self.update_model()\n",
    "                losses.append(loss)\n",
    "                update_cnt += 1\n",
    "                \n",
    "                # linearly decrease epsilon\n",
    "                self.epsilon = max(\n",
    "                    self.min_epsilon, self.epsilon - (\n",
    "                        self.max_epsilon - self.min_epsilon\n",
    "                    ) * self.epsilon_decay\n",
    "                )\n",
    "                epsilons.append(self.epsilon)\n",
    "                \n",
    "                # if hard update is needed\n",
    "                if update_cnt % self.target_update == 0:\n",
    "                    self._target_hard_update()\n",
    "\n",
    "            # plotting\n",
    "            if frame_idx % plotting_interval == 0:\n",
    "                self._plot(frame_idx, scores, losses, epsilons)\n",
    "                \n",
    "        self.env.close()\n",
    "                \n",
    "    def test(self, video_folder: str) -> None:\n",
    "        \"\"\"Test the agent.\"\"\"\n",
    "        self.is_test = True\n",
    "        \n",
    "        # for recording a video\n",
    "        naive_env = self.env\n",
    "        self.env = gym.wrappers.RecordVideo(self.env, video_folder=video_folder)\n",
    "        \n",
    "        state, _ = self.env.reset(seed=self.seed)\n",
    "        done = False\n",
    "        score = 0\n",
    "        \n",
    "        while not done:\n",
    "            action = self.select_action(state)\n",
    "            next_state, reward, done = self.step(action)\n",
    "\n",
    "            state = next_state\n",
    "            score += reward\n",
    "        \n",
    "        print(\"score: \", score)\n",
    "        self.env.close()\n",
    "        \n",
    "        # reset\n",
    "        self.env = naive_env\n",
    "\n",
    "    def _compute_dqn_loss(self, samples: Dict[str, np.ndarray]) -> torch.Tensor:\n",
    "        \"\"\"Return dqn loss.\"\"\"\n",
    "        device = self.device  # for shortening the following lines\n",
    "        state = torch.FloatTensor(samples[\"obs\"]).to(device)\n",
    "        next_state = torch.FloatTensor(samples[\"next_obs\"]).to(device)\n",
    "        action = torch.LongTensor(samples[\"acts\"].reshape(-1, 1)).to(device)\n",
    "        reward = torch.FloatTensor(samples[\"rews\"].reshape(-1, 1)).to(device)\n",
    "        done = torch.FloatTensor(samples[\"done\"].reshape(-1, 1)).to(device)\n",
    "\n",
    "        # G_t   = r + gamma * v(s_{t+1})  if state != Terminal\n",
    "        #       = r                       otherwise\n",
    "        curr_q_value = self.dqn(state).gather(1, action)\n",
    "        next_q_value = self.dqn_target(\n",
    "            next_state\n",
    "        ).max(dim=1, keepdim=True)[0].detach()\n",
    "        mask = 1 - done\n",
    "        target = (reward + self.gamma * next_q_value * mask).to(self.device)\n",
    "\n",
    "        # calculate dqn loss\n",
    "        loss = F.smooth_l1_loss(curr_q_value, target)\n",
    "\n",
    "        return loss\n",
    "\n",
    "    def _target_hard_update(self):\n",
    "        \"\"\"Hard update: target <- local.\"\"\"\n",
    "        self.dqn_target.load_state_dict(self.dqn.state_dict())\n",
    "                \n",
    "    def _plot(\n",
    "        self, \n",
    "        frame_idx: int, \n",
    "        scores: List[float], \n",
    "        losses: List[float], \n",
    "        epsilons: List[float],\n",
    "    ):\n",
    "        \"\"\"Plot the training progresses.\"\"\"\n",
    "        clear_output(True)\n",
    "        plt.figure(figsize=(20, 5))\n",
    "        plt.subplot(131)\n",
    "        plt.title('frame %s. score: %s' % (frame_idx, np.mean(scores[-10:])))\n",
    "        plt.plot(scores)\n",
    "        plt.subplot(132)\n",
    "        plt.title('loss')\n",
    "        plt.plot(losses)\n",
    "        plt.subplot(133)\n",
    "        plt.title('epsilons')\n",
    "        plt.plot(epsilons)\n",
    "        plt.show()"
   ]
  },
  {
   "cell_type": "markdown",
   "metadata": {},
   "source": [
    "## Environment\n",
    "\n",
    "You can see the [code](https://github.com/Farama-Foundation/Gymnasium/blob/main/gymnasium/envs/classic_control/cartpole.py) and [configurations](https://github.com/Farama-Foundation/Gymnasium/blob/main/gymnasium/envs/classic_control/cartpole.py#L91) of CartPole-v1 from Farama Gymnasium's repository."
   ]
  },
  {
   "cell_type": "code",
   "execution_count": 6,
   "metadata": {},
   "outputs": [
    {
     "name": "stderr",
     "output_type": "stream",
     "text": [
      "/Users/jinwoo.park/miniforge3/envs/rainbow-is-all-you-need/lib/python3.8/site-packages/gymnasium/envs/registration.py:523: DeprecationWarning: \u001b[33mWARN: The environment CartPole-v0 is out of date. You should consider upgrading to version `v1`.\u001b[0m\n",
      "  logger.deprecation(\n"
     ]
    }
   ],
   "source": [
    "# environment\n",
    "env = gym.make(\"CartPole-v0\", render_mode=\"rgb_array\")"
   ]
  },
  {
   "cell_type": "markdown",
   "metadata": {},
   "source": [
    "## Set random seed"
   ]
  },
  {
   "cell_type": "code",
   "execution_count": 7,
   "metadata": {},
   "outputs": [],
   "source": [
    "seed = 777\n",
    "\n",
    "def seed_torch(seed):\n",
    "    torch.manual_seed(seed)\n",
    "    if torch.backends.cudnn.enabled:\n",
    "        torch.cuda.manual_seed(seed)\n",
    "        torch.backends.cudnn.benchmark = False\n",
    "        torch.backends.cudnn.deterministic = True\n",
    "\n",
    "np.random.seed(seed)\n",
    "seed_torch(seed)"
   ]
  },
  {
   "cell_type": "markdown",
   "metadata": {},
   "source": [
    "## Initialize"
   ]
  },
  {
   "cell_type": "code",
   "execution_count": 8,
   "metadata": {},
   "outputs": [
    {
     "name": "stdout",
     "output_type": "stream",
     "text": [
      "cuda\n"
     ]
    }
   ],
   "source": [
    "# parameters\n",
    "num_frames = 10000\n",
    "memory_size = 1000\n",
    "batch_size = 32\n",
    "target_update = 100\n",
    "epsilon_decay = 1 / 2000\n",
    "\n",
    "agent = DQNAgent(env, memory_size, batch_size, target_update, epsilon_decay, seed)"
   ]
  },
  {
   "cell_type": "markdown",
   "metadata": {},
   "source": [
    "## Train"
   ]
  },
  {
   "cell_type": "code",
   "execution_count": 9,
   "metadata": {},
   "outputs": [
    {
     "data": {
      "image/png": "[encoded data removed]",
      "text/plain": [
       "<Figure size 2000x500 with 3 Axes>"
      ]
     },
     "metadata": {},
     "output_type": "display_data"
    }
   ],
   "source": [
    "agent.train(num_frames)"
   ]
  },
  {
   "cell_type": "markdown",
   "metadata": {},
   "source": [
    "## Test\n",
    "\n",
    "Run the trained agent (1 episode)."
   ]
  },
  {
   "cell_type": "code",
   "execution_count": 10,
   "metadata": {},
   "outputs": [
    {
     "name": "stderr",
     "output_type": "stream",
     "text": [
      "/Users/jinwoo.park/miniforge3/envs/rainbow-is-all-you-need/lib/python3.8/site-packages/gymnasium/wrappers/record_video.py:87: UserWarning: \u001b[33mWARN: Overwriting existing videos at /Users/jinwoo.park/Repositories/rainbow-is-all-you-need/videos/dqn folder (try specifying a different `video_folder` for the `RecordVideo` wrapper if this is not desired)\u001b[0m\n",
      "  logger.warn(\n"
     ]
    },
    {
     "name": "stdout",
     "output_type": "stream",
     "text": [
      "Moviepy - Building video /Users/jinwoo.park/Repositories/rainbow-is-all-you-need/videos/dqn/rl-video-episode-0.mp4.\n",
      "Moviepy - Writing video /Users/jinwoo.park/Repositories/rainbow-is-all-you-need/videos/dqn/rl-video-episode-0.mp4\n",
      "\n"
     ]
    },
    {
     "name": "stderr",
     "output_type": "stream",
     "text": [
      "                                                                                                               "
     ]
    },
    {
     "name": "stdout",
     "output_type": "stream",
     "text": [
      "Moviepy - Done !\n",
      "Moviepy - video ready /Users/jinwoo.park/Repositories/rainbow-is-all-you-need/videos/dqn/rl-video-episode-0.mp4\n",
      "score:  118.0\n"
     ]
    },
    {
     "name": "stderr",
     "output_type": "stream",
     "text": [
      "\r"
     ]
    }
   ],
   "source": [
    "video_folder=\"videos/dqn\"\n",
    "agent.test(video_folder=video_folder)"
   ]
  },
  {
   "cell_type": "markdown",
   "metadata": {},
   "source": [
    "## Render"
   ]
  },
  {
   "cell_type": "code",
   "execution_count": 11,
   "metadata": {},
   "outputs": [
    {
     "data": {
      "text/html": [
       "\n",
       "        <video width=\"320\" height=\"240\" alt=\"test\" controls>\n",
       "        <source src=\"data:video/mp4;base64,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\" type=\"video/mp4\"/>\n",
       "        </video>\n",
       "        "
      ],
      "text/plain": [
       "<IPython.core.display.HTML object>"
      ]
     },
     "metadata": {},
     "output_type": "display_data"
    },
    {
     "name": "stdout",
     "output_type": "stream",
     "text": [
      "Played: videos/dqn/rl-video-episode-0.mp4\n"
     ]
    }
   ],
   "source": [
    "import base64\n",
    "import glob\n",
    "import io\n",
    "import os\n",
    "\n",
    "from IPython.display import HTML, display\n",
    "\n",
    "\n",
    "def ipython_show_video(path: str) -> None:\n",
    "    \"\"\"Show a video at `path` within IPython Notebook.\"\"\"\n",
    "    if not os.path.isfile(path):\n",
    "        raise NameError(\"Cannot access: {}\".format(path))\n",
    "\n",
    "    video = io.open(path, \"r+b\").read()\n",
    "    encoded = base64.b64encode(video)\n",
    "\n",
    "    display(HTML(\n",
    "        data=\"\"\"\n",
    "        <video width=\"320\" height=\"240\" alt=\"test\" controls>\n",
    "        <source src=\"data:video/mp4;base64,{0}\" type=\"video/mp4\"/>\n",
    "        </video>\n",
    "        \"\"\".format(encoded.decode(\"ascii\"))\n",
    "    ))\n",
    "\n",
    "\n",
    "def show_latest_video(video_folder: str) -> str:\n",
    "    \"\"\"Show the most recently recorded video from video folder.\"\"\"\n",
    "    list_of_files = glob.glob(os.path.join(video_folder, \"*.mp4\"))\n",
    "    latest_file = max(list_of_files, key=os.path.getctime)\n",
    "    ipython_show_video(latest_file)\n",
    "    return latest_file\n",
    "\n",
    "\n",
    "latest_file = show_latest_video(video_folder=video_folder)\n",
    "print(\"Played:\", latest_file)"
   ]
  }
 ],
 "metadata": {
  "kernelspec": {
   "display_name": "rainbow-is-all-you-need",
   "language": "python",
   "name": "rainbow-is-all-you-need"
  },
  "language_info": {
   "codemirror_mode": {
    "name": "ipython",
    "version": 3
   },
   "file_extension": ".py",
   "mimetype": "text/x-python",
   "name": "python",
   "nbconvert_exporter": "python",
   "pygments_lexer": "ipython3",
   "version": "3.8.12"
  }
 },
 "nbformat": 4,
 "nbformat_minor": 1
}
