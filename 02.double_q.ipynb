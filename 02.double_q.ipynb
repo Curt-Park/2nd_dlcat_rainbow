{
 "cells": [
  {
   "cell_type": "markdown",
   "metadata": {},
   "source": [
    "## Configurations for Colab"
   ]
  },
  {
   "cell_type": "code",
   "execution_count": 1,
   "metadata": {},
   "outputs": [],
   "source": [
    "import sys\n",
    "IN_COLAB = \"google.colab\" in sys.modules\n",
    "\n",
    "if IN_COLAB:\n",
    "    !apt install python-opengl\n",
    "    !apt install ffmpeg\n",
    "    !apt install xvfb\n",
    "    !pip install PyVirtualDisplay==3.0\n",
    "    !pip install gymnasium == 0.28.1\n",
    "    from pyvirtualdisplay import Display\n",
    "    \n",
    "    # Start virtual display\n",
    "    dis = Display(visible=0, size=(400, 400))\n",
    "    dis.start()"
   ]
  },
  {
   "cell_type": "markdown",
   "metadata": {},
   "source": [
    "# 02. Double DQN\n",
    "\n",
    "[van Hasselt et al., \"Deep Reinforcement Learning with Double Q-learning.\" arXiv preprint arXiv:1509.06461, 2015.](https://arxiv.org/pdf/1509.06461.pdf)\n",
    "\n",
    "\n",
    "\n",
    "\n",
    "Let's take a close look at the difference between DQN and Double-DQN. The max operator in standard Q-learning and DQN uses the same values both to select and to evaluate an action. This makes it more likely to select overestimated values, resulting in overoptimistic value estimates.\n",
    "\n",
    "$$\n",
    "\\theta_{t+1} = \\theta_t + \\alpha \\big(Y_t^Q - Q(S_t, A_t; \\theta_t)\\big) \\cdot \\nabla_{\\theta_t} Q(S_t, A_t; \\theta_t),\\\\\n",
    "\\text{where } \\alpha \\text{ is a scalar step size and the target } Y_t^Q \\text{is defined as }\\\\\n",
    "Y_t^Q = R_{t+1} + \\gamma \\max_a Q(S_{t+1}, a; \\theta_t).\n",
    "$$\n",
    "\n",
    "In Double Q-learning ([van Hasselt 2010](https://papers.nips.cc/paper/3964-double-q-learning.pdf)), two value functions are learned by assigning experiences randomly to update one of the two value functions, resulting in two sets of weights, $\\theta$ and $\\theta'$. For each update, one set of weights is used to determine the greedy policy and the other to determine its value. For a clear comparison, we can untangle the selection and evaluation in Q-learning and rewrite DQN's target as\n",
    "\n",
    "$$\n",
    "Y_t^Q = R_{t+1} + \\gamma Q(S_{t+1}, \\arg\\max_a Q(S_{t+1}, a; \\theta_t); \\theta_t).\n",
    "$$\n",
    "\n",
    "The Double Q-learning error can then be written as\n",
    "\n",
    "$$\n",
    "Y_t^{DoubleQ} = R_{t+1} + \\gamma Q(S_{t+1}, \\arg\\max_a Q(S_{t+1}, a; \\theta_t); \\theta_t').\n",
    "$$\n",
    "\n",
    "The idea of Double Q-learning is to reduce overestimations by decomposing the max operation in the target into action selection and action evaluation. Although not fully decoupled, the target network in the DQN architecture provides a natural candidate for the second value function, without having to introduce additional networks. In conclusion, the weights of the second network $\\theta_t'$ are replaced with the weights of the target network for the evaluation of the current greedy policy. This makes just a small change in calculating the target value of DQN loss.\n",
    "\n",
    "##### DQN:\n",
    "\n",
    "```\n",
    "target = reward + gamma * dqn_target(next_state).max(dim=1, keepdim=True)[0]\n",
    "```\n",
    "\n",
    "##### DoubleDQN:\n",
    "\n",
    "```\n",
    "selected_action = dqn(next_state).argmax(dim=1, keepdim=True)\n",
    "target = reward + gamma * dqn_target(next_state).gather(1, selected_action)\n",
    "```\n",
    "      "
   ]
  },
  {
   "cell_type": "code",
   "execution_count": 2,
   "metadata": {},
   "outputs": [
    {
     "name": "stderr",
     "output_type": "stream",
     "text": [
      "/Users/jinwoo.park/miniforge3/envs/rainbow-is-all-you-need/lib/python3.8/site-packages/tqdm/auto.py:21: TqdmWarning: IProgress not found. Please update jupyter and ipywidgets. See https://ipywidgets.readthedocs.io/en/stable/user_install.html\n",
      "  from .autonotebook import tqdm as notebook_tqdm\n"
     ]
    }
   ],
   "source": [
    "import os\n",
    "from typing import Dict, List, Tuple\n",
    "\n",
    "import gymnasium as gym\n",
    "import matplotlib.pyplot as plt\n",
    "import numpy as np\n",
    "import torch\n",
    "import torch.nn as nn\n",
    "import torch.nn.functional as F\n",
    "import torch.optim as optim\n",
    "from IPython.display import clear_output"
   ]
  },
  {
   "cell_type": "markdown",
   "metadata": {},
   "source": [
    "## Replay buffer\n",
    "\n",
    "Please see *01.dqn.ipynb* for detailed description."
   ]
  },
  {
   "cell_type": "code",
   "execution_count": 3,
   "metadata": {},
   "outputs": [],
   "source": [
    "class ReplayBuffer:\n",
    "    \"\"\"A simple numpy replay buffer.\"\"\"\n",
    "\n",
    "    def __init__(self, obs_dim: int, size: int, batch_size: int = 32):\n",
    "        self.obs_buf = np.zeros([size, obs_dim], dtype=np.float32)\n",
    "        self.next_obs_buf = np.zeros([size, obs_dim], dtype=np.float32)\n",
    "        self.acts_buf = np.zeros([size], dtype=np.float32)\n",
    "        self.rews_buf = np.zeros([size], dtype=np.float32)\n",
    "        self.done_buf = np.zeros(size, dtype=np.float32)\n",
    "        self.max_size, self.batch_size = size, batch_size\n",
    "        self.ptr, self.size, = 0, 0\n",
    "\n",
    "    def store(\n",
    "        self,\n",
    "        obs: np.ndarray,\n",
    "        act: np.ndarray, \n",
    "        rew: float, \n",
    "        next_obs: np.ndarray, \n",
    "        done: bool,\n",
    "    ):\n",
    "        self.obs_buf[self.ptr] = obs\n",
    "        self.next_obs_buf[self.ptr] = next_obs\n",
    "        self.acts_buf[self.ptr] = act\n",
    "        self.rews_buf[self.ptr] = rew\n",
    "        self.done_buf[self.ptr] = done\n",
    "        self.ptr = (self.ptr + 1) % self.max_size\n",
    "        self.size = min(self.size + 1, self.max_size)\n",
    "\n",
    "    def sample_batch(self) -> Dict[str, np.ndarray]:\n",
    "        idxs = np.random.choice(self.size, size=self.batch_size, replace=False)\n",
    "        return dict(obs=self.obs_buf[idxs],\n",
    "                    next_obs=self.next_obs_buf[idxs],\n",
    "                    acts=self.acts_buf[idxs],\n",
    "                    rews=self.rews_buf[idxs],\n",
    "                    done=self.done_buf[idxs])\n",
    "\n",
    "    def __len__(self) -> int:\n",
    "        return self.size"
   ]
  },
  {
   "cell_type": "markdown",
   "metadata": {},
   "source": [
    "## Network\n",
    "\n",
    "We are going to use a simple network architecture with three fully connected layers and two non-linearity functions (ReLU)."
   ]
  },
  {
   "cell_type": "code",
   "execution_count": 4,
   "metadata": {},
   "outputs": [],
   "source": [
    "class Network(nn.Module):\n",
    "    def __init__(self, in_dim: int, out_dim: int):\n",
    "        \"\"\"Initialization.\"\"\"\n",
    "        super(Network, self).__init__()\n",
    "\n",
    "        self.layers = nn.Sequential(\n",
    "            nn.Linear(in_dim, 128), \n",
    "            nn.ReLU(),\n",
    "            nn.Linear(128, 128), \n",
    "            nn.ReLU(), \n",
    "            nn.Linear(128, out_dim)\n",
    "        )\n",
    "\n",
    "    def forward(self, x: torch.Tensor) -> torch.Tensor:\n",
    "        \"\"\"Forward method implementation.\"\"\"\n",
    "        return self.layers(x)"
   ]
  },
  {
   "cell_type": "markdown",
   "metadata": {},
   "source": [
    "## Double DQN Agent\n",
    "\n",
    "Here is a summary of DQNAgent class.\n",
    "\n",
    "| Method           | Note                                                 |\n",
    "| ---              | ---                                                  |\n",
    "|select_action     | select an action from the input state.               |\n",
    "|step              | take an action and return the response of the env.   |\n",
    "|compute_dqn_loss  | return dqn loss.                                     |\n",
    "|update_model      | update the model by gradient descent.                |\n",
    "|target_hard_update| hard update from the local model to the target model.|\n",
    "|train             | train the agent during num_frames.                   |\n",
    "|test              | test the agent (1 episode).                          |\n",
    "|plot              | plot the training progresses.                        |\n",
    "\n",
    "We use `self.dqn` instead of `self.dqn_target` for action selection.\n",
    "\n",
    "```\n",
    "\n",
    "        next_q_value = self.dqn_target(next_state).gather(\n",
    "            1, self.dqn(next_state).argmax(dim=1, keepdim=True)  # Double DQN\n",
    "        ).detach()\n",
    "        mask = 1 - done\n",
    "        target = (reward + self.gamma * next_q_value * mask).to(self.device)\n",
    "```"
   ]
  },
  {
   "cell_type": "code",
   "execution_count": 5,
   "metadata": {},
   "outputs": [],
   "source": [
    "class DQNAgent:\n",
    "    \"\"\"DQN Agent interacting with environment.\n",
    "    \n",
    "    Attribute:\n",
    "        env (gym.Env): openAI Gym environment\n",
    "        memory (ReplayBuffer): replay memory to store transitions\n",
    "        batch_size (int): batch size for sampling\n",
    "        epsilon (float): parameter for epsilon greedy policy\n",
    "        epsilon_decay (float): step size to decrease epsilon\n",
    "        max_epsilon (float): max value of epsilon\n",
    "        min_epsilon (float): min value of epsilon\n",
    "        target_update (int): period for target model's hard update\n",
    "        gamma (float): discount factor\n",
    "        dqn (Network): model to train and select actions\n",
    "        dqn_target (Network): target model to update\n",
    "        optimizer (torch.optim): optimizer for training dqn\n",
    "        transition (list): transition information including \n",
    "                           state, action, reward, next_state, done\n",
    "    \"\"\"\n",
    "\n",
    "    def __init__(\n",
    "        self, \n",
    "        env: gym.Env,\n",
    "        memory_size: int,\n",
    "        batch_size: int,\n",
    "        target_update: int,\n",
    "        epsilon_decay: float,\n",
    "        seed: int,\n",
    "        max_epsilon: float = 1.0,\n",
    "        min_epsilon: float = 0.1,\n",
    "        gamma: float = 0.99,\n",
    "    ):\n",
    "        \"\"\"Initialization.\n",
    "        \n",
    "        Args:\n",
    "            env (gym.Env): openAI Gym environment\n",
    "            memory_size (int): length of memory\n",
    "            batch_size (int): batch size for sampling\n",
    "            target_update (int): period for target model's hard update\n",
    "            epsilon_decay (float): step size to decrease epsilon\n",
    "            lr (float): learning rate\n",
    "            max_epsilon (float): max value of epsilon\n",
    "            min_epsilon (float): min value of epsilon\n",
    "            gamma (float): discount factor\n",
    "        \"\"\"\n",
    "        obs_dim = env.observation_space.shape[0]\n",
    "        action_dim = env.action_space.n\n",
    "        \n",
    "        self.env = env\n",
    "        self.memory = ReplayBuffer(obs_dim, memory_size, batch_size)\n",
    "        self.batch_size = batch_size\n",
    "        self.epsilon = max_epsilon\n",
    "        self.epsilon_decay = epsilon_decay\n",
    "        self.seed = seed\n",
    "        self.max_epsilon = max_epsilon\n",
    "        self.min_epsilon = min_epsilon\n",
    "        self.target_update = target_update\n",
    "        self.gamma = gamma\n",
    "        \n",
    "        # device: cpu / gpu\n",
    "        self.device = torch.device(\n",
    "            \"cuda\" if torch.cuda.is_available() else \"cpu\"\n",
    "        )\n",
    "        print(self.device)\n",
    "\n",
    "        # networks: dqn, dqn_target\n",
    "        self.dqn = Network(obs_dim, action_dim).to(self.device)\n",
    "        self.dqn_target = Network(obs_dim, action_dim).to(self.device)\n",
    "        self.dqn_target.load_state_dict(self.dqn.state_dict())\n",
    "        self.dqn_target.eval()\n",
    "        \n",
    "        # optimizer\n",
    "        self.optimizer = optim.Adam(self.dqn.parameters())\n",
    "\n",
    "        # transition to store in memory\n",
    "        self.transition = list()\n",
    "        \n",
    "        # mode: train / test\n",
    "        self.is_test = False\n",
    "\n",
    "    def select_action(self, state: np.ndarray) -> np.ndarray:\n",
    "        \"\"\"Select an action from the input state.\"\"\"\n",
    "        # epsilon greedy policy\n",
    "        if self.epsilon > np.random.random():\n",
    "            selected_action = self.env.action_space.sample()\n",
    "        else:\n",
    "            selected_action = self.dqn(\n",
    "                torch.FloatTensor(state).to(self.device)\n",
    "            ).argmax()\n",
    "            selected_action = selected_action.detach().cpu().numpy()\n",
    "        \n",
    "        if not self.is_test:\n",
    "            self.transition = [state, selected_action]\n",
    "        \n",
    "        return selected_action\n",
    "\n",
    "    def step(self, action: np.ndarray) -> Tuple[np.ndarray, np.float64, bool]:\n",
    "        \"\"\"Take an action and return the response of the env.\"\"\"\n",
    "        next_state, reward, terminated, truncated, _ = self.env.step(action)\n",
    "        done = terminated or truncated\n",
    "\n",
    "        if not self.is_test:\n",
    "            self.transition += [reward, next_state, done]\n",
    "            self.memory.store(*self.transition)\n",
    "    \n",
    "        return next_state, reward, done\n",
    "\n",
    "    def update_model(self) -> torch.Tensor:\n",
    "        \"\"\"Update the model by gradient descent.\"\"\"\n",
    "        samples = self.memory.sample_batch()\n",
    "\n",
    "        loss = self._compute_dqn_loss(samples)\n",
    "\n",
    "        self.optimizer.zero_grad()\n",
    "        loss.backward()\n",
    "        self.optimizer.step()\n",
    "\n",
    "        return loss.item()\n",
    "        \n",
    "    def train(self, num_frames: int, plotting_interval: int = 200):\n",
    "        \"\"\"Train the agent.\"\"\"\n",
    "        self.is_test = False\n",
    "        \n",
    "        state, _ = self.env.reset(seed=self.seed)\n",
    "        update_cnt = 0\n",
    "        epsilons = []\n",
    "        losses = []\n",
    "        scores = []\n",
    "        score = 0\n",
    "\n",
    "        for frame_idx in range(1, num_frames + 1):\n",
    "            action = self.select_action(state)\n",
    "            next_state, reward, done = self.step(action)\n",
    "\n",
    "            state = next_state\n",
    "            score += reward\n",
    "\n",
    "            # if episode ends\n",
    "            if done:\n",
    "                state, _ = self.env.reset(seed=self.seed)\n",
    "                scores.append(score)\n",
    "                score = 0\n",
    "\n",
    "            # if training is ready\n",
    "            if len(self.memory) >= self.batch_size:\n",
    "                loss = self.update_model()\n",
    "                losses.append(loss)\n",
    "                update_cnt += 1\n",
    "                \n",
    "                # linearly decrease epsilon\n",
    "                self.epsilon = max(\n",
    "                    self.min_epsilon, self.epsilon - (\n",
    "                        self.max_epsilon - self.min_epsilon\n",
    "                    ) * self.epsilon_decay\n",
    "                )\n",
    "                epsilons.append(self.epsilon)\n",
    "                \n",
    "                # if hard update is needed\n",
    "                if update_cnt % self.target_update == 0:\n",
    "                    self._target_hard_update()\n",
    "\n",
    "            # plotting\n",
    "            if frame_idx % plotting_interval == 0:\n",
    "                self._plot(frame_idx, scores, losses, epsilons)\n",
    "                \n",
    "        self.env.close()\n",
    "                \n",
    "    def test(self, video_folder: str) -> None:\n",
    "        \"\"\"Test the agent.\"\"\"\n",
    "        self.is_test = True\n",
    "        \n",
    "        # for recording a video\n",
    "        naive_env = self.env\n",
    "        self.env = gym.wrappers.RecordVideo(self.env, video_folder=video_folder)\n",
    "        \n",
    "        state, _ = self.env.reset(seed=self.seed)\n",
    "        done = False\n",
    "        score = 0\n",
    "        \n",
    "        while not done:\n",
    "            action = self.select_action(state)\n",
    "            next_state, reward, done = self.step(action)\n",
    "\n",
    "            state = next_state\n",
    "            score += reward\n",
    "        \n",
    "        print(\"score: \", score)\n",
    "        self.env.close()\n",
    "        \n",
    "        # reset\n",
    "        self.env = naive_env\n",
    "\n",
    "    def _compute_dqn_loss(self, samples: Dict[str, np.ndarray]) -> torch.Tensor:\n",
    "        \"\"\"Return dqn loss.\"\"\"\n",
    "        device = self.device  # for shortening the following lines\n",
    "        state = torch.FloatTensor(samples[\"obs\"]).to(device)\n",
    "        next_state = torch.FloatTensor(samples[\"next_obs\"]).to(device)\n",
    "        action = torch.LongTensor(samples[\"acts\"].reshape(-1, 1)).to(device)\n",
    "        reward = torch.FloatTensor(samples[\"rews\"].reshape(-1, 1)).to(device)\n",
    "        done = torch.FloatTensor(samples[\"done\"].reshape(-1, 1)).to(device)\n",
    "        \n",
    "        # G_t   = r + gamma * v(s_{t+1})  if state != Terminal\n",
    "        #       = r                       otherwise\n",
    "        curr_q_value = self.dqn(state).gather(1, action)\n",
    "        next_q_value = self.dqn_target(next_state).gather(  # Double DQN\n",
    "            1, self.dqn(next_state).argmax(dim=1, keepdim=True)\n",
    "        ).detach()\n",
    "        mask = 1 - done\n",
    "        target = (reward + self.gamma * next_q_value * mask).to(self.device)\n",
    "\n",
    "        # calculate dqn loss\n",
    "        loss = F.smooth_l1_loss(curr_q_value, target)\n",
    "\n",
    "        return loss\n",
    "    \n",
    "    def _target_hard_update(self):\n",
    "        \"\"\"Hard update: target <- local.\"\"\"\n",
    "        self.dqn_target.load_state_dict(self.dqn.state_dict())\n",
    "                \n",
    "    def _plot(\n",
    "        self, \n",
    "        frame_idx: int, \n",
    "        scores: List[float], \n",
    "        losses: List[float], \n",
    "        epsilons: List[float],\n",
    "    ):\n",
    "        \"\"\"Plot the training progresses.\"\"\"\n",
    "        clear_output(True)\n",
    "        plt.figure(figsize=(20, 5))\n",
    "        plt.subplot(131)\n",
    "        plt.title('frame %s. score: %s' % (frame_idx, np.mean(scores[-10:])))\n",
    "        plt.plot(scores)\n",
    "        plt.subplot(132)\n",
    "        plt.title('loss')\n",
    "        plt.plot(losses)\n",
    "        plt.subplot(133)\n",
    "        plt.title('epsilons')\n",
    "        plt.plot(epsilons)\n",
    "        plt.show()"
   ]
  },
  {
   "cell_type": "markdown",
   "metadata": {},
   "source": [
    "## Environment\n",
    "\n",
    "You can see the [code](https://github.com/Farama-Foundation/Gymnasium/blob/main/gymnasium/envs/classic_control/cartpole.py) and [configurations](https://github.com/Farama-Foundation/Gymnasium/blob/main/gymnasium/envs/classic_control/cartpole.py#L91) of CartPole-v1 from Farama Gymnasium's repository."
   ]
  },
  {
   "cell_type": "code",
   "execution_count": 6,
   "metadata": {},
   "outputs": [
    {
     "name": "stderr",
     "output_type": "stream",
     "text": [
      "/Users/jinwoo.park/miniforge3/envs/rainbow-is-all-you-need/lib/python3.8/site-packages/gymnasium/envs/registration.py:523: DeprecationWarning: \u001b[33mWARN: The environment CartPole-v0 is out of date. You should consider upgrading to version `v1`.\u001b[0m\n",
      "  logger.deprecation(\n"
     ]
    }
   ],
   "source": [
    "# environment\n",
    "env = gym.make(\"CartPole-v0\", render_mode=\"rgb_array\")"
   ]
  },
  {
   "cell_type": "markdown",
   "metadata": {},
   "source": [
    "## Set random seed"
   ]
  },
  {
   "cell_type": "code",
   "execution_count": 7,
   "metadata": {},
   "outputs": [],
   "source": [
    "seed = 777\n",
    "\n",
    "def seed_torch(seed):\n",
    "    torch.manual_seed(seed)\n",
    "    if torch.backends.cudnn.enabled:\n",
    "        torch.cuda.manual_seed(seed)\n",
    "        torch.backends.cudnn.benchmark = False\n",
    "        torch.backends.cudnn.deterministic = True\n",
    "\n",
    "np.random.seed(seed)\n",
    "seed_torch(seed)"
   ]
  },
  {
   "cell_type": "markdown",
   "metadata": {},
   "source": [
    "## Initialize"
   ]
  },
  {
   "cell_type": "code",
   "execution_count": 8,
   "metadata": {},
   "outputs": [
    {
     "name": "stdout",
     "output_type": "stream",
     "text": [
      "cpu\n"
     ]
    }
   ],
   "source": [
    "# parameters\n",
    "num_frames = 10000\n",
    "memory_size = 1000\n",
    "batch_size = 32\n",
    "target_update = 200\n",
    "epsilon_decay = 1 / 2000\n",
    "\n",
    "# train\n",
    "agent = DQNAgent(env, memory_size, batch_size, target_update, epsilon_decay, seed)"
   ]
  },
  {
   "cell_type": "markdown",
   "metadata": {},
   "source": [
    "## Train"
   ]
  },
  {
   "cell_type": "code",
   "execution_count": 9,
   "metadata": {},
   "outputs": [
    {
     "data": {
      "image/png": "[encoded data removed]",
      "text/plain": [
       "<Figure size 1440x360 with 3 Axes>"
      ]
     },
     "metadata": {
      "needs_background": "light"
     },
     "output_type": "display_data"
    }
   ],
   "source": [
    "agent.train(num_frames)"
   ]
  },
  {
   "cell_type": "markdown",
   "metadata": {},
   "source": [
    "## Test\n",
    "\n",
    "Run the trained agent (1 episode)."
   ]
  },
  {
   "cell_type": "code",
   "execution_count": 10,
   "metadata": {},
   "outputs": [
    {
     "name": "stderr",
     "output_type": "stream",
     "text": [
      "/Users/jinwoo.park/miniforge3/envs/rainbow-is-all-you-need/lib/python3.8/site-packages/gymnasium/wrappers/record_video.py:87: UserWarning: \u001b[33mWARN: Overwriting existing videos at /Users/jinwoo.park/Repositories/rainbow-is-all-you-need/videos/double_q folder (try specifying a different `video_folder` for the `RecordVideo` wrapper if this is not desired)\u001b[0m\n",
      "  logger.warn(\n"
     ]
    },
    {
     "name": "stdout",
     "output_type": "stream",
     "text": [
      "Moviepy - Building video /Users/jinwoo.park/Repositories/rainbow-is-all-you-need/videos/double_q/rl-video-episode-0.mp4.\n",
      "Moviepy - Writing video /Users/jinwoo.park/Repositories/rainbow-is-all-you-need/videos/double_q/rl-video-episode-0.mp4\n",
      "\n"
     ]
    },
    {
     "name": "stderr",
     "output_type": "stream",
     "text": [
      "                                                                                                               "
     ]
    },
    {
     "name": "stdout",
     "output_type": "stream",
     "text": [
      "Moviepy - Done !\n",
      "Moviepy - video ready /Users/jinwoo.park/Repositories/rainbow-is-all-you-need/videos/double_q/rl-video-episode-0.mp4\n",
      "score:  200.0\n"
     ]
    },
    {
     "name": "stderr",
     "output_type": "stream",
     "text": [
      "\r"
     ]
    }
   ],
   "source": [
    "video_folder=\"videos/double_q\"\n",
    "agent.test(video_folder=video_folder)"
   ]
  },
  {
   "cell_type": "markdown",
   "metadata": {},
   "source": [
    "## Render"
   ]
  },
  {
   "cell_type": "code",
   "execution_count": 11,
   "metadata": {},
   "outputs": [
    {
     "data": {
      "text/html": [
       "\n",
       "        <video width=\"320\" height=\"240\" alt=\"test\" controls>\n",
       "        <source src=\"data:video/mp4;base64,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\" type=\"video/mp4\"/>\n",
       "        </video>\n",
       "        "
      ],
      "text/plain": [
       "<IPython.core.display.HTML object>"
      ]
     },
     "metadata": {},
     "output_type": "display_data"
    },
    {
     "name": "stdout",
     "output_type": "stream",
     "text": [
      "Played: videos/double_q/rl-video-episode-0.mp4\n"
     ]
    }
   ],
   "source": [
    "import base64\n",
    "import glob\n",
    "import io\n",
    "import os\n",
    "\n",
    "from IPython.display import HTML, display\n",
    "\n",
    "\n",
    "def ipython_show_video(path: str) -> None:\n",
    "    \"\"\"Show a video at `path` within IPython Notebook.\"\"\"\n",
    "    if not os.path.isfile(path):\n",
    "        raise NameError(\"Cannot access: {}\".format(path))\n",
    "\n",
    "    video = io.open(path, \"r+b\").read()\n",
    "    encoded = base64.b64encode(video)\n",
    "\n",
    "    display(HTML(\n",
    "        data=\"\"\"\n",
    "        <video width=\"320\" height=\"240\" alt=\"test\" controls>\n",
    "        <source src=\"data:video/mp4;base64,{0}\" type=\"video/mp4\"/>\n",
    "        </video>\n",
    "        \"\"\".format(encoded.decode(\"ascii\"))\n",
    "    ))\n",
    "\n",
    "\n",
    "def show_latest_video(video_folder: str) -> str:\n",
    "    \"\"\"Show the most recently recorded video from video folder.\"\"\"\n",
    "    list_of_files = glob.glob(os.path.join(video_folder, \"*.mp4\"))\n",
    "    latest_file = max(list_of_files, key=os.path.getctime)\n",
    "    ipython_show_video(latest_file)\n",
    "    return latest_file\n",
    "\n",
    "\n",
    "latest_file = show_latest_video(video_folder=video_folder)\n",
    "print(\"Played:\", latest_file)"
   ]
  }
 ],
 "metadata": {
  "kernelspec": {
   "display_name": "rainbow-is-all-you-need",
   "language": "python",
   "name": "rainbow-is-all-you-need"
  },
  "language_info": {
   "codemirror_mode": {
    "name": "ipython",
    "version": 3
   },
   "file_extension": ".py",
   "mimetype": "text/x-python",
   "name": "python",
   "nbconvert_exporter": "python",
   "pygments_lexer": "ipython3",
   "version": "3.8.12"
  }
 },
 "nbformat": 4,
 "nbformat_minor": 4
}
