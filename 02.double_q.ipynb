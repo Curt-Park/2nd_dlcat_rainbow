{
 "cells": [
  {
   "cell_type": "markdown",
   "metadata": {},
   "source": [
    "## Configurations for Colab"
   ]
  },
  {
   "cell_type": "code",
   "execution_count": 1,
   "metadata": {},
   "outputs": [],
   "source": [
    "import sys\n",
    "IN_COLAB = 'google.colab' in sys.modules\n",
    "\n",
    "if IN_COLAB:\n",
    "    !apt install python-opengl\n",
    "    !apt install ffmpeg\n",
    "    !apt install xvfb\n",
    "    !pip install pyvirtualdisplay\n",
    "    from pyvirtualdisplay import Display\n",
    "    \n",
    "    # Start virtual display\n",
    "    dis = Display(visible=0, size=(400, 400))\n",
    "    dis.start()"
   ]
  },
  {
   "cell_type": "markdown",
   "metadata": {},
   "source": [
    "# 02. Double DQN\n",
    "\n",
    "[van Hasselt et al., \"Deep Reinforcement Learning with Double Q-learning.\" arXiv preprint arXiv:1509.06461, 2015.](https://arxiv.org/pdf/1509.06461.pdf)\n",
    "\n",
    "\n",
    "\n",
    "\n",
    "Let's take a close look at the difference between DQN and Double-DQN. The max operator in standard Q-learning and DQN uses the same values both to select and to evaluate an action. This makes it more likely to select overestimated values, resulting in overoptimistic value estimates.\n",
    "\n",
    "$$\n",
    "\\theta_{t+1} = \\theta_t + \\alpha \\big(Y_t^Q - Q(S_t, A_t; \\theta_t)\\big) \\cdot \\nabla_{\\theta_t} Q(S_t, A_t; \\theta_t),\\\\\n",
    "\\text{where } \\alpha \\text{ is a scalar step size and the target } Y_t^Q \\text{is defined as }\\\\\n",
    "Y_t^Q = R_{t+1} + \\gamma \\max_a Q(S_{t+1}, a; \\theta_t).\n",
    "$$\n",
    "\n",
    "In Double Q-learning ([van Hasselt 2010](https://papers.nips.cc/paper/3964-double-q-learning.pdf)), two value functions are learned by assigning experiences randomly to update one of the two value functions, resulting in two sets of weights, $\\theta$ and $\\theta'$. For each update, one set of weights is used to determine the greedy policy and the other to determine its value. For a clear comparison, we can untangle the selection and evaluation in Q-learning and rewrite DQN's target as\n",
    "\n",
    "$$\n",
    "Y_t^Q = R_{t+1} + \\gamma Q(S_{t+1}, \\arg\\max_a Q(S_{t+1}, a; \\theta_t); \\theta_t).\n",
    "$$\n",
    "\n",
    "The Double Q-learning error can then be written as\n",
    "\n",
    "$$\n",
    "Y_t^{DoubleQ} = R_{t+1} + \\gamma Q(S_{t+1}, \\arg\\max_a Q(S_{t+1}, a; \\theta_t); \\theta_t').\n",
    "$$\n",
    "\n",
    "The idea of Double Q-learning is to reduce overestimations by decomposing the max operation in the target into action selection and action evaluation. Although not fully decoupled, the target network in the DQN architecture provides a natural candidate for the second value function, without having to introduce additional networks. In conclusion, the weights of the second network $\\theta_t'$ are replaced with the weights of the target network for the evaluation of the current greedy policy. This makes just a small change in calculating the target value of DQN loss.\n",
    "\n",
    "##### DQN:\n",
    "\n",
    "```\n",
    "target = reward + gamma * dqn_target(next_state).max(dim=1, keepdim=True)[0]\n",
    "```\n",
    "\n",
    "##### DoubleDQN:\n",
    "\n",
    "```\n",
    "selected_action = dqn(next_state).argmax(dim=1, keepdim=True)\n",
    "target = reward + gamma * dqn_target(next_state).gather(1, selected_action)\n",
    "```\n",
    "      "
   ]
  },
  {
   "cell_type": "code",
   "execution_count": 2,
   "metadata": {},
   "outputs": [],
   "source": [
    "import os\n",
    "from typing import Dict, List, Tuple\n",
    "\n",
    "import gym\n",
    "import matplotlib.pyplot as plt\n",
    "import numpy as np\n",
    "import torch\n",
    "import torch.nn as nn\n",
    "import torch.nn.functional as F\n",
    "import torch.optim as optim\n",
    "from IPython.display import clear_output"
   ]
  },
  {
   "cell_type": "markdown",
   "metadata": {},
   "source": [
    "## Replay buffer\n",
    "\n",
    "Please see *01.dqn.ipynb* for detailed description."
   ]
  },
  {
   "cell_type": "code",
   "execution_count": 3,
   "metadata": {},
   "outputs": [],
   "source": [
    "class ReplayBuffer:\n",
    "    \"\"\"A simple numpy replay buffer.\"\"\"\n",
    "\n",
    "    def __init__(self, obs_dim: int, size: int, batch_size: int = 32):\n",
    "        self.obs_buf = np.zeros([size, obs_dim], dtype=np.float32)\n",
    "        self.next_obs_buf = np.zeros([size, obs_dim], dtype=np.float32)\n",
    "        self.acts_buf = np.zeros([size], dtype=np.float32)\n",
    "        self.rews_buf = np.zeros([size], dtype=np.float32)\n",
    "        self.done_buf = np.zeros(size, dtype=np.float32)\n",
    "        self.max_size, self.batch_size = size, batch_size\n",
    "        self.ptr, self.size, = 0, 0\n",
    "\n",
    "    def store(\n",
    "        self,\n",
    "        obs: np.ndarray,\n",
    "        act: np.ndarray, \n",
    "        rew: float, \n",
    "        next_obs: np.ndarray, \n",
    "        done: bool,\n",
    "    ):\n",
    "        self.obs_buf[self.ptr] = obs\n",
    "        self.next_obs_buf[self.ptr] = next_obs\n",
    "        self.acts_buf[self.ptr] = act\n",
    "        self.rews_buf[self.ptr] = rew\n",
    "        self.done_buf[self.ptr] = done\n",
    "        self.ptr = (self.ptr + 1) % self.max_size\n",
    "        self.size = min(self.size + 1, self.max_size)\n",
    "\n",
    "    def sample_batch(self) -> Dict[str, np.ndarray]:\n",
    "        idxs = np.random.choice(self.size, size=self.batch_size, replace=False)\n",
    "        return dict(obs=self.obs_buf[idxs],\n",
    "                    next_obs=self.next_obs_buf[idxs],\n",
    "                    acts=self.acts_buf[idxs],\n",
    "                    rews=self.rews_buf[idxs],\n",
    "                    done=self.done_buf[idxs])\n",
    "\n",
    "    def __len__(self) -> int:\n",
    "        return self.size"
   ]
  },
  {
   "cell_type": "markdown",
   "metadata": {},
   "source": [
    "## Network\n",
    "\n",
    "We are going to use a simple network architecture with three fully connected layers and two non-linearity functions (ReLU)."
   ]
  },
  {
   "cell_type": "code",
   "execution_count": 4,
   "metadata": {},
   "outputs": [],
   "source": [
    "class Network(nn.Module):\n",
    "    def __init__(self, in_dim: int, out_dim: int):\n",
    "        \"\"\"Initialization.\"\"\"\n",
    "        super(Network, self).__init__()\n",
    "\n",
    "        self.layers = nn.Sequential(\n",
    "            nn.Linear(in_dim, 128), \n",
    "            nn.ReLU(),\n",
    "            nn.Linear(128, 128), \n",
    "            nn.ReLU(), \n",
    "            nn.Linear(128, out_dim)\n",
    "        )\n",
    "\n",
    "    def forward(self, x: torch.Tensor) -> torch.Tensor:\n",
    "        \"\"\"Forward method implementation.\"\"\"\n",
    "        return self.layers(x)"
   ]
  },
  {
   "cell_type": "markdown",
   "metadata": {},
   "source": [
    "## Double DQN Agent\n",
    "\n",
    "Here is a summary of DQNAgent class.\n",
    "\n",
    "| Method           | Note                                                 |\n",
    "| ---              | ---                                                  |\n",
    "|select_action     | select an action from the input state.               |\n",
    "|step              | take an action and return the response of the env.   |\n",
    "|compute_dqn_loss  | return dqn loss.                                     |\n",
    "|update_model      | update the model by gradient descent.                |\n",
    "|target_hard_update| hard update from the local model to the target model.|\n",
    "|train             | train the agent during num_frames.                   |\n",
    "|test              | test the agent (1 episode).                          |\n",
    "|plot              | plot the training progresses.                        |\n",
    "\n",
    "We use `self.dqn` instead of `self.dqn_target` for action selection.\n",
    "\n",
    "```\n",
    "\n",
    "        next_q_value = self.dqn_target(next_state).gather(\n",
    "            1, self.dqn(next_state).argmax(dim=1, keepdim=True)  # Double DQN\n",
    "        ).detach()\n",
    "        mask = 1 - done\n",
    "        target = (reward + self.gamma * next_q_value * mask).to(self.device)\n",
    "```"
   ]
  },
  {
   "cell_type": "code",
   "execution_count": 5,
   "metadata": {},
   "outputs": [],
   "source": [
    "class DQNAgent:\n",
    "    \"\"\"DQN Agent interacting with environment.\n",
    "    \n",
    "    Attribute:\n",
    "        env (gym.Env): openAI Gym environment\n",
    "        memory (ReplayBuffer): replay memory to store transitions\n",
    "        batch_size (int): batch size for sampling\n",
    "        epsilon (float): parameter for epsilon greedy policy\n",
    "        epsilon_decay (float): step size to decrease epsilon\n",
    "        max_epsilon (float): max value of epsilon\n",
    "        min_epsilon (float): min value of epsilon\n",
    "        target_update (int): period for target model's hard update\n",
    "        gamma (float): discount factor\n",
    "        dqn (Network): model to train and select actions\n",
    "        dqn_target (Network): target model to update\n",
    "        optimizer (torch.optim): optimizer for training dqn\n",
    "        transition (list): transition information including \n",
    "                           state, action, reward, next_state, done\n",
    "    \"\"\"\n",
    "\n",
    "    def __init__(\n",
    "        self, \n",
    "        env: gym.Env,\n",
    "        memory_size: int,\n",
    "        batch_size: int,\n",
    "        target_update: int,\n",
    "        epsilon_decay: float,\n",
    "        max_epsilon: float = 1.0,\n",
    "        min_epsilon: float = 0.1,\n",
    "        gamma: float = 0.99,\n",
    "    ):\n",
    "        \"\"\"Initialization.\n",
    "        \n",
    "        Args:\n",
    "            env (gym.Env): openAI Gym environment\n",
    "            memory_size (int): length of memory\n",
    "            batch_size (int): batch size for sampling\n",
    "            target_update (int): period for target model's hard update\n",
    "            epsilon_decay (float): step size to decrease epsilon\n",
    "            lr (float): learning rate\n",
    "            max_epsilon (float): max value of epsilon\n",
    "            min_epsilon (float): min value of epsilon\n",
    "            gamma (float): discount factor\n",
    "        \"\"\"\n",
    "        obs_dim = env.observation_space.shape[0]\n",
    "        action_dim = env.action_space.n\n",
    "        \n",
    "        self.env = env\n",
    "        self.memory = ReplayBuffer(obs_dim, memory_size, batch_size)\n",
    "        self.batch_size = batch_size\n",
    "        self.epsilon = max_epsilon\n",
    "        self.epsilon_decay = epsilon_decay\n",
    "        self.max_epsilon = max_epsilon\n",
    "        self.min_epsilon = min_epsilon\n",
    "        self.target_update = target_update\n",
    "        self.gamma = gamma\n",
    "        \n",
    "        # device: cpu / gpu\n",
    "        self.device = torch.device(\n",
    "            \"cuda\" if torch.cuda.is_available() else \"cpu\"\n",
    "        )\n",
    "        print(self.device)\n",
    "\n",
    "        # networks: dqn, dqn_target\n",
    "        self.dqn = Network(obs_dim, action_dim).to(self.device)\n",
    "        self.dqn_target = Network(obs_dim, action_dim).to(self.device)\n",
    "        self.dqn_target.load_state_dict(self.dqn.state_dict())\n",
    "        self.dqn_target.eval()\n",
    "        \n",
    "        # optimizer\n",
    "        self.optimizer = optim.Adam(self.dqn.parameters())\n",
    "\n",
    "        # transition to store in memory\n",
    "        self.transition = list()\n",
    "        \n",
    "        # mode: train / test\n",
    "        self.is_test = False\n",
    "\n",
    "    def select_action(self, state: np.ndarray) -> np.ndarray:\n",
    "        \"\"\"Select an action from the input state.\"\"\"\n",
    "        # epsilon greedy policy\n",
    "        if self.epsilon > np.random.random():\n",
    "            selected_action = self.env.action_space.sample()\n",
    "        else:\n",
    "            selected_action = self.dqn(\n",
    "                torch.FloatTensor(state).to(self.device)\n",
    "            ).argmax()\n",
    "            selected_action = selected_action.detach().cpu().numpy()\n",
    "        \n",
    "        if not self.is_test:\n",
    "            self.transition = [state, selected_action]\n",
    "        \n",
    "        return selected_action\n",
    "\n",
    "    def step(self, action: np.ndarray) -> Tuple[np.ndarray, np.float64, bool]:\n",
    "        \"\"\"Take an action and return the response of the env.\"\"\"\n",
    "        next_state, reward, done, _ = self.env.step(action)\n",
    "\n",
    "        if not self.is_test:\n",
    "            self.transition += [reward, next_state, done]\n",
    "            self.memory.store(*self.transition)\n",
    "    \n",
    "        return next_state, reward, done\n",
    "\n",
    "    def update_model(self) -> torch.Tensor:\n",
    "        \"\"\"Update the model by gradient descent.\"\"\"\n",
    "        samples = self.memory.sample_batch()\n",
    "\n",
    "        loss = self._compute_dqn_loss(samples)\n",
    "\n",
    "        self.optimizer.zero_grad()\n",
    "        loss.backward()\n",
    "        self.optimizer.step()\n",
    "\n",
    "        return loss.item()\n",
    "        \n",
    "    def train(self, num_frames: int, plotting_interval: int = 200):\n",
    "        \"\"\"Train the agent.\"\"\"\n",
    "        self.is_test = False\n",
    "        \n",
    "        state = self.env.reset()\n",
    "        update_cnt = 0\n",
    "        epsilons = []\n",
    "        losses = []\n",
    "        scores = []\n",
    "        score = 0\n",
    "\n",
    "        for frame_idx in range(1, num_frames + 1):\n",
    "            action = self.select_action(state)\n",
    "            next_state, reward, done = self.step(action)\n",
    "\n",
    "            state = next_state\n",
    "            score += reward\n",
    "\n",
    "            # if episode ends\n",
    "            if done:\n",
    "                state = env.reset()\n",
    "                scores.append(score)\n",
    "                score = 0\n",
    "\n",
    "            # if training is ready\n",
    "            if len(self.memory) >= self.batch_size:\n",
    "                loss = self.update_model()\n",
    "                losses.append(loss)\n",
    "                update_cnt += 1\n",
    "                \n",
    "                # linearly decrease epsilon\n",
    "                self.epsilon = max(\n",
    "                    self.min_epsilon, self.epsilon - (\n",
    "                        self.max_epsilon - self.min_epsilon\n",
    "                    ) * self.epsilon_decay\n",
    "                )\n",
    "                epsilons.append(self.epsilon)\n",
    "                \n",
    "                # if hard update is needed\n",
    "                if update_cnt % self.target_update == 0:\n",
    "                    self._target_hard_update()\n",
    "\n",
    "            # plotting\n",
    "            if frame_idx % plotting_interval == 0:\n",
    "                self._plot(frame_idx, scores, losses, epsilons)\n",
    "                \n",
    "        self.env.close()\n",
    "                \n",
    "    def test(self) -> None:\n",
    "        \"\"\"Test the agent.\"\"\"\n",
    "        self.is_test = True\n",
    "        \n",
    "        state = self.env.reset()\n",
    "        done = False\n",
    "        score = 0\n",
    "        \n",
    "        while not done:\n",
    "            self.env.render()\n",
    "            action = self.select_action(state)\n",
    "            next_state, reward, done = self.step(action)\n",
    "\n",
    "            state = next_state\n",
    "            score += reward\n",
    "        \n",
    "        print(\"score: \", score)\n",
    "        self.env.close()\n",
    "\n",
    "    def _compute_dqn_loss(self, samples: Dict[str, np.ndarray]) -> torch.Tensor:\n",
    "        \"\"\"Return dqn loss.\"\"\"\n",
    "        device = self.device  # for shortening the following lines\n",
    "        state = torch.FloatTensor(samples[\"obs\"]).to(device)\n",
    "        next_state = torch.FloatTensor(samples[\"next_obs\"]).to(device)\n",
    "        action = torch.LongTensor(samples[\"acts\"].reshape(-1, 1)).to(device)\n",
    "        reward = torch.FloatTensor(samples[\"rews\"].reshape(-1, 1)).to(device)\n",
    "        done = torch.FloatTensor(samples[\"done\"].reshape(-1, 1)).to(device)\n",
    "        \n",
    "        # G_t   = r + gamma * v(s_{t+1})  if state != Terminal\n",
    "        #       = r                       otherwise\n",
    "        curr_q_value = self.dqn(state).gather(1, action)\n",
    "        next_q_value = self.dqn_target(next_state).gather(  # Double DQN\n",
    "            1, self.dqn(next_state).argmax(dim=1, keepdim=True)\n",
    "        ).detach()\n",
    "        mask = 1 - done\n",
    "        target = (reward + self.gamma * next_q_value * mask).to(self.device)\n",
    "\n",
    "        # calculate dqn loss\n",
    "        loss = F.smooth_l1_loss(curr_q_value, target)\n",
    "\n",
    "        return loss\n",
    "    \n",
    "    def _target_hard_update(self):\n",
    "        \"\"\"Hard update: target <- local.\"\"\"\n",
    "        self.dqn_target.load_state_dict(self.dqn.state_dict())\n",
    "                \n",
    "    def _plot(\n",
    "        self, \n",
    "        frame_idx: int, \n",
    "        scores: List[float], \n",
    "        losses: List[float], \n",
    "        epsilons: List[float],\n",
    "    ):\n",
    "        \"\"\"Plot the training progresses.\"\"\"\n",
    "        clear_output(True)\n",
    "        plt.figure(figsize=(20, 5))\n",
    "        plt.subplot(131)\n",
    "        plt.title('frame %s. score: %s' % (frame_idx, np.mean(scores[-10:])))\n",
    "        plt.plot(scores)\n",
    "        plt.subplot(132)\n",
    "        plt.title('loss')\n",
    "        plt.plot(losses)\n",
    "        plt.subplot(133)\n",
    "        plt.title('epsilons')\n",
    "        plt.plot(epsilons)\n",
    "        plt.show()"
   ]
  },
  {
   "cell_type": "markdown",
   "metadata": {},
   "source": [
    "## Environment\n",
    "\n",
    "You can see the [code](https://github.com/openai/gym/blob/master/gym/envs/classic_control/cartpole.py) and [configurations](https://github.com/openai/gym/blob/master/gym/envs/__init__.py#L53) of CartPole-v0 from OpenAI's repository."
   ]
  },
  {
   "cell_type": "code",
   "execution_count": 6,
   "metadata": {},
   "outputs": [],
   "source": [
    "# environment\n",
    "env_id = \"CartPole-v0\"\n",
    "env = gym.make(env_id)"
   ]
  },
  {
   "cell_type": "markdown",
   "metadata": {},
   "source": [
    "## Set random seed"
   ]
  },
  {
   "cell_type": "code",
   "execution_count": 7,
   "metadata": {},
   "outputs": [
    {
     "data": {
      "text/plain": [
       "[777]"
      ]
     },
     "execution_count": 7,
     "metadata": {},
     "output_type": "execute_result"
    }
   ],
   "source": [
    "seed = 777\n",
    "\n",
    "def seed_torch(seed):\n",
    "    torch.manual_seed(seed)\n",
    "    if torch.backends.cudnn.enabled:\n",
    "        torch.backends.cudnn.benchmark = False\n",
    "        torch.backends.cudnn.deterministic = True\n",
    "\n",
    "np.random.seed(seed)\n",
    "seed_torch(seed)\n",
    "env.seed(seed)"
   ]
  },
  {
   "cell_type": "markdown",
   "metadata": {},
   "source": [
    "## Initialize"
   ]
  },
  {
   "cell_type": "code",
   "execution_count": 11,
   "metadata": {},
   "outputs": [
    {
     "name": "stdout",
     "output_type": "stream",
     "text": [
      "cuda\n"
     ]
    }
   ],
   "source": [
    "# parameters\n",
    "num_frames = 20000\n",
    "memory_size = 1000\n",
    "batch_size = 32\n",
    "target_update = 200\n",
    "epsilon_decay = 1 / 2000\n",
    "\n",
    "# train\n",
    "agent = DQNAgent(env, memory_size, batch_size, target_update, epsilon_decay)"
   ]
  },
  {
   "cell_type": "markdown",
   "metadata": {},
   "source": [
    "## Train"
   ]
  },
  {
   "cell_type": "code",
   "execution_count": 12,
   "metadata": {},
   "outputs": [
    {
     "data": {
      "image/png": "[encoded data removed]",
      "text/plain": [
       "<Figure size 1440x360 with 3 Axes>"
      ]
     },
     "metadata": {
      "needs_background": "light"
     },
     "output_type": "display_data"
    }
   ],
   "source": [
    "agent.train(num_frames)"
   ]
  },
  {
   "cell_type": "markdown",
   "metadata": {},
   "source": [
    "## Test\n",
    "\n",
    "Run the trained agent (1 episode)."
   ]
  },
  {
   "cell_type": "code",
   "execution_count": 13,
   "metadata": {},
   "outputs": [
    {
     "name": "stdout",
     "output_type": "stream",
     "text": [
      "score:  200.0\n"
     ]
    }
   ],
   "source": [
    "agent.env = gym.wrappers.Monitor(env, \"videos\", force=True)\n",
    "agent.test()"
   ]
  },
  {
   "cell_type": "markdown",
   "metadata": {},
   "source": [
    "## Render"
   ]
  },
  {
   "cell_type": "code",
   "execution_count": 14,
   "metadata": {},
   "outputs": [
    {
     "name": "stdout",
     "output_type": "stream",
     "text": [
      "videos/openaigym.video.1.13263.video000000.mp4\n"
     ]
    },
    {
     "data": {
      "text/html": [
       "\n",
       "        <video alt=\"test\" controls>\n",
       "        <source src=\"data:video/mp4;base64,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\" type=\"video/mp4\" />\n",
       "        </video>\n",
       "        "
      ],
      "text/plain": [
       "<IPython.core.display.HTML object>"
      ]
     },
     "metadata": {},
     "output_type": "display_data"
    }
   ],
   "source": [
    "import os\n",
    "import io\n",
    "import base64\n",
    "import glob\n",
    "\n",
    "from IPython.display import display, HTML\n",
    "\n",
    "\n",
    "def ipython_show_video(path: str) -> None:\n",
    "    \"\"\"Show a video at `path` within IPython Notebook.\"\"\"\n",
    "    print(latest_file)\n",
    "    \n",
    "    if not os.path.isfile(path):\n",
    "        raise NameError(\"Cannot access: {}\".format(path))\n",
    "\n",
    "    video = io.open(path, 'r+b').read()\n",
    "    encoded = base64.b64encode(video)\n",
    "\n",
    "    display(HTML(\n",
    "        data=\"\"\"\n",
    "        <video alt=\"test\" controls>\n",
    "        <source src=\"data:video/mp4;base64,{0}\" type=\"video/mp4\" />\n",
    "        </video>\n",
    "        \"\"\".format(encoded.decode(\"ascii\"))\n",
    "    ))\n",
    "\n",
    "list_of_files = glob.glob('videos/*.mp4')\n",
    "latest_file = max(list_of_files, key=os.path.getctime)\n",
    "ipython_show_video(latest_file)"
   ]
  }
 ],
 "metadata": {
  "kernelspec": {
   "display_name": "Python 3",
   "language": "python",
   "name": "python3"
  },
  "language_info": {
   "codemirror_mode": {
    "name": "ipython",
    "version": 3
   },
   "file_extension": ".py",
   "mimetype": "text/x-python",
   "name": "python",
   "nbconvert_exporter": "python",
   "pygments_lexer": "ipython3",
   "version": "3.6.10"
  }
 },
 "nbformat": 4,
 "nbformat_minor": 2
}
